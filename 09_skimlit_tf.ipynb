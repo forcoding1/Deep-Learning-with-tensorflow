{
  "cells": [
    {
      "cell_type": "code",
      "execution_count": null,
      "metadata": {
        "colab": {
          "base_uri": "https://localhost:8080/"
        },
        "id": "D0J0VIXxj6e2",
        "outputId": "5814b545-f51e-4dce-85d2-83a45fe5599b"
      },
      "outputs": [
        {
          "output_type": "stream",
          "name": "stdout",
          "text": [
            "Tue Aug  8 14:55:12 2023       \n",
            "+-----------------------------------------------------------------------------+\n",
            "| NVIDIA-SMI 525.105.17   Driver Version: 525.105.17   CUDA Version: 12.0     |\n",
            "|-------------------------------+----------------------+----------------------+\n",
            "| GPU  Name        Persistence-M| Bus-Id        Disp.A | Volatile Uncorr. ECC |\n",
            "| Fan  Temp  Perf  Pwr:Usage/Cap|         Memory-Usage | GPU-Util  Compute M. |\n",
            "|                               |                      |               MIG M. |\n",
            "|===============================+======================+======================|\n",
            "|   0  Tesla T4            Off  | 00000000:00:04.0 Off |                    0 |\n",
            "| N/A   67C    P8    11W /  70W |      0MiB / 15360MiB |      0%      Default |\n",
            "|                               |                      |                  N/A |\n",
            "+-------------------------------+----------------------+----------------------+\n",
            "                                                                               \n",
            "+-----------------------------------------------------------------------------+\n",
            "| Processes:                                                                  |\n",
            "|  GPU   GI   CI        PID   Type   Process name                  GPU Memory |\n",
            "|        ID   ID                                                   Usage      |\n",
            "|=============================================================================|\n",
            "|  No running processes found                                                 |\n",
            "+-----------------------------------------------------------------------------+\n"
          ]
        }
      ],
      "source": [
        "!nvidia-smi"
      ]
    },
    {
      "cell_type": "markdown",
      "metadata": {
        "id": "DiZXKkaej9NR"
      },
      "source": [
        "#Goal is to recreate paper PubMed 200 RCT\n",
        "\n",
        "Pubmed paper : https://arxiv.org/pdf/1710.06071.pdf\n",
        "\n",
        "--paper we are deriving our model from:\n",
        "Neural Networks for Joint Sentence Classification\n",
        "in Medical Paper Abstracts: https://arxiv.org/pdf/1612.05251.pdf"
      ]
    },
    {
      "cell_type": "markdown",
      "metadata": {
        "id": "qU1zhz7GlWMw"
      },
      "source": [
        "Downloading the dataset"
      ]
    },
    {
      "cell_type": "code",
      "execution_count": null,
      "metadata": {
        "colab": {
          "base_uri": "https://localhost:8080/"
        },
        "id": "crbkJotOlYoR",
        "outputId": "0caa9a27-39a7-40ad-9be4-49c48c8752f1"
      },
      "outputs": [
        {
          "output_type": "stream",
          "name": "stdout",
          "text": [
            "Cloning into 'pubmed-rct'...\n",
            "remote: Enumerating objects: 33, done.\u001b[K\n",
            "remote: Counting objects: 100% (8/8), done.\u001b[K\n",
            "remote: Compressing objects: 100% (3/3), done.\u001b[K\n",
            "remote: Total 33 (delta 5), reused 5 (delta 5), pack-reused 25\u001b[K\n",
            "Receiving objects: 100% (33/33), 177.08 MiB | 11.84 MiB/s, done.\n",
            "Resolving deltas: 100% (12/12), done.\n",
            "Updating files: 100% (13/13), done.\n",
            "PubMed_200k_RCT\n",
            "PubMed_200k_RCT_numbers_replaced_with_at_sign\n",
            "PubMed_20k_RCT\n",
            "PubMed_20k_RCT_numbers_replaced_with_at_sign\n",
            "README.md\n"
          ]
        }
      ],
      "source": [
        "!git clone https://github.com/Franck-Dernoncourt/pubmed-rct.git\n",
        "!ls pubmed-rct"
      ]
    },
    {
      "cell_type": "code",
      "execution_count": null,
      "metadata": {
        "colab": {
          "base_uri": "https://localhost:8080/"
        },
        "id": "UeQ975Oglf_b",
        "outputId": "189fd103-ade6-45a1-b225-e681456ee4ec"
      },
      "outputs": [
        {
          "output_type": "stream",
          "name": "stdout",
          "text": [
            "dev.txt  test.txt  train.txt\n"
          ]
        }
      ],
      "source": [
        "data_dir = \"pubmed-rct/PubMed_20k_RCT_numbers_replaced_with_at_sign/\"\n",
        "!ls pubmed-rct/PubMed_20k_RCT_numbers_replaced_with_at_sign/"
      ]
    },
    {
      "cell_type": "markdown",
      "metadata": {
        "id": "p1L0iOP7ovLI"
      },
      "source": [
        "dev is validation dataset"
      ]
    },
    {
      "cell_type": "code",
      "execution_count": null,
      "metadata": {
        "colab": {
          "base_uri": "https://localhost:8080/"
        },
        "id": "pclYNynZoGfc",
        "outputId": "0beacffc-42d5-4889-dca8-76a947b22e81"
      },
      "outputs": [
        {
          "output_type": "execute_result",
          "data": {
            "text/plain": [
              "['pubmed-rct/PubMed_20k_RCT_numbers_replaced_with_at_sign/train.txt',\n",
              " 'pubmed-rct/PubMed_20k_RCT_numbers_replaced_with_at_sign/dev.txt',\n",
              " 'pubmed-rct/PubMed_20k_RCT_numbers_replaced_with_at_sign/test.txt']"
            ]
          },
          "metadata": {},
          "execution_count": 4
        }
      ],
      "source": [
        "import os\n",
        "\n",
        "filenames = [data_dir+i for i in os.listdir(data_dir)]\n",
        "filenames"
      ]
    },
    {
      "cell_type": "code",
      "execution_count": null,
      "metadata": {
        "id": "-18Xe0h4qxcR"
      },
      "outputs": [],
      "source": [
        "#writing function\n",
        "def file_to_list(dir_path):\n",
        "  \"\"\"Converts dir_path to abstract list\"\"\"\n",
        "  with open(dir_path, 'r') as reader:\n",
        "    text = reader.read()\n",
        "    text_list = text.split('\\n\\n')\n",
        "  return text_list\n"
      ]
    },
    {
      "cell_type": "code",
      "execution_count": null,
      "metadata": {
        "id": "Pe_4gX51oIrv"
      },
      "outputs": [],
      "source": [
        "# # testing for function\n",
        "# f = open(filenames[0], 'r')\n",
        "# train_text = f.read()\n",
        "\n",
        "# train_text_list = train_text.split('\\n\\n')\n",
        "# len(train_text),  train_text_list[:4]"
      ]
    },
    {
      "cell_type": "code",
      "execution_count": null,
      "metadata": {
        "colab": {
          "base_uri": "https://localhost:8080/"
        },
        "id": "7iu9IpX2sUyS",
        "outputId": "9e00ecd0-12a4-410b-a9d8-247608b7f2ed"
      },
      "outputs": [
        {
          "output_type": "execute_result",
          "data": {
            "text/plain": [
              "(2501,\n",
              " [\"###24845963\\nBACKGROUND\\tThis study analyzed liver function abnormalities in heart failure patients admitted with severe acute decompensated heart failure ( ADHF ) .\\nRESULTS\\tA post hoc analysis was conducted with the use of data from the Evaluation Study of Congestive Heart Failure and Pulmonary Artery Catheterization Effectiveness ( ESCAPE ) .\\nRESULTS\\tLiver function tests ( LFTs ) were measured at @ time points from baseline , at discharge , and up to @ months follow-up .\\nRESULTS\\tSurvival analyses were used to assess the association between admission Model of End-Stage Liver Disease Excluding International Normalized Ratio ( MELD-XI ) scores and patient outcome.There was a high prevalence of abnormal baseline ( admission ) LFTs ( albumin @ % , aspartate transaminase @ % , alanine transaminase @ % , and total bilirubin @ % ) .\\nRESULTS\\tThe percentage of patients with abnormal LFTs decreased significantly from baseline to @-months ' follow-up .\\nRESULTS\\tWhen mean hemodynamic profiles were compared in patients with abnormal versus normal LFTs , elevated total bilirubin was associated with a significantly lower cardiac index ( @ vs @ ; P < @ ) and higher central venous pressure ( @ vs @ ; P = @ ) .\\nRESULTS\\tMultivariable analyses revealed that patients with elevated MELD-XI scores ( @ ) had a @-fold ( hazard ratio@ @ , @ % confidence interval @-@ @ ) increased risk of death , rehospitalization , or transplantation after adjusting for baseline LFTs , age , sex , race , body mass index , diabetes , and systolic blood pressure .\\nCONCLUSIONS\\tAbnormal LFTs are common in the ADHF population and are a dynamic marker of an impaired hemodynamic state .\\nCONCLUSIONS\\tElevated MELD-XI scores are associated with poor outcomes among patients admitted with ADHF .\",\n",
              "  '###24469619\\nBACKGROUND\\tMinimally invasive endovascular aneurysm repair ( EVAR ) could be a surgical technique that improves outcome of patients with ruptured abdominal aortic aneurysm ( rAAA ) .\\nBACKGROUND\\tThe aim of this study was to analyse the cost-effectiveness and cost-utility of EVAR compared with standard open repair ( OR ) in the treatment of rAAA , with costs per @-day and @-month survivor as outcome parameters .\\nMETHODS\\tResource use was determined from the Amsterdam Acute Aneurysm ( AJAX ) trial , a multicentre randomized trial comparing EVAR with OR in patients with rAAA .\\nMETHODS\\tThe analysis was performed from a provider perspective .\\nMETHODS\\tAll costs were calculated as if all patients had been treated in the same hospital ( Onze Lieve Vrouwe Gasthuis , teaching hospital ) .\\nRESULTS\\tA total of @ patients were randomized .\\nRESULTS\\tThe @-day mortality rate was @ per cent after EVAR and @ per cent for OR : absolute risk reduction ( ARR ) @ ( @ per cent confidence interval ( c.i. ) -@ to @ ) per cent .\\nRESULTS\\tAt @months , the total mortality rate for EVAR was @ per cent , compared with @ per cent among those assigned to OR : ARR @ ( -@ to @ ) per cent .\\nRESULTS\\tThe mean cost difference between EVAR and OR was @ ( @ per cent c.i. -@ to @,@ ) at @days and @,@ ( -@ to @,@ ) at @months .\\nRESULTS\\tThe incremental cost-effectiveness ratio per prevented death was @,@ at @days and @,@ at @months .\\nRESULTS\\tThere was no significant difference in quality of life between EVAR and OR .\\nRESULTS\\tNor was EVAR superior regarding cost-utility .\\nCONCLUSIONS\\tEVAR may be more effective for rAAA , but its increased costs mean that it is unaffordable based on current standards of societal willingness-to-pay for health gains .'])"
            ]
          },
          "metadata": {},
          "execution_count": 7
        }
      ],
      "source": [
        "abstract_list = file_to_list(filenames[2])\n",
        "len(abstract_list), abstract_list[:2]"
      ]
    },
    {
      "cell_type": "markdown",
      "metadata": {
        "id": "pKFRTbm-Mikb"
      },
      "source": [
        "      [{\"target\": 'CONCLUSION',\n",
        "        \"text\": The study couldn't have gone better, turns out people are kinder than you think\",\n",
        "        \"line_number\": 8,\n",
        "        \"total_lines\": 8}]"
      ]
    },
    {
      "cell_type": "code",
      "execution_count": null,
      "metadata": {
        "id": "zlRHIkRjOhZ5"
      },
      "outputs": [],
      "source": [
        "def abstract_to_list(filename):\n",
        "  abstract_list = file_to_list(filename)\n",
        "  train_dict_l = []\n",
        "\n",
        "  for i in abstract_list:\n",
        "    lines = i.split(\"\\n\")\n",
        "    total_lines = len(lines)\n",
        "    for i in range(1, total_lines):\n",
        "      line_data = {}\n",
        "      target, text =lines[i].split(\"\\t\")\n",
        "      line_data[\"target\"] = target\n",
        "      line_data[\"text\"] = text.lower()\n",
        "      line_data[\"line_number\"] = i-1\n",
        "      line_data[\"total_lines\"] = total_lines - 2\n",
        "      train_dict_l.append(line_data)\n",
        "  return train_dict_l"
      ]
    },
    {
      "cell_type": "markdown",
      "metadata": {
        "id": "_6-3dCi-bfnf"
      },
      "source": [
        "\n",
        "\n",
        "\n",
        "##change everytime files to dictionary"
      ]
    },
    {
      "cell_type": "code",
      "execution_count": null,
      "metadata": {
        "colab": {
          "base_uri": "https://localhost:8080/"
        },
        "id": "N1tF7mojQs67",
        "outputId": "0059abd0-3d02-4ff0-fc97-8f37f54a753a"
      },
      "outputs": [
        {
          "output_type": "execute_result",
          "data": {
            "text/plain": [
              "(180040, 30212, 30135)"
            ]
          },
          "metadata": {},
          "execution_count": 9
        }
      ],
      "source": [
        "test_dict = abstract_to_list(filenames[2])\n",
        "val_dict = abstract_to_list(filenames[1])\n",
        "train_dict = abstract_to_list(filenames[0])\n",
        "len(train_dict), len(val_dict), len(test_dict)"
      ]
    },
    {
      "cell_type": "code",
      "execution_count": null,
      "metadata": {
        "colab": {
          "base_uri": "https://localhost:8080/",
          "height": 488
        },
        "id": "okr0-vwVv3Qh",
        "outputId": "1a30dfda-ceed-4b32-bb40-08f5bea8701b"
      },
      "outputs": [
        {
          "output_type": "execute_result",
          "data": {
            "text/plain": [
              "         target                                               text  \\\n",
              "0     OBJECTIVE  to investigate the efficacy of @ weeks of dail...   \n",
              "1       METHODS  a total of @ patients with primary knee oa wer...   \n",
              "2       METHODS  outcome measures included pain reduction and i...   \n",
              "3       METHODS  pain was assessed using the visual analog pain...   \n",
              "4       METHODS  secondary outcome measures included the wester...   \n",
              "5       METHODS  serum levels of interleukin @ ( il-@ ) , il-@ ...   \n",
              "6       RESULTS  there was a clinically relevant reduction in t...   \n",
              "7       RESULTS  the mean difference between treatment arms ( @...   \n",
              "8       RESULTS  further , there was a clinically relevant redu...   \n",
              "9       RESULTS  these differences remained significant at @ we...   \n",
              "10      RESULTS  the outcome measures in rheumatology clinical ...   \n",
              "11  CONCLUSIONS  low-dose oral prednisolone had both a short-te...   \n",
              "12   BACKGROUND  emotional eating is associated with overeating...   \n",
              "13   BACKGROUND  yet , empirical evidence for individual ( trai...   \n",
              "\n",
              "    line_number  total_lines  \n",
              "0             0           11  \n",
              "1             1           11  \n",
              "2             2           11  \n",
              "3             3           11  \n",
              "4             4           11  \n",
              "5             5           11  \n",
              "6             6           11  \n",
              "7             7           11  \n",
              "8             8           11  \n",
              "9             9           11  \n",
              "10           10           11  \n",
              "11           11           11  \n",
              "12            0           10  \n",
              "13            1           10  "
            ],
            "text/html": [
              "\n",
              "\n",
              "  <div id=\"df-6a8020cb-a417-4d4e-bbe3-931eea55a24c\">\n",
              "    <div class=\"colab-df-container\">\n",
              "      <div>\n",
              "<style scoped>\n",
              "    .dataframe tbody tr th:only-of-type {\n",
              "        vertical-align: middle;\n",
              "    }\n",
              "\n",
              "    .dataframe tbody tr th {\n",
              "        vertical-align: top;\n",
              "    }\n",
              "\n",
              "    .dataframe thead th {\n",
              "        text-align: right;\n",
              "    }\n",
              "</style>\n",
              "<table border=\"1\" class=\"dataframe\">\n",
              "  <thead>\n",
              "    <tr style=\"text-align: right;\">\n",
              "      <th></th>\n",
              "      <th>target</th>\n",
              "      <th>text</th>\n",
              "      <th>line_number</th>\n",
              "      <th>total_lines</th>\n",
              "    </tr>\n",
              "  </thead>\n",
              "  <tbody>\n",
              "    <tr>\n",
              "      <th>0</th>\n",
              "      <td>OBJECTIVE</td>\n",
              "      <td>to investigate the efficacy of @ weeks of dail...</td>\n",
              "      <td>0</td>\n",
              "      <td>11</td>\n",
              "    </tr>\n",
              "    <tr>\n",
              "      <th>1</th>\n",
              "      <td>METHODS</td>\n",
              "      <td>a total of @ patients with primary knee oa wer...</td>\n",
              "      <td>1</td>\n",
              "      <td>11</td>\n",
              "    </tr>\n",
              "    <tr>\n",
              "      <th>2</th>\n",
              "      <td>METHODS</td>\n",
              "      <td>outcome measures included pain reduction and i...</td>\n",
              "      <td>2</td>\n",
              "      <td>11</td>\n",
              "    </tr>\n",
              "    <tr>\n",
              "      <th>3</th>\n",
              "      <td>METHODS</td>\n",
              "      <td>pain was assessed using the visual analog pain...</td>\n",
              "      <td>3</td>\n",
              "      <td>11</td>\n",
              "    </tr>\n",
              "    <tr>\n",
              "      <th>4</th>\n",
              "      <td>METHODS</td>\n",
              "      <td>secondary outcome measures included the wester...</td>\n",
              "      <td>4</td>\n",
              "      <td>11</td>\n",
              "    </tr>\n",
              "    <tr>\n",
              "      <th>5</th>\n",
              "      <td>METHODS</td>\n",
              "      <td>serum levels of interleukin @ ( il-@ ) , il-@ ...</td>\n",
              "      <td>5</td>\n",
              "      <td>11</td>\n",
              "    </tr>\n",
              "    <tr>\n",
              "      <th>6</th>\n",
              "      <td>RESULTS</td>\n",
              "      <td>there was a clinically relevant reduction in t...</td>\n",
              "      <td>6</td>\n",
              "      <td>11</td>\n",
              "    </tr>\n",
              "    <tr>\n",
              "      <th>7</th>\n",
              "      <td>RESULTS</td>\n",
              "      <td>the mean difference between treatment arms ( @...</td>\n",
              "      <td>7</td>\n",
              "      <td>11</td>\n",
              "    </tr>\n",
              "    <tr>\n",
              "      <th>8</th>\n",
              "      <td>RESULTS</td>\n",
              "      <td>further , there was a clinically relevant redu...</td>\n",
              "      <td>8</td>\n",
              "      <td>11</td>\n",
              "    </tr>\n",
              "    <tr>\n",
              "      <th>9</th>\n",
              "      <td>RESULTS</td>\n",
              "      <td>these differences remained significant at @ we...</td>\n",
              "      <td>9</td>\n",
              "      <td>11</td>\n",
              "    </tr>\n",
              "    <tr>\n",
              "      <th>10</th>\n",
              "      <td>RESULTS</td>\n",
              "      <td>the outcome measures in rheumatology clinical ...</td>\n",
              "      <td>10</td>\n",
              "      <td>11</td>\n",
              "    </tr>\n",
              "    <tr>\n",
              "      <th>11</th>\n",
              "      <td>CONCLUSIONS</td>\n",
              "      <td>low-dose oral prednisolone had both a short-te...</td>\n",
              "      <td>11</td>\n",
              "      <td>11</td>\n",
              "    </tr>\n",
              "    <tr>\n",
              "      <th>12</th>\n",
              "      <td>BACKGROUND</td>\n",
              "      <td>emotional eating is associated with overeating...</td>\n",
              "      <td>0</td>\n",
              "      <td>10</td>\n",
              "    </tr>\n",
              "    <tr>\n",
              "      <th>13</th>\n",
              "      <td>BACKGROUND</td>\n",
              "      <td>yet , empirical evidence for individual ( trai...</td>\n",
              "      <td>1</td>\n",
              "      <td>10</td>\n",
              "    </tr>\n",
              "  </tbody>\n",
              "</table>\n",
              "</div>\n",
              "      <button class=\"colab-df-convert\" onclick=\"convertToInteractive('df-6a8020cb-a417-4d4e-bbe3-931eea55a24c')\"\n",
              "              title=\"Convert this dataframe to an interactive table.\"\n",
              "              style=\"display:none;\">\n",
              "\n",
              "  <svg xmlns=\"http://www.w3.org/2000/svg\" height=\"24px\"viewBox=\"0 0 24 24\"\n",
              "       width=\"24px\">\n",
              "    <path d=\"M0 0h24v24H0V0z\" fill=\"none\"/>\n",
              "    <path d=\"M18.56 5.44l.94 2.06.94-2.06 2.06-.94-2.06-.94-.94-2.06-.94 2.06-2.06.94zm-11 1L8.5 8.5l.94-2.06 2.06-.94-2.06-.94L8.5 2.5l-.94 2.06-2.06.94zm10 10l.94 2.06.94-2.06 2.06-.94-2.06-.94-.94-2.06-.94 2.06-2.06.94z\"/><path d=\"M17.41 7.96l-1.37-1.37c-.4-.4-.92-.59-1.43-.59-.52 0-1.04.2-1.43.59L10.3 9.45l-7.72 7.72c-.78.78-.78 2.05 0 2.83L4 21.41c.39.39.9.59 1.41.59.51 0 1.02-.2 1.41-.59l7.78-7.78 2.81-2.81c.8-.78.8-2.07 0-2.86zM5.41 20L4 18.59l7.72-7.72 1.47 1.35L5.41 20z\"/>\n",
              "  </svg>\n",
              "      </button>\n",
              "\n",
              "\n",
              "\n",
              "    <div id=\"df-6cb093a3-e266-4853-b212-5518f6907489\">\n",
              "      <button class=\"colab-df-quickchart\" onclick=\"quickchart('df-6cb093a3-e266-4853-b212-5518f6907489')\"\n",
              "              title=\"Suggest charts.\"\n",
              "              style=\"display:none;\">\n",
              "\n",
              "<svg xmlns=\"http://www.w3.org/2000/svg\" height=\"24px\"viewBox=\"0 0 24 24\"\n",
              "     width=\"24px\">\n",
              "    <g>\n",
              "        <path d=\"M19 3H5c-1.1 0-2 .9-2 2v14c0 1.1.9 2 2 2h14c1.1 0 2-.9 2-2V5c0-1.1-.9-2-2-2zM9 17H7v-7h2v7zm4 0h-2V7h2v10zm4 0h-2v-4h2v4z\"/>\n",
              "    </g>\n",
              "</svg>\n",
              "      </button>\n",
              "    </div>\n",
              "\n",
              "<style>\n",
              "  .colab-df-quickchart {\n",
              "    background-color: #E8F0FE;\n",
              "    border: none;\n",
              "    border-radius: 50%;\n",
              "    cursor: pointer;\n",
              "    display: none;\n",
              "    fill: #1967D2;\n",
              "    height: 32px;\n",
              "    padding: 0 0 0 0;\n",
              "    width: 32px;\n",
              "  }\n",
              "\n",
              "  .colab-df-quickchart:hover {\n",
              "    background-color: #E2EBFA;\n",
              "    box-shadow: 0px 1px 2px rgba(60, 64, 67, 0.3), 0px 1px 3px 1px rgba(60, 64, 67, 0.15);\n",
              "    fill: #174EA6;\n",
              "  }\n",
              "\n",
              "  [theme=dark] .colab-df-quickchart {\n",
              "    background-color: #3B4455;\n",
              "    fill: #D2E3FC;\n",
              "  }\n",
              "\n",
              "  [theme=dark] .colab-df-quickchart:hover {\n",
              "    background-color: #434B5C;\n",
              "    box-shadow: 0px 1px 3px 1px rgba(0, 0, 0, 0.15);\n",
              "    filter: drop-shadow(0px 1px 2px rgba(0, 0, 0, 0.3));\n",
              "    fill: #FFFFFF;\n",
              "  }\n",
              "</style>\n",
              "\n",
              "    <script>\n",
              "      async function quickchart(key) {\n",
              "        const containerElement = document.querySelector('#' + key);\n",
              "        const charts = await google.colab.kernel.invokeFunction(\n",
              "            'suggestCharts', [key], {});\n",
              "      }\n",
              "    </script>\n",
              "\n",
              "      <script>\n",
              "\n",
              "function displayQuickchartButton(domScope) {\n",
              "  let quickchartButtonEl =\n",
              "    domScope.querySelector('#df-6cb093a3-e266-4853-b212-5518f6907489 button.colab-df-quickchart');\n",
              "  quickchartButtonEl.style.display =\n",
              "    google.colab.kernel.accessAllowed ? 'block' : 'none';\n",
              "}\n",
              "\n",
              "        displayQuickchartButton(document);\n",
              "      </script>\n",
              "      <style>\n",
              "    .colab-df-container {\n",
              "      display:flex;\n",
              "      flex-wrap:wrap;\n",
              "      gap: 12px;\n",
              "    }\n",
              "\n",
              "    .colab-df-convert {\n",
              "      background-color: #E8F0FE;\n",
              "      border: none;\n",
              "      border-radius: 50%;\n",
              "      cursor: pointer;\n",
              "      display: none;\n",
              "      fill: #1967D2;\n",
              "      height: 32px;\n",
              "      padding: 0 0 0 0;\n",
              "      width: 32px;\n",
              "    }\n",
              "\n",
              "    .colab-df-convert:hover {\n",
              "      background-color: #E2EBFA;\n",
              "      box-shadow: 0px 1px 2px rgba(60, 64, 67, 0.3), 0px 1px 3px 1px rgba(60, 64, 67, 0.15);\n",
              "      fill: #174EA6;\n",
              "    }\n",
              "\n",
              "    [theme=dark] .colab-df-convert {\n",
              "      background-color: #3B4455;\n",
              "      fill: #D2E3FC;\n",
              "    }\n",
              "\n",
              "    [theme=dark] .colab-df-convert:hover {\n",
              "      background-color: #434B5C;\n",
              "      box-shadow: 0px 1px 3px 1px rgba(0, 0, 0, 0.15);\n",
              "      filter: drop-shadow(0px 1px 2px rgba(0, 0, 0, 0.3));\n",
              "      fill: #FFFFFF;\n",
              "    }\n",
              "  </style>\n",
              "\n",
              "      <script>\n",
              "        const buttonEl =\n",
              "          document.querySelector('#df-6a8020cb-a417-4d4e-bbe3-931eea55a24c button.colab-df-convert');\n",
              "        buttonEl.style.display =\n",
              "          google.colab.kernel.accessAllowed ? 'block' : 'none';\n",
              "\n",
              "        async function convertToInteractive(key) {\n",
              "          const element = document.querySelector('#df-6a8020cb-a417-4d4e-bbe3-931eea55a24c');\n",
              "          const dataTable =\n",
              "            await google.colab.kernel.invokeFunction('convertToInteractive',\n",
              "                                                     [key], {});\n",
              "          if (!dataTable) return;\n",
              "\n",
              "          const docLinkHtml = 'Like what you see? Visit the ' +\n",
              "            '<a target=\"_blank\" href=https://colab.research.google.com/notebooks/data_table.ipynb>data table notebook</a>'\n",
              "            + ' to learn more about interactive tables.';\n",
              "          element.innerHTML = '';\n",
              "          dataTable['output_type'] = 'display_data';\n",
              "          await google.colab.output.renderOutput(dataTable, element);\n",
              "          const docLink = document.createElement('div');\n",
              "          docLink.innerHTML = docLinkHtml;\n",
              "          element.appendChild(docLink);\n",
              "        }\n",
              "      </script>\n",
              "    </div>\n",
              "  </div>\n"
            ]
          },
          "metadata": {},
          "execution_count": 10
        }
      ],
      "source": [
        "import pandas as pd\n",
        "import tensorflow as tf\n",
        "import matplotlib.pyplot as plt\n",
        "\n",
        "train_df = pd.DataFrame(train_dict)\n",
        "val_df = pd.DataFrame(val_dict)\n",
        "test_df = pd.DataFrame(test_dict)\n",
        "\n",
        "train_df.head(14)"
      ]
    },
    {
      "cell_type": "code",
      "execution_count": null,
      "metadata": {
        "colab": {
          "base_uri": "https://localhost:8080/",
          "height": 461
        },
        "id": "x-YTGjlE44DT",
        "outputId": "3ff56463-8c1c-4e8f-e929-b5aa97c34915"
      },
      "outputs": [
        {
          "output_type": "execute_result",
          "data": {
            "text/plain": [
              "Text(0.5, 1.0, 'number of sentences per label')"
            ]
          },
          "metadata": {},
          "execution_count": 11
        },
        {
          "output_type": "display_data",
          "data": {
            "text/plain": [
              "<Figure size 700x500 with 1 Axes>"
            ],
            "image/png": "[encoded data removed]"
          },
          "metadata": {}
        }
      ],
      "source": [
        "plt.figure(figsize = (7,5))\n",
        "plt.pie(x=train_df.target.value_counts(), labels = train_df.target.value_counts().index)\n",
        "plt.title(\"number of sentences per label\")"
      ]
    },
    {
      "cell_type": "code",
      "execution_count": null,
      "metadata": {
        "colab": {
          "base_uri": "https://localhost:8080/",
          "height": 448
        },
        "id": "b-1q-hxr5crP",
        "outputId": "b2e6f2cc-a439-4d1f-eee3-8ad7c6df4266"
      },
      "outputs": [
        {
          "output_type": "execute_result",
          "data": {
            "text/plain": [
              "<Axes: ylabel='Frequency'>"
            ]
          },
          "metadata": {},
          "execution_count": 12
        },
        {
          "output_type": "display_data",
          "data": {
            "text/plain": [
              "<Figure size 640x480 with 1 Axes>"
            ],
            "image/png": "[encoded data removed]"
          },
          "metadata": {}
        }
      ],
      "source": [
        "train_df.total_lines.plot.hist()"
      ]
    },
    {
      "cell_type": "code",
      "execution_count": null,
      "metadata": {
        "colab": {
          "base_uri": "https://localhost:8080/"
        },
        "id": "8Ku_ZWVj2MdT",
        "outputId": "03dd2ce2-27f4-4115-f8bd-9b2589ec6ccd"
      },
      "outputs": [
        {
          "output_type": "execute_result",
          "data": {
            "text/plain": [
              "(180040, 30212, 30135)"
            ]
          },
          "metadata": {},
          "execution_count": 13
        }
      ],
      "source": [
        "train_sentences = train_df[\"text\"].tolist()\n",
        "val_sentences = val_df[\"text\"].tolist()\n",
        "test_sentences = test_df[\"text\"].tolist()\n",
        "len(train_sentences), len(val_sentences), len(test_sentences)"
      ]
    },
    {
      "cell_type": "markdown",
      "metadata": {
        "id": "yg5bJ_mugs3e"
      },
      "source": [
        "#Encoding the labels"
      ]
    },
    {
      "cell_type": "markdown",
      "metadata": {
        "id": "TQyvA4NPg7EY"
      },
      "source": [
        "##**LabelEncoding**"
      ]
    },
    {
      "cell_type": "code",
      "execution_count": null,
      "metadata": {
        "colab": {
          "base_uri": "https://localhost:8080/"
        },
        "id": "Wzz3eZVh65N1",
        "outputId": "1c06aa00-dd49-4ff5-c4f8-fcc569c625ff"
      },
      "outputs": [
        {
          "output_type": "execute_result",
          "data": {
            "text/plain": [
              "array([3, 2, 2, ..., 4, 1, 1])"
            ]
          },
          "metadata": {},
          "execution_count": 14
        }
      ],
      "source": [
        "from sklearn.preprocessing import LabelEncoder\n",
        "\n",
        "le = LabelEncoder()\n",
        "\n",
        "train_labels_le = le.fit_transform(train_df[\"target\"].to_numpy())\n",
        "val_labels_le = le.transform(val_df[\"target\"].to_numpy())\n",
        "test_labels_le = le.transform(test_df[\"target\"].to_numpy())\n",
        "\n",
        "train_labels_le"
      ]
    },
    {
      "cell_type": "code",
      "execution_count": null,
      "metadata": {
        "id": "ctBiZnc7xhEi",
        "colab": {
          "base_uri": "https://localhost:8080/"
        },
        "outputId": "73fc22f5-9dd9-4328-b11f-9d1b0354e4bf"
      },
      "outputs": [
        {
          "output_type": "execute_result",
          "data": {
            "text/plain": [
              "array(['BACKGROUND', 'CONCLUSIONS', 'METHODS', 'OBJECTIVE', 'RESULTS'],\n",
              "      dtype=object)"
            ]
          },
          "metadata": {},
          "execution_count": 15
        }
      ],
      "source": [
        "le.classes_"
      ]
    },
    {
      "cell_type": "code",
      "execution_count": null,
      "metadata": {
        "id": "XnoDWbtTyHgY",
        "colab": {
          "base_uri": "https://localhost:8080/"
        },
        "outputId": "eb2c5254-3c0a-4d61-ad00-6cfcf0958e4b"
      },
      "outputs": [
        {
          "output_type": "execute_result",
          "data": {
            "text/plain": [
              "(5,\n",
              " array(['BACKGROUND', 'CONCLUSIONS', 'METHODS', 'OBJECTIVE', 'RESULTS'],\n",
              "       dtype=object))"
            ]
          },
          "metadata": {},
          "execution_count": 16
        }
      ],
      "source": [
        "num_classes = len(le.classes_)\n",
        "class_names = le.classes_\n",
        "\n",
        "num_classes, class_names"
      ]
    },
    {
      "cell_type": "markdown",
      "metadata": {
        "id": "FgN1Q7j5g08j"
      },
      "source": [
        "##**OneHotEncoding**"
      ]
    },
    {
      "cell_type": "code",
      "execution_count": null,
      "metadata": {
        "id": "2cyk_VnZgzK_",
        "colab": {
          "base_uri": "https://localhost:8080/"
        },
        "outputId": "b9ebef0e-77a4-44e6-dcba-1706ad8b7b2c"
      },
      "outputs": [
        {
          "output_type": "stream",
          "name": "stderr",
          "text": [
            "/usr/local/lib/python3.10/dist-packages/sklearn/preprocessing/_encoders.py:868: FutureWarning: `sparse` was renamed to `sparse_output` in version 1.2 and will be removed in 1.4. `sparse_output` is ignored unless you leave `sparse` to its default value.\n",
            "  warnings.warn(\n"
          ]
        },
        {
          "output_type": "execute_result",
          "data": {
            "text/plain": [
              "(0    OBJECTIVE\n",
              " 1      METHODS\n",
              " 2      METHODS\n",
              " 3      METHODS\n",
              " 4      METHODS\n",
              " Name: target, dtype: object,\n",
              " array([[0., 0., 0., 1., 0.],\n",
              "        [0., 0., 1., 0., 0.],\n",
              "        [0., 0., 1., 0., 0.],\n",
              "        [0., 0., 1., 0., 0.],\n",
              "        [0., 0., 1., 0., 0.]]))"
            ]
          },
          "metadata": {},
          "execution_count": 17
        }
      ],
      "source": [
        "from sklearn.preprocessing import OneHotEncoder\n",
        "\n",
        "one_h_e = OneHotEncoder(sparse = False)\n",
        "\n",
        "train_onehot_encoded = one_h_e.fit_transform(train_df[\"target\"].to_numpy().reshape(-1, 1))\n",
        "val_onehot_encoded = one_h_e.transform(val_df[\"target\"].to_numpy().reshape(-1, 1))\n",
        "test_onehot_encoded = one_h_e.transform(test_df[\"target\"].to_numpy().reshape(-1, 1))\n",
        "\n",
        "train_df[\"target\"][:5], train_onehot_encoded[:5]"
      ]
    },
    {
      "cell_type": "markdown",
      "metadata": {
        "id": "z3MVXIdz3Ayo"
      },
      "source": [
        "#Base Model 0\n",
        "\n",
        "to set a baseline for our model evaluations"
      ]
    },
    {
      "cell_type": "code",
      "execution_count": null,
      "metadata": {
        "id": "qUGNugXmy4J7"
      },
      "outputs": [],
      "source": [
        "# from sklearn.naive_bayes import MultinomialNB\n",
        "# from sklearn.feature_extraction.text import TfidfVectorizer\n",
        "\n",
        "# from sklearn.pipeline import Pipeline\n",
        "\n",
        "# base_model_0 = Pipeline([\n",
        "#     (\"tf-idf\", TfidfVectorizer()),\n",
        "#     (\"clf\", MultinomialNB())\n",
        "# ])\n",
        "\n",
        "# base_model_0.fit(train_sentences, train_labels_le)\n",
        "\n",
        "# base_model_0_score = base_model_0.score(val_sentences, val_labels_le)\n",
        "# model_0_preds = base_model_0.predict(val_sentences)\n",
        "\n",
        "# print(f\"{base_model_0_score}\\n{model_0_preds[:10]}\")"
      ]
    },
    {
      "cell_type": "code",
      "execution_count": null,
      "metadata": {
        "id": "7j_bJz1g0QCv",
        "colab": {
          "base_uri": "https://localhost:8080/"
        },
        "outputId": "c9367695-2d7a-4bea-e07c-5e7270fe36f0"
      },
      "outputs": [
        {
          "output_type": "stream",
          "name": "stdout",
          "text": [
            "--2023-08-08 14:55:42--  https://raw.githubusercontent.com/forcoding1/Deep-Learning-with-tensorflow/main/helper_tf.py\n",
            "Resolving raw.githubusercontent.com (raw.githubusercontent.com)... 185.199.109.133, 185.199.108.133, 185.199.111.133, ...\n",
            "Connecting to raw.githubusercontent.com (raw.githubusercontent.com)|185.199.109.133|:443... connected.\n",
            "HTTP request sent, awaiting response... 200 OK\n",
            "Length: 534 [text/plain]\n",
            "Saving to: ‘helper_tf.py’\n",
            "\n",
            "\rhelper_tf.py          0%[                    ]       0  --.-KB/s               \rhelper_tf.py        100%[===================>]     534  --.-KB/s    in 0s      \n",
            "\n",
            "2023-08-08 14:55:42 (37.4 MB/s) - ‘helper_tf.py’ saved [534/534]\n",
            "\n"
          ]
        }
      ],
      "source": [
        "!wget https://raw.githubusercontent.com/forcoding1/Deep-Learning-with-tensorflow/main/helper_tf.py"
      ]
    },
    {
      "cell_type": "markdown",
      "metadata": {
        "id": "K7041N_2BugY"
      },
      "source": [
        "Model 0 results"
      ]
    },
    {
      "cell_type": "code",
      "execution_count": null,
      "metadata": {
        "id": "S9_Tv8XU42RC"
      },
      "outputs": [],
      "source": [
        "# from helper_tf import results\n",
        "\n",
        "# res_0 = results(val_labels_le, model_0_preds)\n",
        "# res_0"
      ]
    },
    {
      "cell_type": "code",
      "execution_count": null,
      "metadata": {
        "id": "wA4Jafl45TSP"
      },
      "outputs": [],
      "source": [
        "import numpy as np\n",
        "from tensorflow.keras import layers"
      ]
    },
    {
      "cell_type": "markdown",
      "metadata": {
        "id": "yLP5zKyuBxwi"
      },
      "source": [
        "**Finding the appropriate length for the text vectorization layer**"
      ]
    },
    {
      "cell_type": "code",
      "execution_count": null,
      "metadata": {
        "id": "rmu0SNRl_YDa",
        "colab": {
          "base_uri": "https://localhost:8080/"
        },
        "outputId": "5f073d8c-0648-422e-f22d-5829769966f0"
      },
      "outputs": [
        {
          "output_type": "execute_result",
          "data": {
            "text/plain": [
              "26.338269273494777"
            ]
          },
          "metadata": {},
          "execution_count": 22
        }
      ],
      "source": [
        "sentences_len = [len(i.split()) for i in train_sentences]\n",
        "sen_mean_len = np.mean(sentences_len)\n",
        "sen_mean_len"
      ]
    },
    {
      "cell_type": "code",
      "execution_count": null,
      "metadata": {
        "id": "021MgNta_0yp",
        "colab": {
          "base_uri": "https://localhost:8080/",
          "height": 586
        },
        "outputId": "56bab42e-6ea9-41cf-fad5-87e3eb6a6b63"
      },
      "outputs": [
        {
          "output_type": "execute_result",
          "data": {
            "text/plain": [
              "(array([2.5486e+04, 7.1478e+04, 4.8888e+04, 2.0260e+04, 7.5560e+03,\n",
              "        3.4370e+03, 1.4950e+03, 7.3700e+02, 3.2800e+02, 1.6500e+02,\n",
              "        8.5000e+01, 4.9000e+01, 2.0000e+01, 1.5000e+01, 9.0000e+00,\n",
              "        6.0000e+00, 8.0000e+00, 8.0000e+00, 3.0000e+00, 2.0000e+00,\n",
              "        3.0000e+00, 0.0000e+00, 0.0000e+00, 1.0000e+00, 1.0000e+00]),\n",
              " array([  1. ,  12.8,  24.6,  36.4,  48.2,  60. ,  71.8,  83.6,  95.4,\n",
              "        107.2, 119. , 130.8, 142.6, 154.4, 166.2, 178. , 189.8, 201.6,\n",
              "        213.4, 225.2, 237. , 248.8, 260.6, 272.4, 284.2, 296. ]),\n",
              " <BarContainer object of 25 artists>)"
            ]
          },
          "metadata": {},
          "execution_count": 23
        },
        {
          "output_type": "display_data",
          "data": {
            "text/plain": [
              "<Figure size 640x480 with 1 Axes>"
            ],
            "image/png": "[encoded data removed]"
          },
          "metadata": {}
        }
      ],
      "source": [
        "#plotting the lengths of sentences in training sentences\n",
        "\n",
        "plt.hist(sentences_len, bins = 25)"
      ]
    },
    {
      "cell_type": "code",
      "execution_count": null,
      "metadata": {
        "id": "4-u515KDA9qb",
        "colab": {
          "base_uri": "https://localhost:8080/"
        },
        "outputId": "6e3cf8a8-8152-4ccd-c667-1e4582692957"
      },
      "outputs": [
        {
          "output_type": "execute_result",
          "data": {
            "text/plain": [
              "55"
            ]
          },
          "metadata": {},
          "execution_count": 24
        }
      ],
      "source": [
        "#length of 95 percentile of the texts\n",
        "\n",
        "output_seq_len = int(np.percentile(sentences_len, 95))\n",
        "output_seq_len"
      ]
    },
    {
      "cell_type": "markdown",
      "metadata": {
        "id": "HMahAao0B6Dj"
      },
      "source": [
        "We found that 95 percentile of them occur under 55 length"
      ]
    },
    {
      "cell_type": "code",
      "execution_count": null,
      "metadata": {
        "id": "a662_8NhBPk2",
        "colab": {
          "base_uri": "https://localhost:8080/"
        },
        "outputId": "3cc4d1dd-f10d-41d2-9150-05793d82d56c"
      },
      "outputs": [
        {
          "output_type": "execute_result",
          "data": {
            "text/plain": [
              "296"
            ]
          },
          "metadata": {},
          "execution_count": 25
        }
      ],
      "source": [
        "max(sentences_len)"
      ]
    },
    {
      "cell_type": "markdown",
      "metadata": {
        "id": "cabTNjKSaIaZ"
      },
      "source": [
        "#Text Vectorization"
      ]
    },
    {
      "cell_type": "code",
      "execution_count": null,
      "metadata": {
        "id": "HBJ5_LeY9z-1"
      },
      "outputs": [],
      "source": [
        "#from table 2 in pubmed\n",
        "\n",
        "max_tokens = 68000"
      ]
    },
    {
      "cell_type": "code",
      "execution_count": null,
      "metadata": {
        "id": "h1Md4VNpCT3a"
      },
      "outputs": [],
      "source": [
        "from tensorflow.keras.layers.experimental.preprocessing import TextVectorization\n",
        "\n",
        "text_vect = TextVectorization(\n",
        "    max_tokens = max_tokens,\n",
        "    output_sequence_length = output_seq_len\n",
        ")"
      ]
    },
    {
      "cell_type": "code",
      "execution_count": null,
      "metadata": {
        "id": "OJGryqLKC_cW"
      },
      "outputs": [],
      "source": [
        "text_vect.adapt(train_sentences)"
      ]
    },
    {
      "cell_type": "code",
      "execution_count": null,
      "metadata": {
        "colab": {
          "base_uri": "https://localhost:8080/"
        },
        "id": "2FIugU_KDEWV",
        "outputId": "0b86634d-90a9-4d71-f3cf-02d6790ddbdc"
      },
      "outputs": [
        {
          "output_type": "stream",
          "name": "stdout",
          "text": [
            "Text: the control arm received an average of @ blood transfusions , whereas the test arm received @ ( p = @ ) .\n",
            "\n",
            "Length: 23\n",
            "\n",
            "Vectorized text: [[   2   35  207   80   26  405    4  107 3611  436    2  128  207   80\n",
            "    14    0    0    0    0    0    0    0    0    0    0    0    0    0\n",
            "     0    0    0    0    0    0    0    0    0    0    0    0    0    0\n",
            "     0    0    0    0    0    0    0    0    0    0    0    0    0]]\n"
          ]
        }
      ],
      "source": [
        "import random\n",
        "\n",
        "r_sen = random.choice(train_sentences)\n",
        "vect_sen = text_vect([r_sen])\n",
        "l = len(r_sen.split())\n",
        "\n",
        "print(f\"Text: {r_sen}\")\n",
        "print(f\"\\nLength: {l}\")\n",
        "print(f\"\\nVectorized text: {vect_sen}\")"
      ]
    },
    {
      "cell_type": "code",
      "execution_count": null,
      "metadata": {
        "colab": {
          "base_uri": "https://localhost:8080/"
        },
        "id": "1z2JCYoID6X7",
        "outputId": "e5c91b26-adab-49b3-cdc5-3ce3c097cbe9"
      },
      "outputs": [
        {
          "output_type": "stream",
          "name": "stdout",
          "text": [
            "Length of vocabulary: 64841\n",
            "\n",
            "5 most used words: ['', '[UNK]', 'the', 'and', 'of']\n",
            "\n",
            "5 least used words: ['aainduced', 'aaigroup', 'aachener', 'aachen', 'aaacp']\n"
          ]
        }
      ],
      "source": [
        "rct_20k_text_vocab = text_vect.get_vocabulary()\n",
        "vocab_length = len(rct_20k_text_vocab)\n",
        "print(f\"Length of vocabulary: {vocab_length}\")\n",
        "print(f\"\\n5 most used words: {rct_20k_text_vocab[:5]}\")\n",
        "print(f\"\\n5 least used words: {rct_20k_text_vocab[-5:]}\")"
      ]
    },
    {
      "cell_type": "code",
      "execution_count": null,
      "metadata": {
        "colab": {
          "base_uri": "https://localhost:8080/"
        },
        "id": "zvi_UhsbKQtY",
        "outputId": "c08d95a1-f75e-4574-cf75-31697f229c2c"
      },
      "outputs": [
        {
          "output_type": "execute_result",
          "data": {
            "text/plain": [
              "{'name': 'text_vectorization',\n",
              " 'trainable': True,\n",
              " 'dtype': 'string',\n",
              " 'batch_input_shape': (None,),\n",
              " 'max_tokens': 68000,\n",
              " 'standardize': 'lower_and_strip_punctuation',\n",
              " 'split': 'whitespace',\n",
              " 'ngrams': None,\n",
              " 'output_mode': 'int',\n",
              " 'output_sequence_length': 55,\n",
              " 'pad_to_max_tokens': False,\n",
              " 'sparse': False,\n",
              " 'ragged': False,\n",
              " 'vocabulary': None,\n",
              " 'idf_weights': None,\n",
              " 'encoding': 'utf-8',\n",
              " 'vocabulary_size': 64841}"
            ]
          },
          "metadata": {},
          "execution_count": 31
        }
      ],
      "source": [
        "text_vect.get_config()"
      ]
    },
    {
      "cell_type": "markdown",
      "metadata": {
        "id": "vUvc8WVMaP1D"
      },
      "source": []
    },
    {
      "cell_type": "markdown",
      "metadata": {
        "id": "5Eucdkn_aUDu"
      },
      "source": [
        "#Embedding Layer"
      ]
    },
    {
      "cell_type": "code",
      "execution_count": null,
      "metadata": {
        "id": "zB96zwQlKTH8"
      },
      "outputs": [],
      "source": [
        "token_emb = layers.Embedding(\n",
        "    input_dim = vocab_length,\n",
        "    output_dim = 128,\n",
        "    mask_zero = True,\n",
        "    name = \"token_embedding\"\n",
        ")"
      ]
    },
    {
      "cell_type": "code",
      "execution_count": null,
      "metadata": {
        "colab": {
          "base_uri": "https://localhost:8080/"
        },
        "id": "XiAwktplQtkf",
        "outputId": "0c6bcd4a-b7c0-4a28-8ad0-b0763b943dc8"
      },
      "outputs": [
        {
          "output_type": "stream",
          "name": "stdout",
          "text": [
            "Original Sentence: the control arm received an average of @ blood transfusions , whereas the test arm received @ ( p = @ ) .\n",
            "\n",
            "Vectorized output: [[   2   35  207   80   26  405    4  107 3611  436    2  128  207   80\n",
            "    14    0    0    0    0    0    0    0    0    0    0    0    0    0\n",
            "     0    0    0    0    0    0    0    0    0    0    0    0    0    0\n",
            "     0    0    0    0    0    0    0    0    0    0    0    0    0]]\n",
            "\n",
            "Embedding output [[[-0.00532453  0.03859201  0.04707544 ... -0.00983866  0.00675974\n",
            "   -0.01732507]\n",
            "  [-0.03672794 -0.01549747  0.0325872  ... -0.01122002 -0.00251256\n",
            "   -0.00298097]\n",
            "  [ 0.02795762  0.04197169 -0.03481774 ... -0.04042461 -0.01181079\n",
            "   -0.00553057]\n",
            "  ...\n",
            "  [ 0.03615984 -0.01266976 -0.01830342 ...  0.0253802   0.00162071\n",
            "    0.0362576 ]\n",
            "  [ 0.03615984 -0.01266976 -0.01830342 ...  0.0253802   0.00162071\n",
            "    0.0362576 ]\n",
            "  [ 0.03615984 -0.01266976 -0.01830342 ...  0.0253802   0.00162071\n",
            "    0.0362576 ]]]\n",
            "\n",
            "Shape of embedding output: (1, 55, 128)\n"
          ]
        }
      ],
      "source": [
        "print(f\"Original Sentence: {r_sen}\")\n",
        "print(f\"\\nVectorized output: {vect_sen}\")\n",
        "emb_sen = token_emb(vect_sen)\n",
        "print(f\"\\nEmbedding output {emb_sen}\")\n",
        "print(f\"\\nShape of embedding output: {emb_sen.shape}\")"
      ]
    },
    {
      "cell_type": "markdown",
      "metadata": {
        "id": "KtTlSz-3cXAB"
      },
      "source": [
        "#tf.Dataset\n"
      ]
    },
    {
      "cell_type": "code",
      "execution_count": null,
      "metadata": {
        "colab": {
          "base_uri": "https://localhost:8080/"
        },
        "id": "1PJ6yHj5gQJX",
        "outputId": "7861f470-c009-4284-dabe-3173a8c01a0b"
      },
      "outputs": [
        {
          "output_type": "execute_result",
          "data": {
            "text/plain": [
              "<_TensorSliceDataset element_spec=(TensorSpec(shape=(), dtype=tf.string, name=None), TensorSpec(shape=(5,), dtype=tf.float64, name=None))>"
            ]
          },
          "metadata": {},
          "execution_count": 34
        }
      ],
      "source": [
        "train_data = tf.data.Dataset.from_tensor_slices((train_sentences, train_onehot_encoded))\n",
        "val_data = tf.data.Dataset.from_tensor_slices((val_sentences, val_onehot_encoded))\n",
        "test_data = tf.data.Dataset.from_tensor_slices((test_sentences, test_onehot_encoded))\n",
        "train_data"
      ]
    },
    {
      "cell_type": "code",
      "execution_count": null,
      "metadata": {
        "colab": {
          "base_uri": "https://localhost:8080/"
        },
        "id": "6yO9n13bm6oP",
        "outputId": "bb0f9738-9da4-46ef-e4cb-6f124cb08383"
      },
      "outputs": [
        {
          "output_type": "execute_result",
          "data": {
            "text/plain": [
              "<_PrefetchDataset element_spec=(TensorSpec(shape=(None,), dtype=tf.string, name=None), TensorSpec(shape=(None, 5), dtype=tf.float64, name=None))>"
            ]
          },
          "metadata": {},
          "execution_count": 35
        }
      ],
      "source": [
        "train_dataset = train_data.batch(32).prefetch(tf.data.AUTOTUNE)\n",
        "val_dataset = val_data.batch(32).prefetch(tf.data.AUTOTUNE)\n",
        "test_dataset = test_data.batch(32).prefetch(tf.data.AUTOTUNE)\n",
        "\n",
        "train_dataset"
      ]
    },
    {
      "cell_type": "markdown",
      "metadata": {
        "id": "FVzZofqrSsss"
      },
      "source": []
    },
    {
      "cell_type": "markdown",
      "metadata": {
        "id": "HsH4t6KoSnGm"
      },
      "source": [
        "#Model 1: CONV1D"
      ]
    },
    {
      "cell_type": "code",
      "execution_count": null,
      "metadata": {
        "id": "SaOoA6prnvHL"
      },
      "outputs": [],
      "source": [
        "# from tensorflow.keras import Model\n",
        "\n",
        "# inputs = layers.Input(shape = (1,), dtype = tf.string)\n",
        "# vect = text_vect(inputs)\n",
        "# emb = token_emb(vect)\n",
        "# x = layers.Conv1D(128, kernel_size = 5, padding = \"same\", activation = \"relu\")(emb)\n",
        "# x = layers.GlobalAveragePooling1D()(x)\n",
        "# outputs = layers.Dense(num_classes, activation = \"softmax\")(x)\n",
        "\n",
        "# model_1 = Model(inputs, outputs, name = \"Conv1D_Model\")\n",
        "\n",
        "# model_1.compile(\n",
        "#     loss = \"categorical_crossentropy\",\n",
        "#     optimizer = tf.keras.optimizers.Adam(),\n",
        "#     metrics = [\"accuracy\"]\n",
        "# )"
      ]
    },
    {
      "cell_type": "code",
      "execution_count": null,
      "metadata": {
        "id": "3MUjsLXYmuF9"
      },
      "outputs": [],
      "source": [
        "# model_1.summary()"
      ]
    },
    {
      "cell_type": "code",
      "execution_count": null,
      "metadata": {
        "id": "ltGSiBoHizXN"
      },
      "outputs": [],
      "source": [
        "# model_1.fit(\n",
        "#     train_dataset,\n",
        "#     steps_per_epoch = (0.1 * len(train_dataset)),\n",
        "#     epochs = 7,\n",
        "#     validation_data = val_dataset,\n",
        "#     validation_steps = (0.1 * len(val_dataset))\n",
        "# )"
      ]
    },
    {
      "cell_type": "code",
      "execution_count": null,
      "metadata": {
        "id": "BHMaXEf1nNJO"
      },
      "outputs": [],
      "source": [
        "# model_1.evaluate(val_dataset)"
      ]
    },
    {
      "cell_type": "code",
      "execution_count": null,
      "metadata": {
        "id": "pZL-EhmTREE0"
      },
      "outputs": [],
      "source": [
        "# model_1_pred_probs = model_1.predict(val_dataset)\n",
        "# model_1_pred_probs[:5]"
      ]
    },
    {
      "cell_type": "markdown",
      "metadata": {
        "id": "ZlMXAkrxWdoM"
      },
      "source": [
        "##results of model 1"
      ]
    },
    {
      "cell_type": "code",
      "execution_count": null,
      "metadata": {
        "id": "ISiYlpk_WpQZ"
      },
      "outputs": [],
      "source": [
        "# model_1_preds = tf.argmax(model_1_pred_probs, axis = 1)\n",
        "# model_1_preds[:5]"
      ]
    },
    {
      "cell_type": "code",
      "execution_count": null,
      "metadata": {
        "id": "HVT3y4x0Wyud"
      },
      "outputs": [],
      "source": [
        "# res_1 = results(val_labels_le, model_1_preds)\n",
        "# res_1"
      ]
    },
    {
      "cell_type": "code",
      "execution_count": null,
      "metadata": {
        "id": "18rTupfH1JUE"
      },
      "outputs": [],
      "source": [
        "# import tensorflow_hub as hub\n",
        "\n",
        "# preprocessor = hub.KerasLayer(\n",
        "#     \"https://tfhub.dev/tensorflow/bert_en_uncased_preprocess/3\")\n",
        "\n",
        "# encoder = hub.KerasLayer(\n",
        "#     \"https://tfhub.dev/tensorflow/bert_en_uncased_L-12_H-768_A-12/4\",\n",
        "#     trainable=True)\n",
        "\n",
        "# preprocessed_inp = preprocessor.transform(train_data)\n",
        "# encoded_inp = encoder.fit_transform(preprocessed_inp)\n",
        "\n"
      ]
    },
    {
      "cell_type": "markdown",
      "metadata": {
        "id": "BtmojH4SWjVh"
      },
      "source": [
        "#model 2: feature extraction"
      ]
    },
    {
      "cell_type": "markdown",
      "metadata": {
        "id": "LFvcR5TfYTqI"
      },
      "source": [
        "##importing universal sentence encoder"
      ]
    },
    {
      "cell_type": "code",
      "execution_count": null,
      "metadata": {
        "id": "RrDzMzBv3P40"
      },
      "outputs": [],
      "source": [
        "import tensorflow_hub as hub\n",
        "\n",
        "embed = hub.KerasLayer(\"https://tfhub.dev/google/universal-sentence-encoder/4\",\n",
        "                  trainable=False,\n",
        "                  name=\"universal_sentence_encoder\"\n",
        ")\n"
      ]
    },
    {
      "cell_type": "code",
      "execution_count": null,
      "metadata": {
        "colab": {
          "base_uri": "https://localhost:8080/"
        },
        "id": "LWTbIPZb4qs6",
        "outputId": "8fda907f-f8ce-4d25-8c46-182cc27a8abe"
      },
      "outputs": [
        {
          "output_type": "stream",
          "name": "stdout",
          "text": [
            "Sentence :using clinical psa diagnosis as the standard for comparison , questionnaire accuracy was assessed by calculating sensitivity/specificity and positive/negative predictive values .\n",
            "\n",
            "Embedded :[-0.04544464 -0.05124469 -0.07063723  0.01633538  0.06424543 -0.04890108\n",
            " -0.01532568 -0.01455168 -0.01411084  0.06581119  0.08209201 -0.00442058\n",
            " -0.04409149  0.01939512 -0.03831273 -0.01150006 -0.08234658  0.0661278\n",
            "  0.0088834  -0.02804359]\n",
            "\n",
            "shape of embedding :512\n",
            "\n",
            "shape of output:(1, 512)\n",
            "\n"
          ]
        }
      ],
      "source": [
        "random_sentence = random.choice(train_sentences)\n",
        "\n",
        "emb = embed([random_sentence])\n",
        "print(f\"Sentence :{random_sentence}\\n\")\n",
        "print(f\"Embedded :{emb[0][:20]}\\n\")\n",
        "print(f\"shape of embedding :{len(emb[0])}\\n\")\n",
        "print(f\"shape of output:{emb.shape}\\n\")"
      ]
    },
    {
      "cell_type": "markdown",
      "metadata": {
        "id": "GLuT2LDnY2jl"
      },
      "source": [
        "##building model"
      ]
    },
    {
      "cell_type": "code",
      "execution_count": null,
      "metadata": {
        "id": "TXpBPqsf7eUC"
      },
      "outputs": [],
      "source": [
        "\n",
        "# inputs = layers.Input(shape = [], dtype = tf.string)\n",
        "# embedding = embed(inputs)\n",
        "# x = layers.Dense(128, activation = \"relu\")(embedding)\n",
        "# outputs = layers.Dense(num_classes, activation = \"softmax\")(x)\n",
        "\n",
        "# model_2 = tf.keras.Model(\n",
        "#     inputs, outputs, name = \"Feature_Extraction_use\"\n",
        "# )\n",
        "\n",
        "# model_2.compile(\n",
        "#     loss = \"categorical_crossentropy\",\n",
        "#     optimizer = tf.keras.optimizers.Adam(),\n",
        "#     metrics = [\"accuracy\"]\n",
        "# )\n",
        "\n",
        "# model_2.summary()"
      ]
    },
    {
      "cell_type": "code",
      "execution_count": null,
      "metadata": {
        "id": "is6FYKMFYEGI"
      },
      "outputs": [],
      "source": [
        "# model_2.fit(\n",
        "#     train_dataset,\n",
        "#     epochs = 7,\n",
        "#     steps_per_epoch = int(0.1 * len(train_dataset)),\n",
        "#     validation_data = val_dataset,\n",
        "#     validation_steps = int(0.1 * len(val_dataset))\n",
        "# )"
      ]
    },
    {
      "cell_type": "code",
      "execution_count": null,
      "metadata": {
        "id": "zhaMRU2zaRBb"
      },
      "outputs": [],
      "source": [
        "# model_2.evaluate(val_dataset)"
      ]
    },
    {
      "cell_type": "code",
      "execution_count": null,
      "metadata": {
        "id": "WjfLbbtJcuRD"
      },
      "outputs": [],
      "source": [
        "# model_2_pred_probs = model_2.predict(val_dataset)\n",
        "# model_2_preds = tf.argmax(model_2_pred_probs, axis = 1)\n",
        "# model_2_preds[:10]"
      ]
    },
    {
      "cell_type": "markdown",
      "metadata": {
        "id": "fpgv35LMemUK"
      },
      "source": [
        "##model 2 results"
      ]
    },
    {
      "cell_type": "code",
      "execution_count": null,
      "metadata": {
        "id": "4T3llK3EdOOy"
      },
      "outputs": [],
      "source": [
        "# res_2 = results(\n",
        "#     val_labels_le,\n",
        "#     model_2_preds\n",
        "# )\n",
        "\n",
        "# res_2"
      ]
    },
    {
      "cell_type": "markdown",
      "metadata": {
        "id": "GM83yBoZi93d"
      },
      "source": [
        "#Char vectorization"
      ]
    },
    {
      "cell_type": "markdown",
      "metadata": {
        "id": "IRZeEN4QjCpz"
      },
      "source": [
        "##function to turn sentences to chars"
      ]
    },
    {
      "cell_type": "markdown",
      "metadata": {
        "id": "EmHn1RT2jHQQ"
      },
      "source": [
        "simply put adding space between each character"
      ]
    },
    {
      "cell_type": "code",
      "execution_count": null,
      "metadata": {
        "id": "rrQOIZNogD6o"
      },
      "outputs": [],
      "source": [
        "def word_to_char(text):\n",
        "  return \" \".join(list(text))"
      ]
    },
    {
      "cell_type": "code",
      "execution_count": null,
      "metadata": {
        "colab": {
          "base_uri": "https://localhost:8080/"
        },
        "id": "GKtAkX-Wh0SR",
        "outputId": "aab5035c-66df-448c-d4d3-16676275897f"
      },
      "outputs": [
        {
          "output_type": "execute_result",
          "data": {
            "text/plain": [
              "['t o   i n v e s t i g a t e   t h e   e f f i c a c y   o f   @   w e e k s   o f   d a i l y   l o w - d o s e   o r a l   p r e d n i s o l o n e   i n   i m p r o v i n g   p a i n   ,   m o b i l i t y   ,   a n d   s y s t e m i c   l o w - g r a d e   i n f l a m m a t i o n   i n   t h e   s h o r t   t e r m   a n d   w h e t h e r   t h e   e f f e c t   w o u l d   b e   s u s t a i n e d   a t   @   w e e k s   i n   o l d e r   a d u l t s   w i t h   m o d e r a t e   t o   s e v e r e   k n e e   o s t e o a r t h r i t i s   (   o a   )   .',\n",
              " 'a   t o t a l   o f   @   p a t i e n t s   w i t h   p r i m a r y   k n e e   o a   w e r e   r a n d o m i z e d   @ : @   ;   @   r e c e i v e d   @   m g / d a y   o f   p r e d n i s o l o n e   a n d   @   r e c e i v e d   p l a c e b o   f o r   @   w e e k s   .',\n",
              " 'o u t c o m e   m e a s u r e s   i n c l u d e d   p a i n   r e d u c t i o n   a n d   i m p r o v e m e n t   i n   f u n c t i o n   s c o r e s   a n d   s y s t e m i c   i n f l a m m a t i o n   m a r k e r s   .',\n",
              " 'p a i n   w a s   a s s e s s e d   u s i n g   t h e   v i s u a l   a n a l o g   p a i n   s c a l e   (   @ - @   m m   )   .',\n",
              " 's e c o n d a r y   o u t c o m e   m e a s u r e s   i n c l u d e d   t h e   w e s t e r n   o n t a r i o   a n d   m c m a s t e r   u n i v e r s i t i e s   o s t e o a r t h r i t i s   i n d e x   s c o r e s   ,   p a t i e n t   g l o b a l   a s s e s s m e n t   (   p g a   )   o f   t h e   s e v e r i t y   o f   k n e e   o a   ,   a n d   @ - m i n   w a l k   d i s t a n c e   (   @ m w d   )   .']"
            ]
          },
          "metadata": {},
          "execution_count": 52
        }
      ],
      "source": [
        "train_chars = [word_to_char(i) for i in train_sentences]\n",
        "val_chars = [word_to_char(i) for i in val_sentences]\n",
        "test_chars = [word_to_char(i) for i in test_sentences]\n",
        "train_chars[:5]"
      ]
    },
    {
      "cell_type": "code",
      "execution_count": null,
      "metadata": {
        "colab": {
          "base_uri": "https://localhost:8080/"
        },
        "id": "Fzx4qS9Rk4ya",
        "outputId": "80db5ec6-8721-449d-c653-40cd77ed0c06"
      },
      "outputs": [
        {
          "output_type": "execute_result",
          "data": {
            "text/plain": [
              "['to investigate the efficacy of @ weeks of daily low-dose oral prednisolone in improving pain , mobility , and systemic low-grade inflammation in the short term and whether the effect would be sustained at @ weeks in older adults with moderate to severe knee osteoarthritis ( oa ) .',\n",
              " 'a total of @ patients with primary knee oa were randomized @:@ ; @ received @ mg/day of prednisolone and @ received placebo for @ weeks .',\n",
              " 'outcome measures included pain reduction and improvement in function scores and systemic inflammation markers .',\n",
              " 'pain was assessed using the visual analog pain scale ( @-@ mm ) .',\n",
              " 'secondary outcome measures included the western ontario and mcmaster universities osteoarthritis index scores , patient global assessment ( pga ) of the severity of knee oa , and @-min walk distance ( @mwd ) .']"
            ]
          },
          "metadata": {},
          "execution_count": 53
        }
      ],
      "source": [
        "train_sentences[:5]"
      ]
    },
    {
      "cell_type": "markdown",
      "metadata": {
        "id": "7FlxHz-0Ypc1"
      },
      "source": [
        "##mean length and 95 percentile"
      ]
    },
    {
      "cell_type": "code",
      "execution_count": null,
      "metadata": {
        "colab": {
          "base_uri": "https://localhost:8080/"
        },
        "id": "WNGUfmmTlfw9",
        "outputId": "b90130e0-335f-4f87-a720-cb0f9a405fe7"
      },
      "outputs": [
        {
          "output_type": "execute_result",
          "data": {
            "text/plain": [
              "149.3662574983337"
            ]
          },
          "metadata": {},
          "execution_count": 54
        }
      ],
      "source": [
        "chars_len = [len(i) for i in train_sentences]\n",
        "mean_chars = np.mean(chars_len)\n",
        "mean_chars"
      ]
    },
    {
      "cell_type": "code",
      "execution_count": null,
      "metadata": {
        "colab": {
          "base_uri": "https://localhost:8080/"
        },
        "id": "TyMhO5RsnCxQ",
        "outputId": "261fc38d-3abd-4f34-bf8d-dc576ae63ad7"
      },
      "outputs": [
        {
          "output_type": "execute_result",
          "data": {
            "text/plain": [
              "290"
            ]
          },
          "metadata": {},
          "execution_count": 55
        }
      ],
      "source": [
        "percentile_char = int(np.percentile(chars_len, 95))\n",
        "percentile_char"
      ]
    },
    {
      "cell_type": "markdown",
      "metadata": {
        "id": "xYmmZK2odbQo"
      },
      "source": [
        "##char vectorizer"
      ]
    },
    {
      "cell_type": "code",
      "execution_count": null,
      "metadata": {
        "id": "pnS1hSMMZq7S"
      },
      "outputs": [],
      "source": [
        "import string\n",
        "\n",
        "alphabets = string.ascii_lowercase + string.digits + string.punctuation\n",
        "#all the possible tokens\n",
        "num_char_tokens = len(alphabets) + 2\n",
        "#1 for space and other 1 for out of vocab token\n",
        "\n",
        "char_vectorizer = TextVectorization(\n",
        "    max_tokens = num_char_tokens,\n",
        "    output_sequence_length = percentile_char,\n",
        "    standardize=\"lower_and_strip_punctuation\",\n",
        "    name = \"char_tokenizer\"\n",
        ")\n",
        "\n",
        "#standardize is an important parameter"
      ]
    },
    {
      "cell_type": "code",
      "execution_count": null,
      "metadata": {
        "id": "UBy0RlxeX2Ev"
      },
      "outputs": [],
      "source": [
        "char_vectorizer.adapt(train_chars)"
      ]
    },
    {
      "cell_type": "code",
      "execution_count": null,
      "metadata": {
        "colab": {
          "base_uri": "https://localhost:8080/"
        },
        "id": "KthVRREF1e2G",
        "outputId": "c499f95a-15bf-4c5d-a1af-aab89b86ddea"
      },
      "outputs": [
        {
          "output_type": "stream",
          "name": "stdout",
          "text": [
            "Length :28\n",
            "Most common chars:['', '[UNK]', 'e', 't', 'i']\n",
            "Least common chars:['k', 'x', 'z', 'q', 'j']\n"
          ]
        }
      ],
      "source": [
        "char_vocab = char_vectorizer.get_vocabulary()\n",
        "print(f\"Length :{len(char_vocab)}\")\n",
        "print(f\"Most common chars:{char_vocab[:5]}\")\n",
        "print(f\"Least common chars:{char_vocab[-5:]}\")"
      ]
    },
    {
      "cell_type": "code",
      "execution_count": null,
      "metadata": {
        "colab": {
          "base_uri": "https://localhost:8080/"
        },
        "id": "z0IoXJ-L1l6L",
        "outputId": "23896469-17f1-4e50-c4b4-b42fdecd8c28"
      },
      "outputs": [
        {
          "output_type": "stream",
          "name": "stdout",
          "text": [
            "Text :\n",
            "h v   i n   t h e   m o   g r o u p   w a s   r e d u c e d   f r o m   @   (   r a n g e   ,   @   t o   @   )   t o   @   (   r a n g e   ,   @   t o   @   )   d e g r e e s   a n d   i m   a n g l e   f r o m   @   (   r a n g e   ,   @   t o   @   )   t o   @   (   r a n g e   ,   @   t o   @   )   d e g r e e s   .\n",
            "\n",
            "Length :113\n",
            "\n",
            "Vectorized text :\n",
            "[13 21  4  6  3 13  2 15  7 18  8  7 16 14 20  5  9  8  2 10 16 11  2 10\n",
            " 17  8  7 15  8  5  6 18  2  3  7  3  7  8  5  6 18  2  3  7 10  2 18  8\n",
            "  2  2  9  5  6 10  4 15  5  6 18 12  2 17  8  7 15  8  5  6 18  2  3  7\n",
            "  3  7  8  5  6 18  2  3  7 10  2 18  8  2  2  9  0  0  0  0  0  0  0  0\n",
            "  0  0  0  0  0  0  0  0  0  0  0  0  0  0  0  0  0  0  0  0  0  0  0  0\n",
            "  0  0  0  0  0  0  0  0  0  0  0  0  0  0  0  0  0  0  0  0  0  0  0  0\n",
            "  0  0  0  0  0  0  0  0  0  0  0  0  0  0  0  0  0  0  0  0  0  0  0  0\n",
            "  0  0  0  0  0  0  0  0  0  0  0  0  0  0  0  0  0  0  0  0  0  0  0  0\n",
            "  0  0  0  0  0  0  0  0  0  0  0  0  0  0  0  0  0  0  0  0  0  0  0  0\n",
            "  0  0  0  0  0  0  0  0  0  0  0  0  0  0  0  0  0  0  0  0  0  0  0  0\n",
            "  0  0  0  0  0  0  0  0  0  0  0  0  0  0  0  0  0  0  0  0  0  0  0  0\n",
            "  0  0  0  0  0  0  0  0  0  0  0  0  0  0  0  0  0  0  0  0  0  0  0  0\n",
            "  0  0]\n",
            "\n",
            "Length :290\n"
          ]
        }
      ],
      "source": [
        "\n",
        "random_chars = random.choice(train_chars)\n",
        "\n",
        "print(f\"Text :\\n{random_chars}\")\n",
        "print(f\"\\nLength :{len(random_chars.split())}\")\n",
        "\n",
        "vectorized_chars = char_vectorizer(random_chars)\n",
        "\n",
        "print(f\"\\nVectorized text :\\n{vectorized_chars}\")\n",
        "print(f\"\\nLength :{len(vectorized_chars)}\")"
      ]
    },
    {
      "cell_type": "code",
      "execution_count": null,
      "metadata": {
        "colab": {
          "base_uri": "https://localhost:8080/"
        },
        "id": "ZU3FRhFb4G7e",
        "outputId": "dae96d70-dbdf-4160-f7ab-175823dd5750"
      },
      "outputs": [
        {
          "output_type": "execute_result",
          "data": {
            "text/plain": [
              "{'name': 'char_tokenizer',\n",
              " 'trainable': True,\n",
              " 'dtype': 'string',\n",
              " 'batch_input_shape': (None,),\n",
              " 'max_tokens': 70,\n",
              " 'standardize': 'lower_and_strip_punctuation',\n",
              " 'split': 'whitespace',\n",
              " 'ngrams': None,\n",
              " 'output_mode': 'int',\n",
              " 'output_sequence_length': 290,\n",
              " 'pad_to_max_tokens': False,\n",
              " 'sparse': False,\n",
              " 'ragged': False,\n",
              " 'vocabulary': None,\n",
              " 'idf_weights': None,\n",
              " 'encoding': 'utf-8',\n",
              " 'vocabulary_size': 28}"
            ]
          },
          "metadata": {},
          "execution_count": 60
        }
      ],
      "source": [
        "char_vectorizer.get_config()"
      ]
    },
    {
      "cell_type": "markdown",
      "metadata": {
        "id": "BjJ7mUVo69R0"
      },
      "source": [
        "#Character Embedding"
      ]
    },
    {
      "cell_type": "code",
      "execution_count": null,
      "metadata": {
        "id": "SO__EALz42Ay"
      },
      "outputs": [],
      "source": [
        "char_embed = layers.Embedding(\n",
        "    input_dim = len(char_vocab), #number of different tokens\n",
        "    output_dim = 25,# since the paper used 25 we gotta use it as we want to recreate the papaer\n",
        "    mask_zero = True, # indicates whether the value 0 in tokens is padding or actual value\n",
        "    name = \"char_embed\"\n",
        ")"
      ]
    },
    {
      "cell_type": "code",
      "execution_count": null,
      "metadata": {
        "colab": {
          "base_uri": "https://localhost:8080/"
        },
        "id": "jV34r1sy7u9V",
        "outputId": "58f56fc2-a21c-4038-9f1f-fba7e9edf5f4"
      },
      "outputs": [
        {
          "output_type": "stream",
          "name": "stdout",
          "text": [
            "Text :\n",
            "h v   i n   t h e   m o   g r o u p   w a s   r e d u c e d   f r o m   @   (   r a n g e   ,   @   t o   @   )   t o   @   (   r a n g e   ,   @   t o   @   )   d e g r e e s   a n d   i m   a n g l e   f r o m   @   (   r a n g e   ,   @   t o   @   )   t o   @   (   r a n g e   ,   @   t o   @   )   d e g r e e s   .\n",
            "\n",
            "Length :113\n",
            "\n",
            "Length :(1, 290)\n",
            "\n",
            "Shape :(1, 290, 25)\n"
          ]
        }
      ],
      "source": [
        "print(f\"Text :\\n{random_chars}\")\n",
        "print(f\"\\nLength :{len(random_chars.split())}\")\n",
        "\n",
        "vectorized_chars = char_vectorizer([random_chars])\n",
        "\n",
        "print(f\"\\nLength :{vectorized_chars.shape}\")\n",
        "\n",
        "embed_chars = char_embed(vectorized_chars)\n",
        "\n",
        "print(f\"\\nShape :{embed_chars.shape}\")\n"
      ]
    },
    {
      "cell_type": "markdown",
      "metadata": {
        "id": "vo54Imdu9QEP"
      },
      "source": [
        "#Make a conv1D model with char embeddings"
      ]
    },
    {
      "cell_type": "markdown",
      "metadata": {
        "id": "78TpjCPRpNJt"
      },
      "source": [
        "##making char dataset"
      ]
    },
    {
      "cell_type": "code",
      "execution_count": null,
      "metadata": {
        "colab": {
          "base_uri": "https://localhost:8080/"
        },
        "id": "vPQqNBtgkBM9",
        "outputId": "444e3301-941f-4459-9264-6fb2f8f776c0"
      },
      "outputs": [
        {
          "output_type": "execute_result",
          "data": {
            "text/plain": [
              "<_PrefetchDataset element_spec=(TensorSpec(shape=(None,), dtype=tf.string, name=None), TensorSpec(shape=(None, 5), dtype=tf.float64, name=None))>"
            ]
          },
          "metadata": {},
          "execution_count": 63
        }
      ],
      "source": [
        "train_char_dataset = tf.data.Dataset.from_tensor_slices((train_chars, train_onehot_encoded)).batch(32).prefetch(tf.data.AUTOTUNE)\n",
        "val_char_dataset = tf.data.Dataset.from_tensor_slices((val_chars, val_onehot_encoded)).batch(32).prefetch(tf.data.AUTOTUNE)\n",
        "\n",
        "train_char_dataset"
      ]
    },
    {
      "cell_type": "markdown",
      "metadata": {
        "id": "jz9NAepqhTJH"
      },
      "source": [
        "##Conv1d model 3"
      ]
    },
    {
      "cell_type": "code",
      "execution_count": null,
      "metadata": {
        "id": "Sl3r27pV8vLl"
      },
      "outputs": [],
      "source": [
        "# inputs = layers.Input(shape = (1,), dtype = tf.string)\n",
        "# vect = char_vectorizer(inputs)\n",
        "# emb = char_embed(vect)\n",
        "# x = layers.Conv1D(filters = 128, kernel_size = 5, padding = \"valid\", activation = \"relu\")(emb)\n",
        "# x = layers.GlobalMaxPooling1D()(x)\n",
        "# outputs = layers.Dense(num_classes, activation = \"softmax\")(x)\n",
        "\n",
        "# model_3 = tf.keras.Model(inputs, outputs, name = \"CONV1D\")\n",
        "\n",
        "# model_3.compile(\n",
        "#   loss = \"categorical_crossentropy\",\n",
        "#   optimizer = tf.keras.optimizers.Adam(),\n",
        "#   metrics = [\"accuracy\"]\n",
        "# )\n",
        "\n",
        "# model_3.summary()"
      ]
    },
    {
      "cell_type": "code",
      "execution_count": null,
      "metadata": {
        "id": "DdmhonSph6yZ"
      },
      "outputs": [],
      "source": [
        "# history_3 = model_3.fit(\n",
        "#     train_char_dataset,\n",
        "#     steps_per_epoch = int(0.1 * len(train_char_dataset)),\n",
        "#     epochs = 7,\n",
        "#     validation_data = val_char_dataset,\n",
        "#     validation_steps = int(0.1 * len(val_char_dataset))\n",
        "# )"
      ]
    },
    {
      "cell_type": "code",
      "source": [
        "# model_3.evaluate(val_char_dataset)"
      ],
      "metadata": {
        "id": "lIaEnOOlmJaL"
      },
      "execution_count": null,
      "outputs": []
    },
    {
      "cell_type": "code",
      "execution_count": null,
      "metadata": {
        "id": "41r9PYwMmnDZ"
      },
      "outputs": [],
      "source": [
        "# model_3_pred_probs = model_3.predict(val_char_dataset)\n",
        "# model_3_pred_probs[:5]"
      ]
    },
    {
      "cell_type": "code",
      "execution_count": null,
      "metadata": {
        "id": "JASkgQaym2Vj"
      },
      "outputs": [],
      "source": [
        "# model_3_preds = tf.argmax(model_3_pred_probs, axis = 1)\n",
        "# model_3_preds[:5]"
      ]
    },
    {
      "cell_type": "markdown",
      "metadata": {
        "id": "rpZbmNGioVaT"
      },
      "source": [
        "##results model 3"
      ]
    },
    {
      "cell_type": "code",
      "execution_count": null,
      "metadata": {
        "id": "tI5HjOvyn1_x"
      },
      "outputs": [],
      "source": [
        "# res_3 = results(\n",
        "#     val_labels_le,\n",
        "#     model_3_preds\n",
        "# )\n",
        "\n",
        "# res_3"
      ]
    },
    {
      "cell_type": "markdown",
      "metadata": {
        "id": "uZIugoCaNp69"
      },
      "source": [
        "#Model 4 first multi model"
      ]
    },
    {
      "cell_type": "markdown",
      "metadata": {
        "id": "YXbEXJmKNwEm"
      },
      "source": [
        "## Goals"
      ]
    },
    {
      "cell_type": "markdown",
      "metadata": {
        "id": "vKijLomdN5X4"
      },
      "source": [
        "\n",
        "\n",
        "1.  create a token level embedding layer similar to model 2\n",
        "2.  create a character level embedding similar to model 3 with slight modifications\n",
        "3.  combine 1 and 2 with a concatenate(\"layers.Concatenate\")\n",
        "4.  Build a series of output layer on top of 3 similar to figure 1 and section 4.2 model paper.\n",
        "5.   construct a model which inputs token and character level inputs and outputs sequence label probabilities.\n",
        "\n"
      ]
    },
    {
      "cell_type": "markdown",
      "metadata": {
        "id": "F9llJfmeNUg2"
      },
      "source": [
        "###Regularisation"
      ]
    },
    {
      "cell_type": "markdown",
      "metadata": {
        "id": "oj0pboI6N0BL"
      },
      "source": [
        "another way of preventing overfitting by adding a dropout layer(Here a set percent of weights between 2 layers are removed so as to prevent overfitting and enhancing what it has already leant)"
      ]
    },
    {
      "cell_type": "code",
      "execution_count": null,
      "metadata": {
        "id": "am_KI7xevItv"
      },
      "outputs": [],
      "source": [
        "# !pip install tensorflow_text"
      ]
    },
    {
      "cell_type": "code",
      "execution_count": null,
      "metadata": {
        "id": "C2MJM5ZHobQ7"
      },
      "outputs": [],
      "source": [
        "# import tensorflow as tf\n",
        "# import tensorflow_hub as hub\n",
        "# import tensorflow_text as text\n",
        "\n",
        "# english_sentences = tf.constant([\"dog\", \"Puppies are nice.\", \"I enjoy taking long walks along the beach with my dog.\"])\n",
        "\n",
        "# hub_url = \"https://tfhub.dev/google/sentence-t5/st5-base/1\"\n",
        "# encoder = hub.KerasLayer(hub_url)\n",
        "\n",
        "# english_embeds = encoder(english_sentences)\n",
        "\n",
        "# print (english_embeds)"
      ]
    },
    {
      "cell_type": "markdown",
      "metadata": {
        "id": "Nto9lZvy0hB-"
      },
      "source": [
        "##building char and words model as per the paper"
      ]
    },
    {
      "cell_type": "code",
      "execution_count": null,
      "metadata": {
        "id": "jEhaQGheuiTq"
      },
      "outputs": [],
      "source": [
        "# word_inputs = layers.Input(shape = [], dtype = tf.string, name = \"token_input\")\n",
        "# word_embed = embed(word_inputs)\n",
        "# word_outputs = layers.Dense(128, activation = \"relu\")(word_embed)\n",
        "# word_model = tf.keras.Model(\n",
        "#     word_inputs,\n",
        "#     word_outputs,\n",
        "#     name = \"words\"\n",
        "# )\n",
        "\n",
        "# char_inputs = layers.Input(shape = (1,), dtype = tf.string, name = \"char_inputs\")\n",
        "# char_vector = char_vectorizer(char_inputs)\n",
        "# char_embedding = char_embed(char_vector)\n",
        "# char_bi_lstm = layers.Bidirectional(layers.LSTM(32))(char_embedding)\n",
        "# char_model = tf.keras.Model(\n",
        "#     char_inputs,\n",
        "#     char_bi_lstm,\n",
        "#     name = \"chars\"\n",
        "# )\n",
        "\n",
        "# word_char_concat = layers.Concatenate(name = \"token_char_hybrid\")([word_model.output, char_model.output])\n",
        "\n",
        "# combined_dropout = layers.Dropout(0.5)(word_char_concat)\n",
        "# combined_dense = layers.Dense(128, activation = \"relu\")(combined_dropout)\n",
        "# final_dropout = layers.Dropout(0.5)(combined_dense)\n",
        "# final_dense = layers.Dense(num_classes, activation = \"softmax\")(final_dropout)\n",
        "\n",
        "# model_4 = tf.keras.Model(inputs = [char_model.inputs, word_model.inputs], outputs = final_dense, name = \"word_char_multi_model\")\n",
        "\n",
        "# model_4.summary()"
      ]
    },
    {
      "cell_type": "markdown",
      "metadata": {
        "id": "XElf-XQBspVM"
      },
      "source": [
        "##plotting the model and summary ^"
      ]
    },
    {
      "cell_type": "code",
      "execution_count": null,
      "metadata": {
        "id": "2OWxfNpSlvhB"
      },
      "outputs": [],
      "source": [
        "# from keras.utils import plot_model\n",
        "\n",
        "# plot_model(model_4)"
      ]
    },
    {
      "cell_type": "markdown",
      "metadata": {
        "id": "aZE2Shcish_E"
      },
      "source": [
        "##preparing the word and char combined dataset"
      ]
    },
    {
      "cell_type": "code",
      "execution_count": null,
      "metadata": {
        "colab": {
          "base_uri": "https://localhost:8080/"
        },
        "id": "Gf9L6R16wQmD",
        "outputId": "df437c14-3bef-45b2-b0be-8f12abe36e6a"
      },
      "outputs": [
        {
          "output_type": "execute_result",
          "data": {
            "text/plain": [
              "<_PrefetchDataset element_spec=((TensorSpec(shape=(None,), dtype=tf.string, name=None), TensorSpec(shape=(None,), dtype=tf.string, name=None)), TensorSpec(shape=(None, 5), dtype=tf.float64, name=None))>"
            ]
          },
          "metadata": {},
          "execution_count": 74
        }
      ],
      "source": [
        "#making train tokens and chars combined dataset for multimodel(model_4)\n",
        "train_char_token_data = tf.data.Dataset.from_tensor_slices((train_chars, train_sentences)) #make data\n",
        "train_char_token_labels = tf.data.Dataset.from_tensor_slices(train_onehot_encoded) #make labels\n",
        "train_char_token_dataset = tf.data.Dataset.zip((train_char_token_data, train_char_token_labels)) #combine data and labels\n",
        "\n",
        "#prefetching the dataset\n",
        "train_char_token_dataset = train_char_token_dataset.batch(32).prefetch(tf.data.AUTOTUNE)\n",
        "train_char_token_dataset"
      ]
    },
    {
      "cell_type": "code",
      "execution_count": null,
      "metadata": {
        "colab": {
          "base_uri": "https://localhost:8080/"
        },
        "id": "4ocLI7ovw9PF",
        "outputId": "cbe96bc0-7901-45cc-fe3e-b8e7bc00af4a"
      },
      "outputs": [
        {
          "output_type": "execute_result",
          "data": {
            "text/plain": [
              "<_PrefetchDataset element_spec=((TensorSpec(shape=(None,), dtype=tf.string, name=None), TensorSpec(shape=(None,), dtype=tf.string, name=None)), TensorSpec(shape=(None, 5), dtype=tf.float64, name=None))>"
            ]
          },
          "metadata": {},
          "execution_count": 75
        }
      ],
      "source": [
        "val_char_token_data = tf.data.Dataset.from_tensor_slices((val_chars, val_sentences)) #make data\n",
        "val_char_token_labels = tf.data.Dataset.from_tensor_slices(val_onehot_encoded) #make labels\n",
        "val_char_token_dataset = tf.data.Dataset.zip((val_char_token_data, val_char_token_labels)) #combine data and labels\n",
        "\n",
        "#prefetching the dataset\n",
        "val_char_token_dataset = val_char_token_dataset.batch(32).prefetch(tf.data.AUTOTUNE)\n",
        "val_char_token_dataset"
      ]
    },
    {
      "cell_type": "markdown",
      "metadata": {
        "id": "eieddEwxcbeQ"
      },
      "source": [
        "##fitting the model 4"
      ]
    },
    {
      "cell_type": "code",
      "execution_count": null,
      "metadata": {
        "id": "SDXDqRUVmBeW"
      },
      "outputs": [],
      "source": [
        "# model_4.compile(\n",
        "#     loss = \"categorical_crossentropy\",\n",
        "#     optimizer = tf.keras.optimizers.Adam(), # the section 4.2 in the paper uses SGD but we use adam as its better\n",
        "#     metrics = [\"accuracy\"]\n",
        "# )\n",
        "\n",
        "# history_4 = model_4.fit(\n",
        "#     train_char_token_dataset,\n",
        "#     steps_per_epoch = int(0.1 * len(train_char_token_dataset)),\n",
        "#     epochs = 7,\n",
        "#     validation_data = val_char_token_dataset,\n",
        "#     validation_steps = int(0.1 * len(val_char_token_dataset))\n",
        "# )"
      ]
    },
    {
      "cell_type": "code",
      "execution_count": null,
      "metadata": {
        "id": "yq9YbEE0YnCE"
      },
      "outputs": [],
      "source": [
        "# model_4.evaluate(val_char_token_dataset)"
      ]
    },
    {
      "cell_type": "code",
      "execution_count": null,
      "metadata": {
        "id": "NoP6XanUcNIc"
      },
      "outputs": [],
      "source": [
        "# model_4_pred_probs = model_4.predict(val_char_token_dataset)\n",
        "# model_4_preds = tf.argmax(model_4_pred_probs, axis = 1)\n",
        "# model_4_preds"
      ]
    },
    {
      "cell_type": "markdown",
      "metadata": {
        "id": "WCYb7AX-eS7o"
      },
      "source": [
        "## model 4 results"
      ]
    },
    {
      "cell_type": "code",
      "execution_count": null,
      "metadata": {
        "id": "_gnS2LFzct55"
      },
      "outputs": [],
      "source": [
        "# res_4 = results(\n",
        "#     val_labels_le,\n",
        "#     model_4_preds\n",
        "# )\n",
        "\n",
        "# res_4"
      ]
    },
    {
      "cell_type": "markdown",
      "metadata": {
        "id": "-S-Ub61A-hPT"
      },
      "source": [
        "#Create positional embedding"
      ]
    },
    {
      "cell_type": "code",
      "execution_count": null,
      "metadata": {
        "colab": {
          "base_uri": "https://localhost:8080/"
        },
        "id": "qBvkvmpD-JPL",
        "outputId": "05912f84-a53d-42b0-bd03-2a279227666a"
      },
      "outputs": [
        {
          "output_type": "execute_result",
          "data": {
            "text/plain": [
              "0     15000\n",
              "1     15000\n",
              "2     15000\n",
              "3     15000\n",
              "4     14992\n",
              "5     14949\n",
              "6     14758\n",
              "7     14279\n",
              "8     13346\n",
              "9     11981\n",
              "10    10041\n",
              "11     7892\n",
              "12     5853\n",
              "13     4152\n",
              "14     2835\n",
              "15     1861\n",
              "16     1188\n",
              "17      751\n",
              "18      462\n",
              "19      286\n",
              "20      162\n",
              "21      101\n",
              "22       66\n",
              "23       33\n",
              "24       22\n",
              "25       14\n",
              "26        7\n",
              "27        4\n",
              "28        3\n",
              "29        1\n",
              "30        1\n",
              "Name: line_number, dtype: int64"
            ]
          },
          "metadata": {},
          "execution_count": 80
        }
      ],
      "source": [
        "#how many different line numbers are there?\n",
        "\n",
        "train_df[\"line_number\"].value_counts()"
      ]
    },
    {
      "cell_type": "code",
      "execution_count": null,
      "metadata": {
        "colab": {
          "base_uri": "https://localhost:8080/",
          "height": 447
        },
        "id": "GSbeKy8J_obs",
        "outputId": "113c0170-12c7-45ea-8541-82e4b60efab5"
      },
      "outputs": [
        {
          "output_type": "execute_result",
          "data": {
            "text/plain": [
              "<Axes: ylabel='Frequency'>"
            ]
          },
          "metadata": {},
          "execution_count": 81
        },
        {
          "output_type": "display_data",
          "data": {
            "text/plain": [
              "<Figure size 640x480 with 1 Axes>"
            ],
            "image/png": "[encoded data removed]"
          },
          "metadata": {}
        }
      ],
      "source": [
        "#check distribution of line numbers\n",
        "\n",
        "train_df[\"line_number\"].plot.hist()"
      ]
    },
    {
      "cell_type": "code",
      "execution_count": null,
      "metadata": {
        "colab": {
          "base_uri": "https://localhost:8080/"
        },
        "id": "dqewaOrznnm3",
        "outputId": "9741517b-508f-4602-ab3e-e5a6d09c1af2"
      },
      "outputs": [
        {
          "output_type": "execute_result",
          "data": {
            "text/plain": [
              "(20.0, 15.0)"
            ]
          },
          "metadata": {},
          "execution_count": 82
        }
      ],
      "source": [
        "np.percentile(train_df.total_lines, 98), np.percentile(train_df.line_number, 98)"
      ]
    },
    {
      "cell_type": "markdown",
      "metadata": {
        "id": "NAofzlPLnpWf"
      },
      "source": [
        "98 percentile of the total lines and line numbers are found and based on that we are going to limit our onehot encoding depth"
      ]
    },
    {
      "cell_type": "markdown",
      "metadata": {
        "id": "kVRGJ_KBAUHG"
      },
      "source": [
        "Most of them are done by 15 so we encode only till 15 (as 30 will be too large to one hot encode) as most of the samples will be covered by 15\n"
      ]
    },
    {
      "cell_type": "code",
      "execution_count": null,
      "metadata": {
        "colab": {
          "base_uri": "https://localhost:8080/"
        },
        "id": "d2qExCl-AS2L",
        "outputId": "899ed709-0028-41a8-ce6a-3ce9c4223e56"
      },
      "outputs": [
        {
          "output_type": "execute_result",
          "data": {
            "text/plain": [
              "(TensorShape([180040, 15]),\n",
              " <tf.Tensor: shape=(15, 15), dtype=float32, numpy=\n",
              " array([[1., 0., 0., 0., 0., 0., 0., 0., 0., 0., 0., 0., 0., 0., 0.],\n",
              "        [0., 1., 0., 0., 0., 0., 0., 0., 0., 0., 0., 0., 0., 0., 0.],\n",
              "        [0., 0., 1., 0., 0., 0., 0., 0., 0., 0., 0., 0., 0., 0., 0.],\n",
              "        [0., 0., 0., 1., 0., 0., 0., 0., 0., 0., 0., 0., 0., 0., 0.],\n",
              "        [0., 0., 0., 0., 1., 0., 0., 0., 0., 0., 0., 0., 0., 0., 0.],\n",
              "        [0., 0., 0., 0., 0., 1., 0., 0., 0., 0., 0., 0., 0., 0., 0.],\n",
              "        [0., 0., 0., 0., 0., 0., 1., 0., 0., 0., 0., 0., 0., 0., 0.],\n",
              "        [0., 0., 0., 0., 0., 0., 0., 1., 0., 0., 0., 0., 0., 0., 0.],\n",
              "        [0., 0., 0., 0., 0., 0., 0., 0., 1., 0., 0., 0., 0., 0., 0.],\n",
              "        [0., 0., 0., 0., 0., 0., 0., 0., 0., 1., 0., 0., 0., 0., 0.],\n",
              "        [0., 0., 0., 0., 0., 0., 0., 0., 0., 0., 1., 0., 0., 0., 0.],\n",
              "        [0., 0., 0., 0., 0., 0., 0., 0., 0., 0., 0., 1., 0., 0., 0.],\n",
              "        [1., 0., 0., 0., 0., 0., 0., 0., 0., 0., 0., 0., 0., 0., 0.],\n",
              "        [0., 1., 0., 0., 0., 0., 0., 0., 0., 0., 0., 0., 0., 0., 0.],\n",
              "        [0., 0., 1., 0., 0., 0., 0., 0., 0., 0., 0., 0., 0., 0., 0.]],\n",
              "       dtype=float32)>)"
            ]
          },
          "metadata": {},
          "execution_count": 83
        }
      ],
      "source": [
        "#use tensorflow to create one hot encode the line numbers\n",
        "# the reason for one hot encoding is to not let our model think value 2 is twice the 1 and value 4 is twice 2 in our line numbers\n",
        "\n",
        "train_onehot_line_numbers = tf.one_hot(train_df[\"line_number\"].to_numpy(), depth = 15)\n",
        "val_onehot_line_numbers = tf.one_hot(val_df[\"line_number\"].to_numpy(), depth = 15)\n",
        "test_onehot_line_numbers = tf.one_hot(test_df[\"line_number\"].to_numpy(), depth = 15)\n",
        "train_onehot_line_numbers.shape, train_onehot_line_numbers[:15]"
      ]
    },
    {
      "cell_type": "code",
      "execution_count": null,
      "metadata": {
        "colab": {
          "base_uri": "https://localhost:8080/"
        },
        "id": "DpifcNjqDf1w",
        "outputId": "69c247b8-ed26-4b7d-852b-f1a1df8a12df"
      },
      "outputs": [
        {
          "output_type": "execute_result",
          "data": {
            "text/plain": [
              "Index(['target', 'text', 'line_number', 'total_lines'], dtype='object')"
            ]
          },
          "metadata": {},
          "execution_count": 84
        }
      ],
      "source": [
        "train_df.columns"
      ]
    },
    {
      "cell_type": "code",
      "execution_count": null,
      "metadata": {
        "colab": {
          "base_uri": "https://localhost:8080/"
        },
        "id": "J8jup0iREdAQ",
        "outputId": "becee8d3-a5ec-4f56-f79f-9a94df73cd4e"
      },
      "outputs": [
        {
          "output_type": "execute_result",
          "data": {
            "text/plain": [
              "11    24468\n",
              "10    23639\n",
              "12    22113\n",
              "9     19400\n",
              "13    18438\n",
              "14    14610\n",
              "8     12285\n",
              "15    10768\n",
              "7      7464\n",
              "16     7429\n",
              "17     5202\n",
              "6      3353\n",
              "18     3344\n",
              "19     2480\n",
              "20     1281\n",
              "5      1146\n",
              "21      770\n",
              "22      759\n",
              "23      264\n",
              "4       215\n",
              "24      200\n",
              "25      182\n",
              "26       81\n",
              "28       58\n",
              "3        32\n",
              "30       31\n",
              "27       28\n",
              "Name: total_lines, dtype: int64"
            ]
          },
          "metadata": {},
          "execution_count": 85
        }
      ],
      "source": [
        "train_df[\"total_lines\"].value_counts()"
      ]
    },
    {
      "cell_type": "code",
      "execution_count": null,
      "metadata": {
        "colab": {
          "base_uri": "https://localhost:8080/",
          "height": 448
        },
        "id": "XG0dWTUnEhSn",
        "outputId": "1d8f794d-c8cb-4eea-905b-5b41a9cefa80"
      },
      "outputs": [
        {
          "output_type": "execute_result",
          "data": {
            "text/plain": [
              "<Axes: ylabel='Frequency'>"
            ]
          },
          "metadata": {},
          "execution_count": 86
        },
        {
          "output_type": "display_data",
          "data": {
            "text/plain": [
              "<Figure size 640x480 with 1 Axes>"
            ],
            "image/png": "[encoded data removed]"
          },
          "metadata": {}
        }
      ],
      "source": [
        "train_df[\"total_lines\"].plot.hist()"
      ]
    },
    {
      "cell_type": "code",
      "execution_count": null,
      "metadata": {
        "colab": {
          "base_uri": "https://localhost:8080/"
        },
        "id": "2Fyd_2KjnYok",
        "outputId": "9fd2efcf-36ea-4c07-82d0-1885555d8da1"
      },
      "outputs": [
        {
          "output_type": "execute_result",
          "data": {
            "text/plain": [
              "(TensorShape([180040, 20]),\n",
              " <tf.Tensor: shape=(10, 20), dtype=float32, numpy=\n",
              " array([[0., 0., 0., 0., 0., 0., 0., 0., 0., 0., 0., 1., 0., 0., 0., 0.,\n",
              "         0., 0., 0., 0.],\n",
              "        [0., 0., 0., 0., 0., 0., 0., 0., 0., 0., 0., 1., 0., 0., 0., 0.,\n",
              "         0., 0., 0., 0.],\n",
              "        [0., 0., 0., 0., 0., 0., 0., 0., 0., 0., 0., 1., 0., 0., 0., 0.,\n",
              "         0., 0., 0., 0.],\n",
              "        [0., 0., 0., 0., 0., 0., 0., 0., 0., 0., 0., 1., 0., 0., 0., 0.,\n",
              "         0., 0., 0., 0.],\n",
              "        [0., 0., 0., 0., 0., 0., 0., 0., 0., 0., 0., 1., 0., 0., 0., 0.,\n",
              "         0., 0., 0., 0.],\n",
              "        [0., 0., 0., 0., 0., 0., 0., 0., 0., 0., 0., 1., 0., 0., 0., 0.,\n",
              "         0., 0., 0., 0.],\n",
              "        [0., 0., 0., 0., 0., 0., 0., 0., 0., 0., 0., 1., 0., 0., 0., 0.,\n",
              "         0., 0., 0., 0.],\n",
              "        [0., 0., 0., 0., 0., 0., 0., 0., 0., 0., 0., 1., 0., 0., 0., 0.,\n",
              "         0., 0., 0., 0.],\n",
              "        [0., 0., 0., 0., 0., 0., 0., 0., 0., 0., 0., 1., 0., 0., 0., 0.,\n",
              "         0., 0., 0., 0.],\n",
              "        [0., 0., 0., 0., 0., 0., 0., 0., 0., 0., 0., 1., 0., 0., 0., 0.,\n",
              "         0., 0., 0., 0.]], dtype=float32)>)"
            ]
          },
          "metadata": {},
          "execution_count": 87
        }
      ],
      "source": [
        "train_onehot_total_lines = tf.one_hot(train_df[\"total_lines\"].to_numpy(), depth = 20)\n",
        "val_onehot_total_lines = tf.one_hot(val_df[\"total_lines\"].to_numpy(), depth = 20)\n",
        "test_onehot_total_lines = tf.one_hot(test_df[\"total_lines\"].to_numpy(), depth = 20)\n",
        "train_onehot_total_lines.shape, train_onehot_total_lines[:10]"
      ]
    },
    {
      "cell_type": "code",
      "execution_count": null,
      "metadata": {
        "colab": {
          "base_uri": "https://localhost:8080/"
        },
        "id": "dGnHMrXt03kn",
        "outputId": "3c4dc930-8c9e-46ca-cac4-12909b5c9bbf"
      },
      "outputs": [
        {
          "output_type": "execute_result",
          "data": {
            "text/plain": [
              "(tf.float32, tf.float32)"
            ]
          },
          "metadata": {},
          "execution_count": 88
        }
      ],
      "source": [
        "train_onehot_total_lines.dtype, train_onehot_line_numbers.dtype"
      ]
    },
    {
      "cell_type": "markdown",
      "metadata": {
        "id": "G-zDuzzssssS"
      },
      "source": [
        "#building a tribrid embedding model\n",
        "\n",
        "1. create a token level model\n",
        "2. create a character level model\n",
        "3. create a \"line_number\" level model\n",
        "4. create a \"total_lines model\n",
        "5. concatenate models 1 and 2\n",
        "6. concatenate models 3 4 5\n",
        "7. create an output layer for the tribrid model to accept tribrid embedding and output the label probabilities\n",
        "8. combine inputs of 1 2 3 4 and outputs to tf.keras.Model"
      ]
    },
    {
      "cell_type": "markdown",
      "metadata": {
        "id": "D7qtIGHsverZ"
      },
      "source": [
        "##model 5"
      ]
    },
    {
      "cell_type": "code",
      "execution_count": null,
      "metadata": {
        "colab": {
          "base_uri": "https://localhost:8080/",
          "height": 856
        },
        "id": "_buLVqxwoGuE",
        "outputId": "876927ed-805c-4fe1-e3d9-9b6929f3dcd9"
      },
      "outputs": [
        {
          "output_type": "execute_result",
          "data": {
            "image/png": "[encoded data removed]",
            "text/plain": [
              "<IPython.core.display.Image object>"
            ]
          },
          "metadata": {},
          "execution_count": 89
        }
      ],
      "source": [
        "# 1. token model\n",
        "word_inputs = layers.Input(shape = [], dtype = tf.string, name = \"token_input\")\n",
        "word_embed = embed(word_inputs)\n",
        "word_outputs = layers.Dense(128, activation = \"relu\")(word_embed)\n",
        "word_model = tf.keras.Model(\n",
        "    word_inputs,\n",
        "    word_outputs,\n",
        "    name = \"words\"\n",
        ")\n",
        "\n",
        "# 2. char model\n",
        "char_inputs = layers.Input(shape = (1,), dtype = tf.string, name = \"char_inputs\")\n",
        "char_vector = char_vectorizer(char_inputs)\n",
        "char_embedding = char_embed(char_vector)\n",
        "char_bi_lstm = layers.Bidirectional(layers.LSTM(32))(char_embedding)\n",
        "char_model = tf.keras.Model(\n",
        "    char_inputs,\n",
        "    char_bi_lstm,\n",
        "    name = \"chars\"\n",
        ")\n",
        "\n",
        "word_char_concat = layers.Concatenate(name = \"token_char_hybrid\")([word_model.output, char_model.output])\n",
        "combined_dropout = layers.Dropout(0.5)(word_char_concat)\n",
        "# combined_dense = layers.Dense(128, activation = \"relu\")(combined_dropout)\n",
        "# final_dropout = layers.Dropout(0.5)(combined_dense)\n",
        "# final_dense = layers.Dense(num_classes, activation = \"softmax\")(final_dropout)\n",
        "\n",
        "token_char_dropout = layers.Dropout(0.5)(word_char_concat)\n",
        "token_char_dense = layers.Dense(256, activation = \"relu\")(combined_dropout)\n",
        "\n",
        "# 3. line number model\n",
        "line_number_inputs = layers.Input(shape = (15,), dtype = tf.float32, name = \"line_number_input\")\n",
        "x = layers.Dense(128, activation = 'relu')(line_number_inputs)\n",
        "line_number_model = tf.keras.Model(\n",
        "    line_number_inputs,\n",
        "    x\n",
        ")\n",
        "\n",
        "# 4. total lines model\n",
        "total_lines_inputs = layers.Input(shape = (20,), dtype = tf.float32, name = \"total_lines_input\")\n",
        "y = layers.Dense(128, activation = 'relu')(total_lines_inputs)\n",
        "total_lines_model = tf.keras.Model(\n",
        "    total_lines_inputs,\n",
        "    y\n",
        ")\n",
        "\n",
        "# 5. token char concatencate\n",
        "word_char_concat = layers.Concatenate(name = \"token_char_hybrid\")([word_model.output, char_model.output])\n",
        "z = layers.Dense(128, activation = \"relu\")(word_char_concat)\n",
        "z = layers.Dropout(0.5)(z)\n",
        "\n",
        "# 6. tribrid model\n",
        "tribrid_concat = layers.Concatenate(name = \"tribrid_concat\")([\n",
        "    line_number_model.output,\n",
        "    total_lines_model.output,\n",
        "    z\n",
        "])\n",
        "\n",
        "\n",
        "output_layer = layers.Dense(num_classes, activation = \"softmax\", name = \"output_layer\")(tribrid_concat)\n",
        "\n",
        "model_5 = tf.keras.Model(\n",
        "    inputs=[\n",
        "        line_number_model.inputs,\n",
        "        total_lines_model.inputs,\n",
        "        word_model.inputs,\n",
        "        char_model.inputs\n",
        "    ],\n",
        "    outputs = output_layer,\n",
        "    name = \"tribrid_model\"\n",
        ")\n",
        "\n",
        "from keras.utils import plot_model\n",
        "\n",
        "plot_model(model_5)"
      ]
    },
    {
      "cell_type": "markdown",
      "metadata": {
        "id": "O-IB4CZSKcmT"
      },
      "source": [
        "\n",
        "\n",
        "```\n",
        "# This is formatted as code\n",
        "```\n",
        "\n",
        "Now our model is constructed, let's compile it.\n",
        "\n",
        "This time, we're going to introduce a new parameter to our loss function called `label_smoothing`. Label smoothing helps to regularize our model (prevent overfitting) by making sure it doesn't get too focused on applying one particular label to a sample.\n",
        "\n",
        "For example, instead of having an output prediction of:\n",
        "* `[0.0, 0.0, 1.0, 0.0, 0.0]` for a sample (the model is very confident the right label is index 2).\n",
        "\n",
        "It's predictions will get smoothed to be something like:\n",
        "* `[0.01, 0.01, 0.096, 0.01, 0.01]` giving a small activation to each of the other labels, in turn, hopefully improving generalization.\n",
        "\n",
        "> 📖 **Resource:** For more on label smoothing, see the great blog post by PyImageSearch, [*Label smoothing with Keras, TensorFlow, and Deep Learning*](https://www.pyimagesearch.com/2019/12/30/label-smoothing-with-keras-tensorflow-and-deep-learning/)."
      ]
    },
    {
      "cell_type": "code",
      "execution_count": null,
      "metadata": {
        "id": "5C7zaoAuzxgk"
      },
      "outputs": [],
      "source": [
        "model_5.compile(\n",
        "    loss = tf.keras.losses.CategoricalCrossentropy(label_smoothing = 0.2),\n",
        "    optimizer = tf.keras.optimizers.Adam(),\n",
        "    metrics = [\"accuracy\"]\n",
        ")"
      ]
    },
    {
      "cell_type": "markdown",
      "metadata": {
        "id": "mdXJyldHLkjV"
      },
      "source": [
        "##making final dataset"
      ]
    },
    {
      "cell_type": "markdown",
      "metadata": {
        "id": "mtfm5kClypaY"
      },
      "source": [
        "###train dataset"
      ]
    },
    {
      "cell_type": "code",
      "execution_count": null,
      "metadata": {
        "id": "MjHMpCEXaP1w"
      },
      "outputs": [],
      "source": [
        "#train_data\n",
        "train_final_data = tf.data.Dataset.from_tensor_slices(\n",
        "(    train_onehot_line_numbers,\n",
        "    train_onehot_total_lines,\n",
        "    train_sentences,\n",
        "    train_chars)\n",
        ")\n",
        "#train labels\n",
        "train_final_label = tf.data.Dataset.from_tensor_slices(train_onehot_encoded)\n",
        "#combining them\n",
        "train_final_dataset = tf.data.Dataset.zip((train_final_data, train_final_label))\n",
        "\n",
        "#batching and prefetching to increase speed\n",
        "train_final_dataset = train_final_dataset.batch(32).prefetch(tf.data.AUTOTUNE)"
      ]
    },
    {
      "cell_type": "markdown",
      "metadata": {
        "id": "B38CzaaeytVF"
      },
      "source": [
        "###val_dataset"
      ]
    },
    {
      "cell_type": "code",
      "execution_count": null,
      "metadata": {
        "id": "Jy88h8jTxLa-"
      },
      "outputs": [],
      "source": [
        "val_final_data = tf.data.Dataset.from_tensor_slices(\n",
        "    (val_onehot_line_numbers,\n",
        "    val_onehot_total_lines,\n",
        "    val_sentences,\n",
        "    val_chars)\n",
        ")\n",
        "\n",
        "val_final_label = tf.data.Dataset.from_tensor_slices(val_onehot_encoded)\n",
        "\n",
        "val_final_dataset = tf.data.Dataset.zip((val_final_data, val_final_label))\n",
        "val_final_dataset = val_final_dataset.batch(32).prefetch(tf.data.AUTOTUNE)"
      ]
    },
    {
      "cell_type": "code",
      "execution_count": null,
      "metadata": {
        "colab": {
          "base_uri": "https://localhost:8080/"
        },
        "id": "z9UiVx2ExL3G",
        "outputId": "584a8e01-9f6b-4597-af70-eca118ef3769"
      },
      "outputs": [
        {
          "output_type": "execute_result",
          "data": {
            "text/plain": [
              "(<_PrefetchDataset element_spec=((TensorSpec(shape=(None, 15), dtype=tf.float32, name=None), TensorSpec(shape=(None, 20), dtype=tf.float32, name=None), TensorSpec(shape=(None,), dtype=tf.string, name=None), TensorSpec(shape=(None,), dtype=tf.string, name=None)), TensorSpec(shape=(None, 5), dtype=tf.float64, name=None))>,\n",
              " <_PrefetchDataset element_spec=((TensorSpec(shape=(None, 15), dtype=tf.float32, name=None), TensorSpec(shape=(None, 20), dtype=tf.float32, name=None), TensorSpec(shape=(None,), dtype=tf.string, name=None), TensorSpec(shape=(None,), dtype=tf.string, name=None)), TensorSpec(shape=(None, 5), dtype=tf.float64, name=None))>)"
            ]
          },
          "metadata": {},
          "execution_count": 93
        }
      ],
      "source": [
        "#checking the input shapes\n",
        "train_final_dataset, val_final_dataset"
      ]
    },
    {
      "cell_type": "markdown",
      "metadata": {
        "id": "shQy4kX82CEV"
      },
      "source": [
        "##fitting the tribrid model"
      ]
    },
    {
      "cell_type": "code",
      "execution_count": null,
      "metadata": {
        "id": "DuSg2nVoIk6J"
      },
      "outputs": [],
      "source": [
        "import os\n",
        "\n",
        "\n",
        "def create_model_checkpoint(model_name, save_path = \"Model_Experiments\"):\n",
        "  return tf.keras.callbacks.ModelCheckpoint(filepath = os.path.join(save_path,model_name),\n",
        "                                            verbose = 0, #output limited amount of text,\n",
        "                                            monitor =\"val_loss\",\n",
        "                                            save_best_only=True\n",
        "                                            )"
      ]
    },
    {
      "cell_type": "code",
      "execution_count": null,
      "metadata": {
        "colab": {
          "base_uri": "https://localhost:8080/"
        },
        "id": "kh6wLCXN1tFO",
        "outputId": "dc8b7d18-e0de-4398-96f9-47b97fe7184e"
      },
      "outputs": [
        {
          "metadata": {
            "tags": null
          },
          "name": "stdout",
          "output_type": "stream",
          "text": [
            "Epoch 1/7\n",
            "5627/5627 [==============================] - ETA: 0s - loss: 0.9555 - accuracy: 0.8230"
          ]
        },
        {
          "metadata": {
            "tags": null
          },
          "name": "stderr",
          "output_type": "stream",
          "text": [
            "WARNING:absl:Found untraced functions such as lstm_cell_1_layer_call_fn, lstm_cell_1_layer_call_and_return_conditional_losses, lstm_cell_2_layer_call_fn, lstm_cell_2_layer_call_and_return_conditional_losses while saving (showing 4 of 4). These functions will not be directly callable after loading.\n"
          ]
        },
        {
          "output_type": "stream",
          "name": "stdout",
          "text": [
            "5627/5627 [==============================] - 349s 60ms/step - loss: 0.9555 - accuracy: 0.8230 - val_loss: 0.9094 - val_accuracy: 0.8506\n",
            "Epoch 2/7\n",
            "5627/5627 [==============================] - ETA: 0s - loss: 0.9152 - accuracy: 0.8519"
          ]
        },
        {
          "output_type": "stream",
          "name": "stderr",
          "text": [
            "WARNING:absl:Found untraced functions such as lstm_cell_1_layer_call_fn, lstm_cell_1_layer_call_and_return_conditional_losses, lstm_cell_2_layer_call_fn, lstm_cell_2_layer_call_and_return_conditional_losses while saving (showing 4 of 4). These functions will not be directly callable after loading.\n"
          ]
        },
        {
          "output_type": "stream",
          "name": "stdout",
          "text": [
            "\b\b\b\b\b\b\b\b\b\b\b\b\b\b\b\b\b\b\b\b\b\b\b\b\b\b\b\b\b\b\b\b\b\b\b\b\b\b\b\b\b\b\b\b\b\b\b\b\b\b\b\b\b\b\b\b\b\b\b\b\b\b\b\b\b\b\b\b\b\b\b\b\b\b\b\b\b\b\b\b\b\b\b\b\b\b\r5627/5627 [==============================] - 326s 58ms/step - loss: 0.9152 - accuracy: 0.8519 - val_loss: 0.8988 - val_accuracy: 0.8545\n",
            "Epoch 3/7\n",
            "5626/5627 [============================>.] - ETA: 0s - loss: 0.9036 - accuracy: 0.8606"
          ]
        },
        {
          "output_type": "stream",
          "name": "stderr",
          "text": [
            "WARNING:absl:Found untraced functions such as lstm_cell_1_layer_call_fn, lstm_cell_1_layer_call_and_return_conditional_losses, lstm_cell_2_layer_call_fn, lstm_cell_2_layer_call_and_return_conditional_losses while saving (showing 4 of 4). These functions will not be directly callable after loading.\n"
          ]
        },
        {
          "output_type": "stream",
          "name": "stdout",
          "text": [
            "\b\b\b\b\b\b\b\b\b\b\b\b\b\b\b\b\b\b\b\b\b\b\b\b\b\b\b\b\b\b\b\b\b\b\b\b\b\b\b\b\b\b\b\b\b\b\b\b\b\b\b\b\b\b\b\b\b\b\b\b\b\b\b\b\b\b\b\b\b\b\b\b\b\b\b\b\b\b\b\b\b\b\b\b\b\b\r5627/5627 [==============================] - 327s 58ms/step - loss: 0.9036 - accuracy: 0.8606 - val_loss: 0.8969 - val_accuracy: 0.8551\n",
            "Epoch 4/7\n",
            "5627/5627 [==============================] - ETA: 0s - loss: 0.8951 - accuracy: 0.8665"
          ]
        },
        {
          "output_type": "stream",
          "name": "stderr",
          "text": [
            "WARNING:absl:Found untraced functions such as lstm_cell_1_layer_call_fn, lstm_cell_1_layer_call_and_return_conditional_losses, lstm_cell_2_layer_call_fn, lstm_cell_2_layer_call_and_return_conditional_losses while saving (showing 4 of 4). These functions will not be directly callable after loading.\n"
          ]
        },
        {
          "output_type": "stream",
          "name": "stdout",
          "text": [
            "\b\b\b\b\b\b\b\b\b\b\b\b\b\b\b\b\b\b\b\b\b\b\b\b\b\b\b\b\b\b\b\b\b\b\b\b\b\b\b\b\b\b\b\b\b\b\b\b\b\b\b\b\b\b\b\b\b\b\b\b\b\b\b\b\b\b\b\b\b\b\b\b\b\b\b\b\b\b\b\b\b\b\b\b\b\b\r5627/5627 [==============================] - 331s 59ms/step - loss: 0.8951 - accuracy: 0.8665 - val_loss: 0.8949 - val_accuracy: 0.8568\n",
            "Epoch 5/7\n",
            "5627/5627 [==============================] - 285s 51ms/step - loss: 0.8885 - accuracy: 0.8709 - val_loss: 0.8970 - val_accuracy: 0.8559\n",
            "Epoch 6/7\n",
            "5627/5627 [==============================] - 283s 50ms/step - loss: 0.8827 - accuracy: 0.8754 - val_loss: 0.8978 - val_accuracy: 0.8540\n",
            "Epoch 7/7\n",
            "5627/5627 [==============================] - 278s 49ms/step - loss: 0.8778 - accuracy: 0.8788 - val_loss: 0.8971 - val_accuracy: 0.8546\n"
          ]
        }
      ],
      "source": [
        "history_5 = model_5.fit(\n",
        "    train_final_dataset,\n",
        "    epochs = 7,\n",
        "    steps_per_epoch = len(train_final_dataset),\n",
        "    validation_data = val_final_dataset,\n",
        "    validation_steps = len(val_final_dataset),\n",
        "    callbacks = [create_model_checkpoint(model_5.name)]\n",
        ")\n"
      ]
    },
    {
      "cell_type": "code",
      "execution_count": null,
      "metadata": {
        "id": "aOg5oEJ-2gZv",
        "colab": {
          "base_uri": "https://localhost:8080/"
        },
        "outputId": "b17af6a5-a8ec-4461-93fc-c8155e36a988"
      },
      "outputs": [
        {
          "output_type": "stream",
          "name": "stdout",
          "text": [
            "945/945 [==============================] - 20s 21ms/step - loss: 0.8971 - accuracy: 0.8546\n"
          ]
        },
        {
          "output_type": "execute_result",
          "data": {
            "text/plain": [
              "[0.8971331715583801, 0.8546273112297058]"
            ]
          },
          "metadata": {},
          "execution_count": 96
        }
      ],
      "source": [
        "model_5.evaluate(val_final_dataset)"
      ]
    },
    {
      "cell_type": "code",
      "source": [
        "from google.colab import files\n",
        "\n",
        "files.download(\"/content/Model_Experiments/tribrid_model\")"
      ],
      "metadata": {
        "colab": {
          "base_uri": "https://localhost:8080/",
          "height": 331
        },
        "id": "uQ1AJPdfzQ33",
        "outputId": "9766dd0f-98a0-4f33-8790-499339f88035"
      },
      "execution_count": null,
      "outputs": [
        {
          "output_type": "error",
          "ename": "FileNotFoundError",
          "evalue": "ignored",
          "traceback": [
            "\u001b[0;31m---------------------------------------------------------------------------\u001b[0m",
            "\u001b[0;31mFileNotFoundError\u001b[0m                         Traceback (most recent call last)",
            "\u001b[0;32m<ipython-input-1-147b404acdd7>\u001b[0m in \u001b[0;36m<cell line: 3>\u001b[0;34m()\u001b[0m\n\u001b[1;32m      1\u001b[0m \u001b[0;32mfrom\u001b[0m \u001b[0mgoogle\u001b[0m\u001b[0;34m.\u001b[0m\u001b[0mcolab\u001b[0m \u001b[0;32mimport\u001b[0m \u001b[0mfiles\u001b[0m\u001b[0;34m\u001b[0m\u001b[0;34m\u001b[0m\u001b[0m\n\u001b[1;32m      2\u001b[0m \u001b[0;34m\u001b[0m\u001b[0m\n\u001b[0;32m----> 3\u001b[0;31m \u001b[0mfiles\u001b[0m\u001b[0;34m.\u001b[0m\u001b[0mdownload\u001b[0m\u001b[0;34m(\u001b[0m\u001b[0;34m\"/content/Model_Experiments/tribrid_model\"\u001b[0m\u001b[0;34m)\u001b[0m\u001b[0;34m\u001b[0m\u001b[0;34m\u001b[0m\u001b[0m\n\u001b[0m",
            "\u001b[0;32m/usr/local/lib/python3.10/dist-packages/google/colab/files.py\u001b[0m in \u001b[0;36mdownload\u001b[0;34m(filename)\u001b[0m\n\u001b[1;32m    223\u001b[0m   \u001b[0;32mif\u001b[0m \u001b[0;32mnot\u001b[0m \u001b[0m_os\u001b[0m\u001b[0;34m.\u001b[0m\u001b[0mpath\u001b[0m\u001b[0;34m.\u001b[0m\u001b[0mexists\u001b[0m\u001b[0;34m(\u001b[0m\u001b[0mfilename\u001b[0m\u001b[0;34m)\u001b[0m\u001b[0;34m:\u001b[0m\u001b[0;34m\u001b[0m\u001b[0;34m\u001b[0m\u001b[0m\n\u001b[1;32m    224\u001b[0m     \u001b[0mmsg\u001b[0m \u001b[0;34m=\u001b[0m \u001b[0;34m'Cannot find file: {}'\u001b[0m\u001b[0;34m.\u001b[0m\u001b[0mformat\u001b[0m\u001b[0;34m(\u001b[0m\u001b[0mfilename\u001b[0m\u001b[0;34m)\u001b[0m\u001b[0;34m\u001b[0m\u001b[0;34m\u001b[0m\u001b[0m\n\u001b[0;32m--> 225\u001b[0;31m     \u001b[0;32mraise\u001b[0m \u001b[0mFileNotFoundError\u001b[0m\u001b[0;34m(\u001b[0m\u001b[0mmsg\u001b[0m\u001b[0;34m)\u001b[0m  \u001b[0;31m# pylint: disable=undefined-variable\u001b[0m\u001b[0;34m\u001b[0m\u001b[0;34m\u001b[0m\u001b[0m\n\u001b[0m\u001b[1;32m    226\u001b[0m \u001b[0;34m\u001b[0m\u001b[0m\n\u001b[1;32m    227\u001b[0m   \u001b[0mcomm_manager\u001b[0m \u001b[0;34m=\u001b[0m \u001b[0m_IPython\u001b[0m\u001b[0;34m.\u001b[0m\u001b[0mget_ipython\u001b[0m\u001b[0;34m(\u001b[0m\u001b[0;34m)\u001b[0m\u001b[0;34m.\u001b[0m\u001b[0mkernel\u001b[0m\u001b[0;34m.\u001b[0m\u001b[0mcomm_manager\u001b[0m\u001b[0;34m\u001b[0m\u001b[0;34m\u001b[0m\u001b[0m\n",
            "\u001b[0;31mFileNotFoundError\u001b[0m: Cannot find file: /content/Model_Experiments/tribrid_model"
          ]
        }
      ]
    },
    {
      "cell_type": "code",
      "source": [
        "# import tensorflow_hub as hub\n",
        "\n",
        "# model_saved = tf.keras.models.load_model(\"kimlit_model_5.h5\", custom_objects = {\"KerasLayer\": hub.KerasLayer})\n",
        "\n",
        "model_5.save_model(\"my_model.h5\")\n",
        "\n",
        "# model_saved = tf.keras.models.load_model(\"/content/Model_Experiments/tribrid_model\")"
      ],
      "metadata": {
        "colab": {
          "base_uri": "https://localhost:8080/",
          "height": 245
        },
        "id": "ctnS5_czzFa-",
        "outputId": "6ca38457-51e5-4b6c-f52c-cddb17d5e87e"
      },
      "execution_count": null,
      "outputs": [
        {
          "output_type": "error",
          "ename": "AttributeError",
          "evalue": "ignored",
          "traceback": [
            "\u001b[0;31m---------------------------------------------------------------------------\u001b[0m",
            "\u001b[0;31mAttributeError\u001b[0m                            Traceback (most recent call last)",
            "\u001b[0;32m<ipython-input-99-5285fc8caf75>\u001b[0m in \u001b[0;36m<cell line: 5>\u001b[0;34m()\u001b[0m\n\u001b[1;32m      3\u001b[0m \u001b[0;31m# model_saved = tf.keras.models.load_model(\"kimlit_model_5.h5\", custom_objects = {\"KerasLayer\": hub.KerasLayer})\u001b[0m\u001b[0;34m\u001b[0m\u001b[0;34m\u001b[0m\u001b[0m\n\u001b[1;32m      4\u001b[0m \u001b[0;34m\u001b[0m\u001b[0m\n\u001b[0;32m----> 5\u001b[0;31m \u001b[0mmodel_5\u001b[0m\u001b[0;34m.\u001b[0m\u001b[0msave_model\u001b[0m\u001b[0;34m(\u001b[0m\u001b[0;34m\"my_model.h5\"\u001b[0m\u001b[0;34m)\u001b[0m\u001b[0;34m\u001b[0m\u001b[0;34m\u001b[0m\u001b[0m\n\u001b[0m\u001b[1;32m      6\u001b[0m \u001b[0;34m\u001b[0m\u001b[0m\n\u001b[1;32m      7\u001b[0m \u001b[0;31m# model_saved = tf.keras.models.load_model(\"/content/Model_Experiments/tribrid_model\")\u001b[0m\u001b[0;34m\u001b[0m\u001b[0;34m\u001b[0m\u001b[0m\n",
            "\u001b[0;31mAttributeError\u001b[0m: 'Functional' object has no attribute 'save_model'"
          ]
        }
      ]
    },
    {
      "cell_type": "code",
      "source": [
        "model_saved.evaluate(val_final_dataset)"
      ],
      "metadata": {
        "id": "VFMlgQZP_qo6"
      },
      "execution_count": null,
      "outputs": []
    },
    {
      "cell_type": "code",
      "execution_count": null,
      "metadata": {
        "id": "iXD03rmw6-Wv"
      },
      "outputs": [],
      "source": [
        "model_5_pred_probs = model_5.predict(val_final_dataset)\n",
        "model_5_preds = tf.argmax(model_5_pred_probs, axis = 1)\n",
        "model_5_preds[:5]"
      ]
    },
    {
      "cell_type": "code",
      "execution_count": null,
      "metadata": {
        "id": "LiPlh3U37e-7"
      },
      "outputs": [],
      "source": [
        "res_5 = results(\n",
        "    val_labels_le,\n",
        "    model_5_preds\n",
        ")\n",
        "\n",
        "res_5"
      ]
    },
    {
      "cell_type": "markdown",
      "metadata": {
        "id": "4ozDG-MyoHu1"
      },
      "source": [
        "#Analysing results"
      ]
    },
    {
      "cell_type": "markdown",
      "metadata": {
        "id": "HyPDJPqXoLtU"
      },
      "source": [
        "##results dataframe"
      ]
    },
    {
      "cell_type": "code",
      "execution_count": null,
      "metadata": {
        "id": "oftcwmH47mJ5"
      },
      "outputs": [],
      "source": [
        "results_df = pd.DataFrame({\n",
        "    \"multinomialNB\": res_0,\n",
        "    \"custom_token\": res_1,\n",
        "    \"USE\": res_2,\n",
        "    \"custom_char\": res_3,\n",
        "    \"char_word_combined\": res_4,\n",
        "    \"tribrid\": res_5\n",
        "})\n",
        "\n",
        "results_df= results_df.transpose()\n",
        "results_df"
      ]
    },
    {
      "cell_type": "markdown",
      "metadata": {
        "id": "LWn8_5VBoOWp"
      },
      "source": [
        "Accuracy normalised"
      ]
    },
    {
      "cell_type": "code",
      "execution_count": null,
      "metadata": {
        "id": "lbW6E8oXnpGA"
      },
      "outputs": [],
      "source": [
        "results_df[\"Accuracy\"] /= 100\n",
        "results_df"
      ]
    },
    {
      "cell_type": "markdown",
      "metadata": {
        "id": "JR8nD6H9qJzQ"
      },
      "source": [
        "##plotting all results"
      ]
    },
    {
      "cell_type": "code",
      "execution_count": null,
      "metadata": {
        "id": "Cf1uZYW0n1W2"
      },
      "outputs": [],
      "source": [
        "results_df.plot(kind = \"bar\", figsize = (7,5)).legend(bbox_to_anchor=(1.0, 1.0))"
      ]
    },
    {
      "cell_type": "markdown",
      "metadata": {
        "id": "8Bz46ySoqOPd"
      },
      "source": [
        "Sorting"
      ]
    },
    {
      "cell_type": "code",
      "execution_count": null,
      "metadata": {
        "id": "6memFgX3pMx1"
      },
      "outputs": [],
      "source": [
        "results_df_sorted = results_df.sort_values(\"F1_Score\", ascending = True)\n",
        "results_df_sorted[\"F1_Score\"].plot(kind = \"bar\")"
      ]
    },
    {
      "cell_type": "markdown",
      "metadata": {
        "id": "EUcMe6DBtdU-"
      },
      "source": [
        "* save our model\n",
        "* try the custom token embedding layer\n",
        "* try test data from pubmed website with rct(randomised control test) at the end\n",
        "* see most wrong predictions"
      ]
    },
    {
      "cell_type": "markdown",
      "metadata": {
        "id": "Q_6Hs3bu4Ivc"
      },
      "source": [
        "#model 6 low results"
      ]
    },
    {
      "cell_type": "markdown",
      "metadata": {
        "id": "MwfaoWJ34A3w"
      },
      "source": [
        "##Tribrid with cutsom token embed"
      ]
    },
    {
      "cell_type": "code",
      "execution_count": null,
      "metadata": {
        "id": "TQ-OB_T0p1N8"
      },
      "outputs": [],
      "source": [
        "# # 1. token model\n",
        "# word_inputs = layers.Input(shape = [], dtype = tf.string, name = \"token_input\")\n",
        "# word_vect = text_vect(word_inputs)\n",
        "# word_embed = token_emb(word_vect)\n",
        "# word_conv = layers.Conv1D(128, kernel_size = 5, activation = \"relu\", padding = \"same\")(word_embed)\n",
        "# word_gap = layers.GlobalAveragePooling1D()(word_conv)\n",
        "# word_outputs = layers.Dense(128, activation = \"relu\")(word_gap)\n",
        "# word_model = tf.keras.Model(\n",
        "#     word_inputs,\n",
        "#     word_outputs,\n",
        "#     name = \"words\"\n",
        "# )\n",
        "\n",
        "# # 2. char model\n",
        "# char_inputs = layers.Input(shape = (1,), dtype = tf.string, name = \"char_inputs\")\n",
        "# char_vector = char_vectorizer(char_inputs)\n",
        "# char_embedding = char_embed(char_vector)\n",
        "# char_bi_lstm = layers.Bidirectional(layers.LSTM(32))(char_embedding)\n",
        "# char_model = tf.keras.Model(\n",
        "#     char_inputs,\n",
        "#     char_bi_lstm,\n",
        "#     name = \"chars\"\n",
        "# )\n",
        "\n",
        "# token_char_dropout = layers.Dropout(0.5)(word_char_concat)\n",
        "# token_char_dense = layers.Dense(256, activation = \"relu\")(combined_dropout)\n",
        "\n",
        "# # 3. line number model\n",
        "# line_number_inputs = layers.Input(shape = (15,), dtype = tf.float32, name = \"line_number_input\")\n",
        "# x = layers.Dense(128, activation = 'relu')(line_number_inputs)\n",
        "# line_number_model = tf.keras.Model(\n",
        "#     line_number_inputs,\n",
        "#     x\n",
        "# )\n",
        "\n",
        "# # 4. total lines model\n",
        "# total_lines_inputs = layers.Input(shape = (20,), dtype = tf.float32, name = \"total_lines_input\")\n",
        "# y = layers.Dense(128, activation = 'relu')(total_lines_inputs)\n",
        "# total_lines_model = tf.keras.Model(\n",
        "#     total_lines_inputs,\n",
        "#     y\n",
        "# )\n",
        "\n",
        "# # 5. token char concatencate\n",
        "# word_char_concat = layers.Concatenate(name = \"token_char_hybrid\")([word_model.output, char_model.output])\n",
        "# z = layers.Dense(128, activation = \"relu\")(word_char_concat)\n",
        "# z = layers.Dropout(0.5)(z)\n",
        "\n",
        "# # 6. tribrid model\n",
        "# tribrid_concat = layers.Concatenate(name = \"tribrid_concat\")([\n",
        "#     line_number_model.output,\n",
        "#     total_lines_model.output,\n",
        "#     z\n",
        "# ])\n",
        "\n",
        "\n",
        "# output_layer = layers.Dense(num_classes, activation = \"softmax\", name = \"output_layer\")(tribrid_concat)\n",
        "\n",
        "# model_6 = tf.keras.Model(\n",
        "#     inputs=[\n",
        "#         line_number_model.inputs,\n",
        "#         total_lines_model.inputs,\n",
        "#         word_model.inputs,\n",
        "#         char_model.inputs\n",
        "#     ],\n",
        "#     outputs = output_layer,\n",
        "#     name = \"tribrid_model\"\n",
        "# )\n",
        "\n",
        "# plot_model(model_6)"
      ]
    },
    {
      "cell_type": "markdown",
      "metadata": {
        "id": "C9auhc2W4NP1"
      },
      "source": [
        "##fitting and compilation"
      ]
    },
    {
      "cell_type": "code",
      "execution_count": null,
      "metadata": {
        "id": "EXtl-rsSyaoy"
      },
      "outputs": [],
      "source": [
        "# model_6.compile(\n",
        "#     loss = \"categorical_crossentropy\",\n",
        "#     optimizer = tf.keras.optimizers.Adam(),\n",
        "#     metrics = [\"accuracy\"]\n",
        "# )\n",
        "\n",
        "# model_6.fit(\n",
        "#     train_final_dataset,\n",
        "#     steps_per_epoch = len(train_final_dataset),\n",
        "#     epochs = 3,\n",
        "#     validation_data = val_final_dataset,\n",
        "#     validation_steps = len(val_final_dataset)\n",
        "# )"
      ]
    },
    {
      "cell_type": "code",
      "execution_count": null,
      "metadata": {
        "id": "RgarTODWz2rg"
      },
      "outputs": [],
      "source": []
    }
  ],
  "metadata": {
    "accelerator": "GPU",
    "colab": {
      "provenance": []
    },
    "kernelspec": {
      "display_name": "Python 3",
      "name": "python3"
    },
    "language_info": {
      "name": "python"
    }
  },
  "nbformat": 4,
  "nbformat_minor": 0
}