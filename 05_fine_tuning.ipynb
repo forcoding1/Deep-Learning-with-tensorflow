{
  "cells": [
    {
      "cell_type": "markdown",
      "metadata": {
        "id": "view-in-github",
        "colab_type": "text"
      },
      "source": [
        "<a href=\"https://colab.research.google.com/github/forcoding1/Deep-Learning-with-tensorflow/blob/main/05_fine_tuning.ipynb\" target=\"_parent\"><img src=\"https://colab.research.google.com/assets/colab-badge.svg\" alt=\"Open In Colab\"/></a>"
      ]
    },
    {
      "cell_type": "code",
      "execution_count": null,
      "metadata": {
        "id": "HJHTUSw9ruLD"
      },
      "outputs": [],
      "source": [
        "import tensorflow as tf"
      ]
    },
    {
      "cell_type": "code",
      "execution_count": null,
      "metadata": {
        "colab": {
          "base_uri": "https://localhost:8080/"
        },
        "id": "Xht4Lhb0rxRb",
        "outputId": "4cd2703f-f579-4533-896d-b5efd94ece49"
      },
      "outputs": [
        {
          "output_type": "stream",
          "name": "stdout",
          "text": [
            "--2023-02-05 12:29:27--  https://raw.githubusercontent.com/mrdbourke/tensorflow-deep-learning/main/extras/helper_functions.py\n",
            "Resolving raw.githubusercontent.com (raw.githubusercontent.com)... 185.199.108.133, 185.199.109.133, 185.199.110.133, ...\n",
            "Connecting to raw.githubusercontent.com (raw.githubusercontent.com)|185.199.108.133|:443... connected.\n",
            "HTTP request sent, awaiting response... 200 OK\n",
            "Length: 10246 (10K) [text/plain]\n",
            "Saving to: ‘helper_functions.py.1’\n",
            "\n",
            "\rhelper_functions.py   0%[                    ]       0  --.-KB/s               \rhelper_functions.py 100%[===================>]  10.01K  --.-KB/s    in 0s      \n",
            "\n",
            "2023-02-05 12:29:27 (104 MB/s) - ‘helper_functions.py.1’ saved [10246/10246]\n",
            "\n"
          ]
        }
      ],
      "source": [
        "# Get helper_functions.py script from course GitHub\n",
        "!wget https://raw.githubusercontent.com/mrdbourke/tensorflow-deep-learning/main/extras/helper_functions.py \n",
        "\n",
        "# Import helper functions we're going to use\n",
        "from helper_functions import create_tensorboard_callback, plot_loss_curves, unzip_data, walk_through_dir"
      ]
    },
    {
      "cell_type": "code",
      "execution_count": null,
      "metadata": {
        "colab": {
          "base_uri": "https://localhost:8080/"
        },
        "id": "7Bw89wyKsxRc",
        "outputId": "acbb1c9e-0df5-4f72-952e-8246b3faebd0"
      },
      "outputs": [
        {
          "output_type": "stream",
          "name": "stdout",
          "text": [
            "--2023-02-05 12:29:27--  https://storage.googleapis.com/ztm_tf_course/food_vision/10_food_classes_10_percent.zip\n",
            "Resolving storage.googleapis.com (storage.googleapis.com)... 108.177.127.128, 142.250.153.128, 2a00:1450:4013:c01::80, ...\n",
            "Connecting to storage.googleapis.com (storage.googleapis.com)|108.177.127.128|:443... connected.\n",
            "HTTP request sent, awaiting response... 200 OK\n",
            "Length: 168546183 (161M) [application/zip]\n",
            "Saving to: ‘10_food_classes_10_percent.zip.2’\n",
            "\n",
            "10_food_classes_10_ 100%[===================>] 160.74M  35.0MB/s    in 5.1s    \n",
            "\n",
            "2023-02-05 12:29:33 (31.6 MB/s) - ‘10_food_classes_10_percent.zip.2’ saved [168546183/168546183]\n",
            "\n"
          ]
        }
      ],
      "source": [
        "!wget https://storage.googleapis.com/ztm_tf_course/food_vision/10_food_classes_10_percent.zip \n",
        "\n",
        "unzip_data(\"10_food_classes_10_percent.zip\")"
      ]
    },
    {
      "cell_type": "code",
      "execution_count": null,
      "metadata": {
        "colab": {
          "base_uri": "https://localhost:8080/"
        },
        "id": "TsDXkuxMsgkn",
        "outputId": "7a3473fc-e9a6-4fbb-b6d5-5b453f2bec0c"
      },
      "outputs": [
        {
          "output_type": "stream",
          "name": "stdout",
          "text": [
            "There are 2 directories and 0 images in '10_food_classes_10_percent'.\n",
            "There are 10 directories and 0 images in '10_food_classes_10_percent/test'.\n",
            "There are 0 directories and 250 images in '10_food_classes_10_percent/test/steak'.\n",
            "There are 0 directories and 250 images in '10_food_classes_10_percent/test/hamburger'.\n",
            "There are 0 directories and 250 images in '10_food_classes_10_percent/test/chicken_wings'.\n",
            "There are 0 directories and 250 images in '10_food_classes_10_percent/test/pizza'.\n",
            "There are 0 directories and 250 images in '10_food_classes_10_percent/test/fried_rice'.\n",
            "There are 0 directories and 250 images in '10_food_classes_10_percent/test/ice_cream'.\n",
            "There are 0 directories and 250 images in '10_food_classes_10_percent/test/chicken_curry'.\n",
            "There are 0 directories and 250 images in '10_food_classes_10_percent/test/ramen'.\n",
            "There are 0 directories and 250 images in '10_food_classes_10_percent/test/grilled_salmon'.\n",
            "There are 0 directories and 250 images in '10_food_classes_10_percent/test/sushi'.\n",
            "There are 10 directories and 0 images in '10_food_classes_10_percent/train'.\n",
            "There are 0 directories and 75 images in '10_food_classes_10_percent/train/steak'.\n",
            "There are 0 directories and 75 images in '10_food_classes_10_percent/train/hamburger'.\n",
            "There are 0 directories and 75 images in '10_food_classes_10_percent/train/chicken_wings'.\n",
            "There are 0 directories and 75 images in '10_food_classes_10_percent/train/pizza'.\n",
            "There are 0 directories and 75 images in '10_food_classes_10_percent/train/fried_rice'.\n",
            "There are 0 directories and 75 images in '10_food_classes_10_percent/train/ice_cream'.\n",
            "There are 0 directories and 75 images in '10_food_classes_10_percent/train/chicken_curry'.\n",
            "There are 0 directories and 75 images in '10_food_classes_10_percent/train/ramen'.\n",
            "There are 0 directories and 75 images in '10_food_classes_10_percent/train/grilled_salmon'.\n",
            "There are 0 directories and 75 images in '10_food_classes_10_percent/train/sushi'.\n"
          ]
        }
      ],
      "source": [
        "walk_through_dir(\"10_food_classes_10_percent\")"
      ]
    },
    {
      "cell_type": "code",
      "execution_count": null,
      "metadata": {
        "id": "4ZvuPjn6I-PR"
      },
      "outputs": [],
      "source": [
        "train_dir = \"10_food_classes_10_percent/train/\"\n",
        "test_dir = \"10_food_classes_10_percent/test/\""
      ]
    },
    {
      "cell_type": "code",
      "execution_count": null,
      "metadata": {
        "colab": {
          "base_uri": "https://localhost:8080/"
        },
        "id": "yGXFP0YSsoDc",
        "outputId": "27043cb8-4c36-47ba-e284-69db10240d0c"
      },
      "outputs": [
        {
          "output_type": "stream",
          "name": "stdout",
          "text": [
            "Found 750 files belonging to 10 classes.\n",
            "Found 2500 files belonging to 10 classes.\n"
          ]
        }
      ],
      "source": [
        "img_s = (224,224)\n",
        "batch_s = 32\n",
        "\n",
        "train_data = tf.keras.preprocessing.image_dataset_from_directory(\n",
        "    train_dir,\n",
        "    image_size = img_s,\n",
        "    label_mode = \"categorical\",\n",
        "    batch_size = batch_s\n",
        ")\n",
        "\n",
        "test_data = tf.keras.preprocessing.image_dataset_from_directory(\n",
        "    test_dir,\n",
        "    image_size = img_s,\n",
        "    label_mode = \"categorical\",\n",
        "    batch_size = batch_s\n",
        ")"
      ]
    },
    {
      "cell_type": "code",
      "execution_count": null,
      "metadata": {
        "colab": {
          "base_uri": "https://localhost:8080/"
        },
        "id": "kEICCF-DJkOz",
        "outputId": "07873cba-eff2-4fb0-9297-6a82508e466e"
      },
      "outputs": [
        {
          "output_type": "execute_result",
          "data": {
            "text/plain": [
              "<BatchDataset element_spec=(TensorSpec(shape=(None, 224, 224, 3), dtype=tf.float32, name=None), TensorSpec(shape=(None, 10), dtype=tf.float32, name=None))>"
            ]
          },
          "metadata": {},
          "execution_count": 7
        }
      ],
      "source": [
        "train_data"
      ]
    },
    {
      "cell_type": "code",
      "execution_count": null,
      "metadata": {
        "colab": {
          "base_uri": "https://localhost:8080/"
        },
        "id": "kn9BFk0_Jl9Y",
        "outputId": "d24e5c70-cb83-432d-fe6c-a1cf422141bc"
      },
      "outputs": [
        {
          "output_type": "stream",
          "name": "stdout",
          "text": [
            "tf.Tensor(\n",
            "[[[[155.64285    155.64285    131.64285   ]\n",
            "   [159.16837    159.16837    135.16837   ]\n",
            "   [159.7143     159.7143     135.7143    ]\n",
            "   ...\n",
            "   [  1.           0.          31.        ]\n",
            "   [  1.           0.          31.        ]\n",
            "   [  1.           0.          31.        ]]\n",
            "\n",
            "  [[155.52042    152.52551    131.85713   ]\n",
            "   [156.34694    154.14796    133.2143    ]\n",
            "   [157.68367    155.08675    134.2551    ]\n",
            "   ...\n",
            "   [  1.           0.          31.        ]\n",
            "   [  1.           0.          31.        ]\n",
            "   [  1.           0.          31.        ]]\n",
            "\n",
            "  [[142.         134.57143    117.21429   ]\n",
            "   [146.94388    139.5153     122.158165  ]\n",
            "   [153.61734    146.18878    128.83163   ]\n",
            "   ...\n",
            "   [  1.           0.          31.        ]\n",
            "   [  1.           0.          31.        ]\n",
            "   [  1.           0.          31.        ]]\n",
            "\n",
            "  ...\n",
            "\n",
            "  [[ 61.           1.          27.        ]\n",
            "   [ 63.699005     0.7449168   27.729612  ]\n",
            "   [ 67.64286      1.          28.214287  ]\n",
            "   ...\n",
            "   [ 87.61738     81.97459    104.18885   ]\n",
            "   [ 77.8316      74.8316      95.8316    ]\n",
            "   [ 79.00512     76.00512     97.00512   ]]\n",
            "\n",
            "  [[ 64.           1.          28.        ]\n",
            "   [ 65.06634      0.9336613   28.        ]\n",
            "   [ 70.729614     0.78571415  29.015308  ]\n",
            "   ...\n",
            "   [ 86.61727     80.97448    103.18874   ]\n",
            "   [ 81.86222     78.86222     99.86222   ]\n",
            "   [ 75.40301     72.40301     93.40301   ]]\n",
            "\n",
            "  [[ 65.           1.          28.        ]\n",
            "   [ 66.92857      0.9285717   28.928572  ]\n",
            "   [ 72.41843      0.50507456  29.214287  ]\n",
            "   ...\n",
            "   [ 90.35712     84.714325   106.92859   ]\n",
            "   [ 80.54586     77.54586     98.54586   ]\n",
            "   [ 79.02555     76.02555     97.02555   ]]]\n",
            "\n",
            "\n",
            " [[[118.28571     94.28571     91.        ]\n",
            "   [118.          94.          90.71429   ]\n",
            "   [116.5         90.5         90.21429   ]\n",
            "   ...\n",
            "   [207.36737    191.36737    191.58163   ]\n",
            "   [206.31123    191.31123    188.16835   ]\n",
            "   [207.25513    192.25513    185.25513   ]]\n",
            "\n",
            "  [[116.505104    98.36224     86.71938   ]\n",
            "   [127.02042    105.29592     94.581635  ]\n",
            "   [128.7398     104.07143     94.68368   ]\n",
            "   ...\n",
            "   [209.50005    193.50005    193.51535   ]\n",
            "   [208.86221    193.86221    188.99487   ]\n",
            "   [206.97449    191.97449    184.97449   ]]\n",
            "\n",
            "  [[158.64796    135.79082    109.86224   ]\n",
            "   [173.42857    147.17348    123.65817   ]\n",
            "   [181.38266    150.9796     127.95409   ]\n",
            "   ...\n",
            "   [208.95409    193.95409    190.52551   ]\n",
            "   [205.9847     190.9847     185.9847    ]\n",
            "   [207.06636    192.06636    185.06636   ]]\n",
            "\n",
            "  ...\n",
            "\n",
            "  [[126.295555   116.22417     64.79027   ]\n",
            "   [139.31607    132.03036     90.989426  ]\n",
            "   [154.84679    147.8468     122.11201   ]\n",
            "   ...\n",
            "   [160.38261    186.38261    219.38261   ]\n",
            "   [169.19902    193.19902    227.19902   ]\n",
            "   [168.35703    192.35703    226.35703   ]]\n",
            "\n",
            "  [[ 74.04064     64.61206      8.357026  ]\n",
            "   [104.606705    98.45363     50.183258  ]\n",
            "   [122.096695   117.88241     82.38241   ]\n",
            "   ...\n",
            "   [170.20406    195.77553    230.56126   ]\n",
            "   [167.08675    193.08675    228.08675   ]\n",
            "   [171.94394    195.94394    231.94394   ]]\n",
            "\n",
            "  [[ 60.204       48.132534     5.275565  ]\n",
            "   [ 51.265312    42.954086     5.0052147 ]\n",
            "   [ 64.71842     59.718422    28.146992  ]\n",
            "   ...\n",
            "   [167.26048    192.83195    227.61769   ]\n",
            "   [167.63771    193.63771    228.63771   ]\n",
            "   [168.53586    194.53586    229.53586   ]]]\n",
            "\n",
            "\n",
            " [[[ 75.73884     70.73884     41.73884   ]\n",
            "   [ 62.598213    58.598213    29.598213  ]\n",
            "   [ 56.12835     55.12835     27.12835   ]\n",
            "   ...\n",
            "   [ 85.21569     84.07275     46.13301   ]\n",
            "   [ 88.317024    83.1027      44.363853  ]\n",
            "   [102.34953     91.58496     52.454403  ]]\n",
            "\n",
            "  [[ 75.84821     70.84821     39.004463  ]\n",
            "   [ 61.276787    58.276787    27.145088  ]\n",
            "   [ 62.680805    61.680805    31.680805  ]\n",
            "   ...\n",
            "   [ 77.35065     75.2077      43.83719   ]\n",
            "   [ 87.59926     81.5881      49.42068   ]\n",
            "   [ 85.22673     75.49007     42.63518   ]]\n",
            "\n",
            "  [[ 80.203125    76.203125    39.        ]\n",
            "   [ 72.168526    69.37165     33.762276  ]\n",
            "   [ 66.61495     66.44419     32.637276  ]\n",
            "   ...\n",
            "   [ 75.389595    72.03239     44.41187   ]\n",
            "   [ 82.302475    77.188614    48.245544  ]\n",
            "   [ 87.844925    78.4543      51.048054  ]]\n",
            "\n",
            "  ...\n",
            "\n",
            "  [[ 82.28571     74.28571     35.285713  ]\n",
            "   [ 80.199776    75.199776    35.199776  ]\n",
            "   [ 74.58817     71.80246     30.802456  ]\n",
            "   ...\n",
            "   [123.91857    112.796875    62.72097   ]\n",
            "   [121.36052    108.43196     55.074753  ]\n",
            "   [126.84595    111.84595     54.13159   ]]\n",
            "\n",
            "  [[ 85.877235    80.95536     38.72098   ]\n",
            "   [ 82.824776    77.9029      35.668526  ]\n",
            "   [ 80.22545     77.65402     34.283485  ]\n",
            "   ...\n",
            "   [127.94205    116.00006     68.646225  ]\n",
            "   [133.4018     117.47323     65.33145   ]\n",
            "   [135.33481    118.69199     61.62046   ]]\n",
            "\n",
            "  [[ 87.25223     83.25223     38.25223   ]\n",
            "   [ 82.25334     79.20759     34.20759   ]\n",
            "   [ 80.9375      78.9308      32.7154    ]\n",
            "   ...\n",
            "   [125.426445   111.35833     67.29134   ]\n",
            "   [138.99442    123.01451     71.75442   ]\n",
            "   [139.79689    122.30696     65.62051   ]]]\n",
            "\n",
            "\n",
            " ...\n",
            "\n",
            "\n",
            " [[[  9.627551    36.62755     47.62755   ]\n",
            "   [ 23.357145    50.357143    61.357143  ]\n",
            "   [ 44.862244    73.29082     84.07653   ]\n",
            "   ...\n",
            "   [ 19.933643    18.933643    15.08669   ]\n",
            "   [ 19.045927    18.045927    14.        ]\n",
            "   [ 21.9439      20.229614    15.229614  ]]\n",
            "\n",
            "  [[ 13.857143    40.85714     49.85714   ]\n",
            "   [ 26.500002    53.5         62.5       ]\n",
            "   [ 42.5         71.515305    79.515305  ]\n",
            "   ...\n",
            "   [ 17.158161    18.55608     12.428549  ]\n",
            "   [ 17.07653     18.07653     12.076531  ]\n",
            "   [ 18.142857    19.142857    11.234688  ]]\n",
            "\n",
            "  [[ 17.57143     44.92857     48.92857   ]\n",
            "   [ 30.413267    57.77041     61.77041   ]\n",
            "   [ 43.454082    70.02551     76.59694   ]\n",
            "   ...\n",
            "   [ 15.091871    18.428572    10.193844  ]\n",
            "   [ 15.428572    18.428572     9.428572  ]\n",
            "   [ 15.428572    18.428572     9.428572  ]]\n",
            "\n",
            "  ...\n",
            "\n",
            "  [[139.50516    187.35715    209.50002   ]\n",
            "   [135.22968    183.87247    205.6582    ]\n",
            "   [132.57146    183.57146    204.57146   ]\n",
            "   ...\n",
            "   [116.862274   144.3113     148.95409   ]\n",
            "   [115.27046    140.27046    145.69899   ]\n",
            "   [114.714386   139.71439    145.14291   ]]\n",
            "\n",
            "  [[136.78572    182.38266    205.38266   ]\n",
            "   [133.27553    181.         203.13777   ]\n",
            "   [131.19899    179.84186    201.62756   ]\n",
            "   ...\n",
            "   [116.07144    144.07144    147.07144   ]\n",
            "   [115.07144    143.07144    146.07144   ]\n",
            "   [118.07144    143.07144    147.07144   ]]\n",
            "\n",
            "  [[140.07143    184.         207.35715   ]\n",
            "   [136.4286     182.40309    205.40309   ]\n",
            "   [132.58157    182.06636    203.57143   ]\n",
            "   ...\n",
            "   [119.92862    147.92862    148.92862   ]\n",
            "   [118.7858     146.7858     147.7858    ]\n",
            "   [119.58678    147.58678    148.58678   ]]]\n",
            "\n",
            "\n",
            " [[[  0.           0.           0.        ]\n",
            "   [  0.           0.           0.        ]\n",
            "   [  0.           0.           0.        ]\n",
            "   ...\n",
            "   [ 13.          14.           8.        ]\n",
            "   [ 13.          14.           8.        ]\n",
            "   [ 13.          14.           8.        ]]\n",
            "\n",
            "  [[  0.           0.           0.        ]\n",
            "   [  0.           0.           0.        ]\n",
            "   [  0.           0.           0.        ]\n",
            "   ...\n",
            "   [ 13.785706    14.           6.        ]\n",
            "   [ 13.          14.           6.        ]\n",
            "   [ 13.          14.           6.        ]]\n",
            "\n",
            "  [[  0.           0.           0.        ]\n",
            "   [  0.           0.           0.        ]\n",
            "   [  0.           0.           0.        ]\n",
            "   ...\n",
            "   [ 14.428572    13.785714     6.        ]\n",
            "   [ 14.428572    13.785714     6.        ]\n",
            "   [ 14.          14.           6.        ]]\n",
            "\n",
            "  ...\n",
            "\n",
            "  [[ 93.24378     91.02952     77.60099   ]\n",
            "   [136.26973    132.54013    119.69835   ]\n",
            "   [165.08139    162.08139    146.65286   ]\n",
            "   ...\n",
            "   [ 83.82545     77.82545     63.82551   ]\n",
            "   [ 43.942516    40.728283    25.513988  ]\n",
            "   [ 17.060741    14.285231     3.8925219 ]]\n",
            "\n",
            "  [[  5.158166     2.1122391    0.        ]\n",
            "   [ 19.474289    16.474289     9.683537  ]\n",
            "   [ 64.290184    60.50447     50.106544  ]\n",
            "   ...\n",
            "   [ 13.433512     9.749867     1.459147  ]\n",
            "   [  4.4029274    4.2703395    0.        ]\n",
            "   [  1.5254847    2.7907789    0.        ]]\n",
            "\n",
            "  [[  5.9743824    1.9743826    0.8724017 ]\n",
            "   [  6.295759     2.6988525    0.5969064 ]\n",
            "   [  8.984811     5.984811     1.1225584 ]\n",
            "   ...\n",
            "   [  3.2857666    1.5562651    0.        ]\n",
            "   [  3.239862     4.0970397    0.        ]\n",
            "   [  0.9438766    2.8979218    0.        ]]]\n",
            "\n",
            "\n",
            " [[[196.77042    201.77042    204.77042   ]\n",
            "   [193.23979    198.23979    201.23979   ]\n",
            "   [193.21939    198.21939    202.21939   ]\n",
            "   ...\n",
            "   [106.09183     91.09183     86.09183   ]\n",
            "   [108.45406     93.45406     88.45406   ]\n",
            "   [109.770454    91.770454    87.770454  ]]\n",
            "\n",
            "  [[195.35205    200.35205    203.35205   ]\n",
            "   [192.21428    197.21428    200.21428   ]\n",
            "   [193.11224    198.11224    202.11224   ]\n",
            "   ...\n",
            "   [109.23976     94.23976     89.23976   ]\n",
            "   [109.06632     94.06632     89.06632   ]\n",
            "   [115.260345    97.260345    93.260345  ]]\n",
            "\n",
            "  [[194.14796    199.14796    203.14796   ]\n",
            "   [190.62755    195.62755    199.62755   ]\n",
            "   [192.9796     197.9796     202.07143   ]\n",
            "   ...\n",
            "   [115.97462    100.97462     95.97462   ]\n",
            "   [119.428505   104.428505    99.428505  ]\n",
            "   [115.14289     97.14289     93.14289   ]]\n",
            "\n",
            "  ...\n",
            "\n",
            "  [[193.99998    178.99998     53.57145   ]\n",
            "   [194.7143     179.7143      54.28576   ]\n",
            "   [190.57143    174.92863     50.1429    ]\n",
            "   ...\n",
            "   [ 39.566254    34.64279     28.474438  ]\n",
            "   [ 36.173622    31.158314    27.474632  ]\n",
            "   [ 42.22941     37.443672    34.8722    ]]\n",
            "\n",
            "  [[190.57147    176.57147     53.974537  ]\n",
            "   [191.93369    177.93369     55.071457  ]\n",
            "   [190.7551     174.95407     52.357143  ]\n",
            "   ...\n",
            "   [ 49.076477    42.076477    32.076477  ]\n",
            "   [ 49.15838     45.09204     36.14817   ]\n",
            "   [ 61.066666    56.138107    49.87275   ]]\n",
            "\n",
            "  [[189.08655    174.08655     55.086548  ]\n",
            "   [190.26013    176.26013     54.26013   ]\n",
            "   [190.7245     176.29593     53.79086   ]\n",
            "   ...\n",
            "   [ 62.306717    56.306717    44.306717  ]\n",
            "   [ 86.13315     80.13315     68.13315   ]\n",
            "   [ 84.082085    77.66886     66.4953    ]]]], shape=(32, 224, 224, 3), dtype=float32) tf.Tensor(\n",
            "[[0. 1. 0. 0. 0. 0. 0. 0. 0. 0.]\n",
            " [0. 0. 0. 0. 0. 0. 1. 0. 0. 0.]\n",
            " [0. 0. 0. 0. 1. 0. 0. 0. 0. 0.]\n",
            " [1. 0. 0. 0. 0. 0. 0. 0. 0. 0.]\n",
            " [0. 0. 0. 0. 0. 1. 0. 0. 0. 0.]\n",
            " [0. 0. 0. 0. 0. 0. 1. 0. 0. 0.]\n",
            " [0. 0. 0. 0. 0. 0. 1. 0. 0. 0.]\n",
            " [1. 0. 0. 0. 0. 0. 0. 0. 0. 0.]\n",
            " [0. 0. 0. 0. 0. 0. 0. 0. 0. 1.]\n",
            " [1. 0. 0. 0. 0. 0. 0. 0. 0. 0.]\n",
            " [0. 0. 0. 0. 0. 0. 1. 0. 0. 0.]\n",
            " [0. 0. 0. 1. 0. 0. 0. 0. 0. 0.]\n",
            " [1. 0. 0. 0. 0. 0. 0. 0. 0. 0.]\n",
            " [0. 0. 0. 0. 0. 0. 0. 0. 1. 0.]\n",
            " [0. 0. 0. 0. 0. 0. 0. 1. 0. 0.]\n",
            " [0. 1. 0. 0. 0. 0. 0. 0. 0. 0.]\n",
            " [0. 0. 0. 0. 0. 1. 0. 0. 0. 0.]\n",
            " [0. 1. 0. 0. 0. 0. 0. 0. 0. 0.]\n",
            " [0. 1. 0. 0. 0. 0. 0. 0. 0. 0.]\n",
            " [0. 0. 0. 0. 0. 0. 0. 0. 0. 1.]\n",
            " [0. 0. 0. 0. 0. 0. 0. 0. 1. 0.]\n",
            " [0. 0. 0. 0. 0. 0. 0. 0. 0. 1.]\n",
            " [0. 0. 0. 1. 0. 0. 0. 0. 0. 0.]\n",
            " [0. 0. 0. 1. 0. 0. 0. 0. 0. 0.]\n",
            " [0. 1. 0. 0. 0. 0. 0. 0. 0. 0.]\n",
            " [0. 0. 0. 0. 0. 0. 0. 0. 1. 0.]\n",
            " [0. 1. 0. 0. 0. 0. 0. 0. 0. 0.]\n",
            " [0. 0. 1. 0. 0. 0. 0. 0. 0. 0.]\n",
            " [0. 0. 0. 0. 0. 1. 0. 0. 0. 0.]\n",
            " [1. 0. 0. 0. 0. 0. 0. 0. 0. 0.]\n",
            " [0. 0. 0. 0. 0. 0. 0. 1. 0. 0.]\n",
            " [0. 0. 0. 1. 0. 0. 0. 0. 0. 0.]], shape=(32, 10), dtype=float32)\n"
          ]
        }
      ],
      "source": [
        "for images, labels in train_data.take(1):\n",
        "  print(images, labels)"
      ]
    },
    {
      "cell_type": "markdown",
      "metadata": {
        "id": "ciZYX1UuO8q9"
      },
      "source": [
        "sequential api runs layers in sequential order.\n",
        "Functional api allows our model to have more flexibility"
      ]
    },
    {
      "cell_type": "code",
      "execution_count": null,
      "metadata": {
        "colab": {
          "base_uri": "https://localhost:8080/"
        },
        "id": "w3Uw0BU-Ju87",
        "outputId": "cab89230-005a-45e3-86e2-f357ea636306"
      },
      "outputs": [
        {
          "output_type": "stream",
          "name": "stdout",
          "text": [
            "Shape after base_model: (None, 7, 7, 1280)\n",
            "Shape after Global_avg_pool2d: (None, 1280)\n"
          ]
        }
      ],
      "source": [
        " base_model = tf.keras.applications.EfficientNetB0(include_top=False)\n",
        "\n",
        " base_model.trainable = False\n",
        "\n",
        "inputs = tf.keras.layers.Input(shape = (224,224, 3), name = \"input_layer\")\n",
        "\n",
        "x = base_model(inputs)\n",
        "print(f\"Shape after base_model: {x.shape}\")\n",
        "\n",
        "x = tf.keras.layers.GlobalAveragePooling2D(name = \"global_avg_pool\")(x)\n",
        "print(f\"Shape after Global_avg_pool2d: {x.shape}\")\n",
        "\n",
        "outputs = tf.keras.layers.Dense(10, activation = \"softmax\", name = \"output_layer\")(x)\n",
        "\n",
        "model_00 = tf.keras.Model(inputs, outputs)"
      ]
    },
    {
      "cell_type": "code",
      "execution_count": null,
      "metadata": {
        "id": "5acK_jjorFHf"
      },
      "outputs": [],
      "source": [
        "# from tensorflow.python.framework.ops import Tensor\n",
        "# model_00.compile(\n",
        "#     loss = \"categorical_crossentropy\",\n",
        "#     optimizer = tf.keras.optimizers.Adam(),\n",
        "#     metrics = \"accuracy\"\n",
        "# )\n",
        "\n",
        "# history = model_00.fit(\n",
        "#     train_data,\n",
        "#     epochs = 5,\n",
        "#     steps_per_epoch = len(train_data),\n",
        "#     validation_data = test_data,\n",
        "#     validation_steps = int(0.25*len(test_data)),\n",
        "#     callbacks = [create_tensorboard_callback(\"Transfer_Learning\", \"10_percent_fe_efnet\")]\n",
        "# )"
      ]
    },
    {
      "cell_type": "code",
      "execution_count": null,
      "metadata": {
        "colab": {
          "base_uri": "https://localhost:8080/"
        },
        "id": "RZqoByagdCA8",
        "outputId": "186e528d-bf2e-47f8-b6c0-9d1a3f472788"
      },
      "outputs": [
        {
          "output_type": "stream",
          "name": "stdout",
          "text": [
            "0 input_1\n",
            "1 rescaling\n",
            "2 normalization\n",
            "3 tf.math.truediv\n",
            "4 stem_conv_pad\n",
            "5 stem_conv\n",
            "6 stem_bn\n",
            "7 stem_activation\n",
            "8 block1a_dwconv\n",
            "9 block1a_bn\n",
            "10 block1a_activation\n",
            "11 block1a_se_squeeze\n",
            "12 block1a_se_reshape\n",
            "13 block1a_se_reduce\n",
            "14 block1a_se_expand\n",
            "15 block1a_se_excite\n",
            "16 block1a_project_conv\n",
            "17 block1a_project_bn\n",
            "18 block2a_expand_conv\n",
            "19 block2a_expand_bn\n",
            "20 block2a_expand_activation\n",
            "21 block2a_dwconv_pad\n",
            "22 block2a_dwconv\n",
            "23 block2a_bn\n",
            "24 block2a_activation\n",
            "25 block2a_se_squeeze\n",
            "26 block2a_se_reshape\n",
            "27 block2a_se_reduce\n",
            "28 block2a_se_expand\n",
            "29 block2a_se_excite\n",
            "30 block2a_project_conv\n",
            "31 block2a_project_bn\n",
            "32 block2b_expand_conv\n",
            "33 block2b_expand_bn\n",
            "34 block2b_expand_activation\n",
            "35 block2b_dwconv\n",
            "36 block2b_bn\n",
            "37 block2b_activation\n",
            "38 block2b_se_squeeze\n",
            "39 block2b_se_reshape\n",
            "40 block2b_se_reduce\n",
            "41 block2b_se_expand\n",
            "42 block2b_se_excite\n",
            "43 block2b_project_conv\n",
            "44 block2b_project_bn\n",
            "45 block2b_drop\n",
            "46 block2b_add\n",
            "47 block3a_expand_conv\n",
            "48 block3a_expand_bn\n",
            "49 block3a_expand_activation\n",
            "50 block3a_dwconv_pad\n",
            "51 block3a_dwconv\n",
            "52 block3a_bn\n",
            "53 block3a_activation\n",
            "54 block3a_se_squeeze\n",
            "55 block3a_se_reshape\n",
            "56 block3a_se_reduce\n",
            "57 block3a_se_expand\n",
            "58 block3a_se_excite\n",
            "59 block3a_project_conv\n",
            "60 block3a_project_bn\n",
            "61 block3b_expand_conv\n",
            "62 block3b_expand_bn\n",
            "63 block3b_expand_activation\n",
            "64 block3b_dwconv\n",
            "65 block3b_bn\n",
            "66 block3b_activation\n",
            "67 block3b_se_squeeze\n",
            "68 block3b_se_reshape\n",
            "69 block3b_se_reduce\n",
            "70 block3b_se_expand\n",
            "71 block3b_se_excite\n",
            "72 block3b_project_conv\n",
            "73 block3b_project_bn\n",
            "74 block3b_drop\n",
            "75 block3b_add\n",
            "76 block4a_expand_conv\n",
            "77 block4a_expand_bn\n",
            "78 block4a_expand_activation\n",
            "79 block4a_dwconv_pad\n",
            "80 block4a_dwconv\n",
            "81 block4a_bn\n",
            "82 block4a_activation\n",
            "83 block4a_se_squeeze\n",
            "84 block4a_se_reshape\n",
            "85 block4a_se_reduce\n",
            "86 block4a_se_expand\n",
            "87 block4a_se_excite\n",
            "88 block4a_project_conv\n",
            "89 block4a_project_bn\n",
            "90 block4b_expand_conv\n",
            "91 block4b_expand_bn\n",
            "92 block4b_expand_activation\n",
            "93 block4b_dwconv\n",
            "94 block4b_bn\n",
            "95 block4b_activation\n",
            "96 block4b_se_squeeze\n",
            "97 block4b_se_reshape\n",
            "98 block4b_se_reduce\n",
            "99 block4b_se_expand\n",
            "100 block4b_se_excite\n",
            "101 block4b_project_conv\n",
            "102 block4b_project_bn\n",
            "103 block4b_drop\n",
            "104 block4b_add\n",
            "105 block4c_expand_conv\n",
            "106 block4c_expand_bn\n",
            "107 block4c_expand_activation\n",
            "108 block4c_dwconv\n",
            "109 block4c_bn\n",
            "110 block4c_activation\n",
            "111 block4c_se_squeeze\n",
            "112 block4c_se_reshape\n",
            "113 block4c_se_reduce\n",
            "114 block4c_se_expand\n",
            "115 block4c_se_excite\n",
            "116 block4c_project_conv\n",
            "117 block4c_project_bn\n",
            "118 block4c_drop\n",
            "119 block4c_add\n",
            "120 block5a_expand_conv\n",
            "121 block5a_expand_bn\n",
            "122 block5a_expand_activation\n",
            "123 block5a_dwconv\n",
            "124 block5a_bn\n",
            "125 block5a_activation\n",
            "126 block5a_se_squeeze\n",
            "127 block5a_se_reshape\n",
            "128 block5a_se_reduce\n",
            "129 block5a_se_expand\n",
            "130 block5a_se_excite\n",
            "131 block5a_project_conv\n",
            "132 block5a_project_bn\n",
            "133 block5b_expand_conv\n",
            "134 block5b_expand_bn\n",
            "135 block5b_expand_activation\n",
            "136 block5b_dwconv\n",
            "137 block5b_bn\n",
            "138 block5b_activation\n",
            "139 block5b_se_squeeze\n",
            "140 block5b_se_reshape\n",
            "141 block5b_se_reduce\n",
            "142 block5b_se_expand\n",
            "143 block5b_se_excite\n",
            "144 block5b_project_conv\n",
            "145 block5b_project_bn\n",
            "146 block5b_drop\n",
            "147 block5b_add\n",
            "148 block5c_expand_conv\n",
            "149 block5c_expand_bn\n",
            "150 block5c_expand_activation\n",
            "151 block5c_dwconv\n",
            "152 block5c_bn\n",
            "153 block5c_activation\n",
            "154 block5c_se_squeeze\n",
            "155 block5c_se_reshape\n",
            "156 block5c_se_reduce\n",
            "157 block5c_se_expand\n",
            "158 block5c_se_excite\n",
            "159 block5c_project_conv\n",
            "160 block5c_project_bn\n",
            "161 block5c_drop\n",
            "162 block5c_add\n",
            "163 block6a_expand_conv\n",
            "164 block6a_expand_bn\n",
            "165 block6a_expand_activation\n",
            "166 block6a_dwconv_pad\n",
            "167 block6a_dwconv\n",
            "168 block6a_bn\n",
            "169 block6a_activation\n",
            "170 block6a_se_squeeze\n",
            "171 block6a_se_reshape\n",
            "172 block6a_se_reduce\n",
            "173 block6a_se_expand\n",
            "174 block6a_se_excite\n",
            "175 block6a_project_conv\n",
            "176 block6a_project_bn\n",
            "177 block6b_expand_conv\n",
            "178 block6b_expand_bn\n",
            "179 block6b_expand_activation\n",
            "180 block6b_dwconv\n",
            "181 block6b_bn\n",
            "182 block6b_activation\n",
            "183 block6b_se_squeeze\n",
            "184 block6b_se_reshape\n",
            "185 block6b_se_reduce\n",
            "186 block6b_se_expand\n",
            "187 block6b_se_excite\n",
            "188 block6b_project_conv\n",
            "189 block6b_project_bn\n",
            "190 block6b_drop\n",
            "191 block6b_add\n",
            "192 block6c_expand_conv\n",
            "193 block6c_expand_bn\n",
            "194 block6c_expand_activation\n",
            "195 block6c_dwconv\n",
            "196 block6c_bn\n",
            "197 block6c_activation\n",
            "198 block6c_se_squeeze\n",
            "199 block6c_se_reshape\n",
            "200 block6c_se_reduce\n",
            "201 block6c_se_expand\n",
            "202 block6c_se_excite\n",
            "203 block6c_project_conv\n",
            "204 block6c_project_bn\n",
            "205 block6c_drop\n",
            "206 block6c_add\n",
            "207 block6d_expand_conv\n",
            "208 block6d_expand_bn\n",
            "209 block6d_expand_activation\n",
            "210 block6d_dwconv\n",
            "211 block6d_bn\n",
            "212 block6d_activation\n",
            "213 block6d_se_squeeze\n",
            "214 block6d_se_reshape\n",
            "215 block6d_se_reduce\n",
            "216 block6d_se_expand\n",
            "217 block6d_se_excite\n",
            "218 block6d_project_conv\n",
            "219 block6d_project_bn\n",
            "220 block6d_drop\n",
            "221 block6d_add\n",
            "222 block7a_expand_conv\n",
            "223 block7a_expand_bn\n",
            "224 block7a_expand_activation\n",
            "225 block7a_dwconv\n",
            "226 block7a_bn\n",
            "227 block7a_activation\n",
            "228 block7a_se_squeeze\n",
            "229 block7a_se_reshape\n",
            "230 block7a_se_reduce\n",
            "231 block7a_se_expand\n",
            "232 block7a_se_excite\n",
            "233 block7a_project_conv\n",
            "234 block7a_project_bn\n",
            "235 top_conv\n",
            "236 top_bn\n",
            "237 top_activation\n"
          ]
        }
      ],
      "source": [
        "for layer_num, layer in enumerate(base_model.layers):\n",
        "  print(layer_num , layer.name)"
      ]
    },
    {
      "cell_type": "code",
      "execution_count": null,
      "metadata": {
        "colab": {
          "base_uri": "https://localhost:8080/"
        },
        "id": "puMKBb2kdQs5",
        "outputId": "7c3f8b8d-f423-4f76-fe58-8a4054c702f2"
      },
      "outputs": [
        {
          "output_type": "stream",
          "name": "stdout",
          "text": [
            "[[[[ 1.2074401  -0.7452463   0.6908678 ]\n",
            "   [-0.7635988  -2.4725451   0.583414  ]\n",
            "   [ 0.27248892 -0.4530873   0.59562457]\n",
            "   [-0.85969234 -1.4462645   0.3808334 ]]\n",
            "\n",
            "  [[-0.0147899  -0.58704364 -0.73273367]\n",
            "   [ 0.57390994 -1.2755575  -1.7876909 ]\n",
            "   [ 0.971704    1.2690817   0.79668885]\n",
            "   [ 0.81820124  0.45228273  0.42721364]]\n",
            "\n",
            "  [[ 0.33444843 -1.2464387  -0.01838202]\n",
            "   [-1.3986979  -1.7835697  -1.5526508 ]\n",
            "   [ 0.8596758   0.12363411 -0.51423204]\n",
            "   [-0.12649536 -0.6888031  -1.1992131 ]]\n",
            "\n",
            "  [[ 0.99946725 -0.3370511   1.4751912 ]\n",
            "   [ 0.6965998   1.8013563  -0.46761826]\n",
            "   [ 0.5729726   0.43847594 -0.520363  ]\n",
            "   [ 0.41035894  0.04535478 -0.829893  ]]]]\n",
            "[[ 0.28462452 -0.43158883 -0.16705896]]\n",
            "input_shape: (1, 4, 4, 3)\n",
            " global_avg_pooling_shape: (1, 3)\n",
            "\n"
          ]
        }
      ],
      "source": [
        "inp_sh = (1,4,4,3)\n",
        "\n",
        "tf.random.set_seed(8)\n",
        "input_tensor = tf.random.normal(shape = inp_sh)\n",
        "\n",
        "global_avgpool = tf.keras.layers.GlobalAveragePooling2D()(input_tensor)\n",
        "\n",
        "print(f\"{input_tensor}\\n{global_avgpool}\")\n",
        "print(f\"input_shape: {input_tensor.shape}\\n global_avg_pooling_shape: {global_avgpool.shape}\\n\")"
      ]
    },
    {
      "cell_type": "code",
      "execution_count": null,
      "metadata": {
        "colab": {
          "base_uri": "https://localhost:8080/"
        },
        "id": "jxDv3FRkhLWs",
        "outputId": "5bd57bbe-2310-42b3-dfbc-919f727de269"
      },
      "outputs": [
        {
          "output_type": "execute_result",
          "data": {
            "text/plain": [
              "<tf.Tensor: shape=(1, 3), dtype=float32, numpy=array([[ 0.28462452, -0.43158883, -0.16705896]], dtype=float32)>"
            ]
          },
          "metadata": {},
          "execution_count": 13
        }
      ],
      "source": [
        "tf.reduce_mean(input_tensor, axis = [1,2])"
      ]
    },
    {
      "cell_type": "code",
      "execution_count": null,
      "metadata": {
        "colab": {
          "base_uri": "https://localhost:8080/"
        },
        "id": "QbvCQ0SCjBVr",
        "outputId": "7492fa55-245a-468d-b93a-7142a21484e5"
      },
      "outputs": [
        {
          "output_type": "execute_result",
          "data": {
            "text/plain": [
              "<tf.Tensor: shape=(1, 3), dtype=float32, numpy=array([[1.2074401, 1.8013563, 1.4751912]], dtype=float32)>"
            ]
          },
          "metadata": {},
          "execution_count": 14
        }
      ],
      "source": [
        "global_maxpool = tf.keras.layers.GlobalMaxPooling2D()(input_tensor)\n",
        "global_maxpool"
      ]
    },
    {
      "cell_type": "code",
      "execution_count": null,
      "metadata": {
        "colab": {
          "base_uri": "https://localhost:8080/"
        },
        "id": "gnzNsQXajiTG",
        "outputId": "97c80d1b-eb65-4405-e369-cf0423d7e540"
      },
      "outputs": [
        {
          "output_type": "execute_result",
          "data": {
            "text/plain": [
              "TensorShape([1, 3])"
            ]
          },
          "metadata": {},
          "execution_count": 15
        }
      ],
      "source": [
        "global_maxpool.shape"
      ]
    },
    {
      "cell_type": "code",
      "execution_count": null,
      "metadata": {
        "id": "RINnHz4uAXON"
      },
      "outputs": [],
      "source": [
        "# plot_loss_curves(history)"
      ]
    },
    {
      "cell_type": "code",
      "execution_count": null,
      "metadata": {
        "colab": {
          "base_uri": "https://localhost:8080/"
        },
        "id": "aj4Q0113joow",
        "outputId": "6897d0b8-785f-48b6-b876-d8c2d094d96c"
      },
      "outputs": [
        {
          "output_type": "stream",
          "name": "stdout",
          "text": [
            "--2023-02-05 12:29:44--  https://storage.googleapis.com/ztm_tf_course/food_vision/10_food_classes_1_percent.zip\n",
            "Resolving storage.googleapis.com (storage.googleapis.com)... 108.177.127.128, 142.250.153.128, 2a00:1450:4013:c01::80, ...\n",
            "Connecting to storage.googleapis.com (storage.googleapis.com)|108.177.127.128|:443... connected.\n",
            "HTTP request sent, awaiting response... 200 OK\n",
            "Length: 133612354 (127M) [application/zip]\n",
            "Saving to: ‘10_food_classes_1_percent.zip.1’\n",
            "\n",
            "10_food_classes_1_p 100%[===================>] 127.42M  28.9MB/s    in 5.1s    \n",
            "\n",
            "2023-02-05 12:29:50 (25.1 MB/s) - ‘10_food_classes_1_percent.zip.1’ saved [133612354/133612354]\n",
            "\n"
          ]
        }
      ],
      "source": [
        "!wget https://storage.googleapis.com/ztm_tf_course/food_vision/10_food_classes_1_percent.zip\n",
        "unzip_data(\"10_food_classes_1_percent.zip\")"
      ]
    },
    {
      "cell_type": "code",
      "execution_count": null,
      "metadata": {
        "id": "fHa575FPA07v"
      },
      "outputs": [],
      "source": [
        "train_dir_1p = \"10_food_classes_1_percent/train/\"\n",
        "test_dir_1p = \"10_food_classes_1_percent/test\""
      ]
    },
    {
      "cell_type": "code",
      "execution_count": null,
      "metadata": {
        "id": "PDoVio2kBAP-",
        "colab": {
          "base_uri": "https://localhost:8080/"
        },
        "outputId": "1836eab6-7d24-4cbe-802e-3f95cf29a3c3"
      },
      "outputs": [
        {
          "output_type": "stream",
          "name": "stdout",
          "text": [
            "There are 2 directories and 0 images in '10_food_classes_1_percent'.\n",
            "There are 10 directories and 0 images in '10_food_classes_1_percent/test'.\n",
            "There are 0 directories and 250 images in '10_food_classes_1_percent/test/steak'.\n",
            "There are 0 directories and 250 images in '10_food_classes_1_percent/test/hamburger'.\n",
            "There are 0 directories and 250 images in '10_food_classes_1_percent/test/chicken_wings'.\n",
            "There are 0 directories and 250 images in '10_food_classes_1_percent/test/pizza'.\n",
            "There are 0 directories and 250 images in '10_food_classes_1_percent/test/fried_rice'.\n",
            "There are 0 directories and 250 images in '10_food_classes_1_percent/test/ice_cream'.\n",
            "There are 0 directories and 250 images in '10_food_classes_1_percent/test/chicken_curry'.\n",
            "There are 0 directories and 250 images in '10_food_classes_1_percent/test/ramen'.\n",
            "There are 0 directories and 250 images in '10_food_classes_1_percent/test/grilled_salmon'.\n",
            "There are 0 directories and 250 images in '10_food_classes_1_percent/test/sushi'.\n",
            "There are 10 directories and 0 images in '10_food_classes_1_percent/train'.\n",
            "There are 0 directories and 7 images in '10_food_classes_1_percent/train/steak'.\n",
            "There are 0 directories and 7 images in '10_food_classes_1_percent/train/hamburger'.\n",
            "There are 0 directories and 7 images in '10_food_classes_1_percent/train/chicken_wings'.\n",
            "There are 0 directories and 7 images in '10_food_classes_1_percent/train/pizza'.\n",
            "There are 0 directories and 7 images in '10_food_classes_1_percent/train/fried_rice'.\n",
            "There are 0 directories and 7 images in '10_food_classes_1_percent/train/ice_cream'.\n",
            "There are 0 directories and 7 images in '10_food_classes_1_percent/train/chicken_curry'.\n",
            "There are 0 directories and 7 images in '10_food_classes_1_percent/train/ramen'.\n",
            "There are 0 directories and 7 images in '10_food_classes_1_percent/train/grilled_salmon'.\n",
            "There are 0 directories and 7 images in '10_food_classes_1_percent/train/sushi'.\n"
          ]
        }
      ],
      "source": [
        "walk_through_dir(\"10_food_classes_1_percent\")"
      ]
    },
    {
      "cell_type": "code",
      "execution_count": null,
      "metadata": {
        "id": "lVg70479BCxu",
        "colab": {
          "base_uri": "https://localhost:8080/"
        },
        "outputId": "fbf6d27d-fae7-4b04-ae9a-b5a3a7cd6ecc"
      },
      "outputs": [
        {
          "output_type": "stream",
          "name": "stdout",
          "text": [
            "Found 70 files belonging to 10 classes.\n",
            "Found 2500 files belonging to 10 classes.\n"
          ]
        }
      ],
      "source": [
        "train_data_1p = tf.keras.preprocessing.image_dataset_from_directory(\n",
        "    train_dir_1p,\n",
        "    image_size = img_s,\n",
        "    label_mode = \"categorical\",\n",
        "    batch_size = batch_s\n",
        ")\n",
        "\n",
        "test_data_1p = tf.keras.preprocessing.image_dataset_from_directory(\n",
        "    test_dir_1p,\n",
        "    image_size = img_s,\n",
        "    label_mode = \"categorical\",\n",
        ")"
      ]
    },
    {
      "cell_type": "code",
      "execution_count": null,
      "metadata": {
        "id": "b8cZB9KECfpQ"
      },
      "outputs": [],
      "source": [
        "from tensorflow.keras.layers.experimental import preprocessing\n",
        "\n",
        "data_augment = tf.keras.Sequential([\n",
        "  preprocessing.RandomFlip(\"horizontal\"),\n",
        "  preprocessing.RandomRotation(0.2),\n",
        "  preprocessing.RandomZoom(0.2),\n",
        "  preprocessing.RandomHeight(0.2),\n",
        "  preprocessing.RandomWidth(0.2),\n",
        "], name = \"data_augmentation\")"
      ]
    },
    {
      "cell_type": "code",
      "execution_count": null,
      "metadata": {
        "id": "09KG3prNzrBv",
        "colab": {
          "base_uri": "https://localhost:8080/",
          "height": 546
        },
        "outputId": "7f223134-c86a-4062-d80e-75d21c19a553"
      },
      "outputs": [
        {
          "output_type": "stream",
          "name": "stdout",
          "text": [
            "10_food_classes_10_percent/train/pizza/448519.jpg\n"
          ]
        },
        {
          "output_type": "execute_result",
          "data": {
            "text/plain": [
              "(-0.5, 426.5, 585.5, -0.5)"
            ]
          },
          "metadata": {},
          "execution_count": 22
        },
        {
          "output_type": "display_data",
          "data": {
            "text/plain": [
              "<Figure size 432x288 with 1 Axes>"
            ],
            "image/png": "[encoded data removed]"
          },
          "metadata": {
            "needs_background": "light"
          }
        },
        {
          "output_type": "display_data",
          "data": {
            "text/plain": [
              "<Figure size 432x288 with 1 Axes>"
            ],
            "image/png": "[encoded data removed]"
          },
          "metadata": {
            "needs_background": "light"
          }
        }
      ],
      "source": [
        "import matplotlib.pyplot as plt\n",
        "import os \n",
        "import matplotlib.image as mping\n",
        "import random\n",
        "\n",
        "rand_class = random.choice(train_data_1p.class_names)\n",
        "rand_dir = train_dir + rand_class\n",
        "rand_img = random.choice(os.listdir(rand_dir))\n",
        "\n",
        "rand_path = rand_dir + \"/\" + rand_img\n",
        "\n",
        "print(rand_path)\n",
        "\n",
        "img = mping.imread(rand_path)\n",
        "plt.imshow(img)\n",
        "plt.title(f\"Original: {rand_class}\")\n",
        "plt.axis(False)\n",
        "\n",
        "plt.figure()\n",
        "augmented_img = data_augment(tf.expand_dims(img, axis=0), training=True)\n",
        "plt.imshow(tf.squeeze(augmented_img)/255.)\n",
        "plt.title(f\"Augmented: {rand_class}\")\n",
        "plt.axis(False)"
      ]
    },
    {
      "cell_type": "code",
      "execution_count": null,
      "metadata": {
        "id": "qy_TbD67zAF9"
      },
      "outputs": [],
      "source": [
        "import tensorflow as tf\n",
        "from tensorflow import keras\n",
        "from tensorflow.keras import layers\n",
        "from tensorflow.keras.layers.experimental import preprocessing\n",
        "\n",
        "# Create a data augmentation stage with horizontal flipping, rotations, zooms\n",
        "data_augmentation = keras.Sequential([\n",
        "  preprocessing.RandomFlip(\"horizontal\"),\n",
        "  preprocessing.RandomRotation(0.2),\n",
        "  preprocessing.RandomZoom(0.2),\n",
        "  preprocessing.RandomHeight(0.2),\n",
        "  preprocessing.RandomWidth(0.2),\n",
        "  # preprocessing.Rescaling(1./255) # keep for ResNet50V2, remove for EfficientNetB0\n",
        "], name =\"data_augmentation\")"
      ]
    },
    {
      "cell_type": "markdown",
      "metadata": {
        "id": "wp5fHjYYmFms"
      },
      "source": [
        "if it is a single layer then we add x after the layer like this AvgPool()(x) and if its a whole model then we pass it inside the function call like this base_model(x)."
      ]
    },
    {
      "cell_type": "code",
      "execution_count": null,
      "metadata": {
        "id": "ed6bOMBh6Uwq"
      },
      "outputs": [],
      "source": [
        "# from tensorflow.keras import layers\n",
        "\n",
        "# input_shape = (224, 224, 3)\n",
        "# base_model = tf.keras.applications.EfficientNetB0(include_top = False)\n",
        "# base_model.trainable = False\n",
        "\n",
        "# inputs = layers.Input(shape=input_shape, name = \"input_layer\")\n",
        "\n",
        "# x = data_augment(inputs)\n",
        "\n",
        "# x = base_model(x, training=False)\n",
        "\n",
        "# x = tf.keras.layers.GlobalAveragePooling2D(name = \"Pooling_layer\")(x)\n",
        "\n",
        "# outputs = tf.keras.layers.Dense(10, activation = \"softmax\", name=\"output_layer\")(x)\n",
        "\n",
        "# model_01 = tf.keras.Model(inputs, outputs)\n",
        "\n",
        "# model_01.compile(\n",
        "#     loss = \"categorical_crossentropy\",\n",
        "#     optimizer = tf.keras.optimizers.Adam(),\n",
        "#     metrics = [\"accuracy\"]\n",
        "# )\n",
        "\n",
        "# history_01 = model_01.fit(\n",
        "#     train_data_1p,\n",
        "#     epochs = 10,\n",
        "#     steps_per_epoch = len(train_data_1p),\n",
        "#     validation_data = test_data_1p,\n",
        "#     validation_steps = int(0.25* len(test_data)),\n",
        "#      callbacks=[create_tensorboard_callback(\"transfer_learning\", \"1_percent_data_aug\")]\n",
        "# )"
      ]
    },
    {
      "cell_type": "code",
      "execution_count": null,
      "metadata": {
        "id": "yclJMWZLvB_t"
      },
      "outputs": [],
      "source": [
        "# # Evaluate on the test data\n",
        "# results_1_percent_data_aug = model_01.evaluate(test_data_1p)\n",
        "# results_1_percent_data_aug"
      ]
    },
    {
      "cell_type": "code",
      "execution_count": null,
      "metadata": {
        "colab": {
          "base_uri": "https://localhost:8080/"
        },
        "id": "6CxZ3oL3Zea2",
        "outputId": "dfa34664-dd6e-46f8-8dfa-edea3ded9839"
      },
      "outputs": [
        {
          "output_type": "stream",
          "name": "stdout",
          "text": [
            "--2023-02-05 12:29:52--  https://storage.googleapis.com/ztm_tf_course/food_vision/10_food_classes_10_percent.zip\n",
            "Resolving storage.googleapis.com (storage.googleapis.com)... 108.177.127.128, 142.250.153.128, 2a00:1450:4013:c01::80, ...\n",
            "Connecting to storage.googleapis.com (storage.googleapis.com)|108.177.127.128|:443... connected.\n",
            "HTTP request sent, awaiting response... 200 OK\n",
            "Length: 168546183 (161M) [application/zip]\n",
            "Saving to: ‘10_food_classes_10_percent.zip.3’\n",
            "\n",
            "10_food_classes_10_ 100%[===================>] 160.74M  33.8MB/s    in 5.2s    \n",
            "\n",
            "2023-02-05 12:29:58 (31.1 MB/s) - ‘10_food_classes_10_percent.zip.3’ saved [168546183/168546183]\n",
            "\n"
          ]
        }
      ],
      "source": [
        "# Get 10% of the data of the 10 classes (uncomment if you haven't gotten \"10_food_classes_10_percent.zip\" already)\n",
        "!wget https://storage.googleapis.com/ztm_tf_course/food_vision/10_food_classes_10_percent.zip\n",
        "unzip_data(\"10_food_classes_10_percent.zip\")\n",
        "\n",
        "train_dir_10_percent = \"10_food_classes_10_percent/train/\"\n",
        "test_dir = \"10_food_classes_10_percent/test/\""
      ]
    },
    {
      "cell_type": "code",
      "execution_count": null,
      "metadata": {
        "colab": {
          "base_uri": "https://localhost:8080/"
        },
        "id": "Rk5bS5ANwxNN",
        "outputId": "c15187a8-7b22-4dbc-93b2-3da6d83f7e60"
      },
      "outputs": [
        {
          "output_type": "execute_result",
          "data": {
            "text/plain": [
              "(224, 224)"
            ]
          },
          "metadata": {},
          "execution_count": 27
        }
      ],
      "source": [
        "img_s"
      ]
    },
    {
      "cell_type": "code",
      "execution_count": null,
      "metadata": {
        "colab": {
          "base_uri": "https://localhost:8080/"
        },
        "id": "xRLY6BQdwcPo",
        "outputId": "f5cf2c84-a08f-48c2-acf1-55df9c42cbe0"
      },
      "outputs": [
        {
          "output_type": "stream",
          "name": "stdout",
          "text": [
            "Found 750 files belonging to 10 classes.\n",
            "Found 2500 files belonging to 10 classes.\n"
          ]
        }
      ],
      "source": [
        "train_data_10p = tf.keras.preprocessing.image_dataset_from_directory(\n",
        "    train_dir_10_percent,\n",
        "    image_size = img_s,\n",
        "    label_mode = \"categorical\"\n",
        ")\n",
        "\n",
        "test_data = tf.keras.preprocessing.image_dataset_from_directory(\n",
        "    test_dir,\n",
        "    image_size = img_s,\n",
        "    label_mode = \"categorical\"\n",
        ")"
      ]
    },
    {
      "cell_type": "code",
      "execution_count": null,
      "metadata": {
        "id": "EIAMLbktxCJB"
      },
      "outputs": [],
      "source": [
        "input_shape = (224, 224, 3)\n",
        "\n",
        "base_model = tf.keras.applications.EfficientNetB0(include_top=False)\n",
        "base_model.trainable = False\n",
        "\n",
        "inputs = layers.Input(shape=input_shape)\n",
        "x = data_augment(inputs)\n",
        "x = base_model(x, training=False)\n",
        "x = layers.GlobalAveragePooling2D()(x)\n",
        "outputs = tf.keras.layers.Dense(10, activation=\"softmax\")(x)\n",
        "\n",
        "model_02 = tf.keras.Model(inputs, outputs)\n",
        "\n",
        "model_02.compile(\n",
        "    loss = \"categorical_crossentropy\",\n",
        "    optimizer = tf.keras.optimizers.Adam(),\n",
        "    metrics = [\"accuracy\"]\n",
        ")"
      ]
    },
    {
      "cell_type": "code",
      "execution_count": null,
      "metadata": {
        "id": "MaOVktcL9U0l",
        "colab": {
          "base_uri": "https://localhost:8080/"
        },
        "outputId": "3ebdcfe0-5c82-404f-e826-cb48dc84153b"
      },
      "outputs": [
        {
          "output_type": "stream",
          "name": "stdout",
          "text": [
            "Model: \"model_1\"\n",
            "_________________________________________________________________\n",
            " Layer (type)                Output Shape              Param #   \n",
            "=================================================================\n",
            " input_3 (InputLayer)        [(None, 224, 224, 3)]     0         \n",
            "                                                                 \n",
            " data_augmentation (Sequenti  (None, None, None, 3)    0         \n",
            " al)                                                             \n",
            "                                                                 \n",
            " efficientnetb0 (Functional)  (None, None, None, 1280)  4049571  \n",
            "                                                                 \n",
            " global_average_pooling2d_1   (None, 1280)             0         \n",
            " (GlobalAveragePooling2D)                                        \n",
            "                                                                 \n",
            " dense (Dense)               (None, 10)                12810     \n",
            "                                                                 \n",
            "=================================================================\n",
            "Total params: 4,062,381\n",
            "Trainable params: 12,810\n",
            "Non-trainable params: 4,049,571\n",
            "_________________________________________________________________\n"
          ]
        }
      ],
      "source": [
        "model_02.summary()"
      ]
    },
    {
      "cell_type": "code",
      "execution_count": null,
      "metadata": {
        "id": "REiv6k9k9ZdT"
      },
      "outputs": [],
      "source": [
        "checkpoint_path  = \"ten_percent_model_checkpoints_weights/checkpoint.ckpt\"\n",
        "\n",
        "checkpoint_callback = tf.keras.callbacks.ModelCheckpoint(\n",
        "    filepath = checkpoint_path,\n",
        "    save_weights_only = True,\n",
        "    save_best_only = False,\n",
        "    frequency = \"epoch\" ,\n",
        "    verbose = 1\n",
        ")"
      ]
    },
    {
      "cell_type": "code",
      "execution_count": null,
      "metadata": {
        "colab": {
          "base_uri": "https://localhost:8080/"
        },
        "id": "dR43K9fHypfi",
        "outputId": "dac745f1-59aa-4378-e754-9b62799cacb4"
      },
      "outputs": [
        {
          "output_type": "stream",
          "name": "stdout",
          "text": [
            "Saving TensorBoard log files to: transfer_learning/10_percent_data_aug/20230205-123002\n",
            "Epoch 1/5\n",
            "24/24 [==============================] - ETA: 0s - loss: 1.9392 - accuracy: 0.3573\n",
            "Epoch 1: saving model to ten_percent_model_checkpoints_weights/checkpoint.ckpt\n",
            "24/24 [==============================] - 23s 623ms/step - loss: 1.9392 - accuracy: 0.3573 - val_loss: 1.3861 - val_accuracy: 0.6842\n",
            "Epoch 2/5\n",
            "24/24 [==============================] - ETA: 0s - loss: 1.2817 - accuracy: 0.7000\n",
            "Epoch 2: saving model to ten_percent_model_checkpoints_weights/checkpoint.ckpt\n",
            "24/24 [==============================] - 11s 430ms/step - loss: 1.2817 - accuracy: 0.7000 - val_loss: 0.9404 - val_accuracy: 0.8191\n",
            "Epoch 3/5\n",
            "24/24 [==============================] - ETA: 0s - loss: 0.9771 - accuracy: 0.7560\n",
            "Epoch 3: saving model to ten_percent_model_checkpoints_weights/checkpoint.ckpt\n",
            "24/24 [==============================] - 12s 475ms/step - loss: 0.9771 - accuracy: 0.7560 - val_loss: 0.7661 - val_accuracy: 0.8339\n",
            "Epoch 4/5\n",
            "24/24 [==============================] - ETA: 0s - loss: 0.8333 - accuracy: 0.7933\n",
            "Epoch 4: saving model to ten_percent_model_checkpoints_weights/checkpoint.ckpt\n",
            "24/24 [==============================] - 10s 401ms/step - loss: 0.8333 - accuracy: 0.7933 - val_loss: 0.6676 - val_accuracy: 0.8421\n",
            "Epoch 5/5\n",
            "24/24 [==============================] - ETA: 0s - loss: 0.7198 - accuracy: 0.8133\n",
            "Epoch 5: saving model to ten_percent_model_checkpoints_weights/checkpoint.ckpt\n",
            "24/24 [==============================] - 9s 364ms/step - loss: 0.7198 - accuracy: 0.8133 - val_loss: 0.5678 - val_accuracy: 0.8701\n"
          ]
        }
      ],
      "source": [
        "history_02 = model_02.fit(\n",
        "    train_data_10p,\n",
        "    epochs = 5,\n",
        "    steps_per_epoch = len(train_data_10p),\n",
        "    validation_data = test_data,\n",
        "    validation_steps = int(0.25* len(test_data)),\n",
        "     callbacks=[create_tensorboard_callback(\"transfer_learning\", \"10_percent_data_aug\"), checkpoint_callback]\n",
        ")"
      ]
    },
    {
      "cell_type": "code",
      "execution_count": null,
      "metadata": {
        "id": "14ZZJpM5AQt7",
        "colab": {
          "base_uri": "https://localhost:8080/",
          "height": 573
        },
        "outputId": "ddf054f2-18ad-4012-8a09-0f7f283acce6"
      },
      "outputs": [
        {
          "output_type": "display_data",
          "data": {
            "text/plain": [
              "<Figure size 432x288 with 1 Axes>"
            ],
            "image/png": "[encoded data removed]"
          },
          "metadata": {
            "needs_background": "light"
          }
        },
        {
          "output_type": "display_data",
          "data": {
            "text/plain": [
              "<Figure size 432x288 with 1 Axes>"
            ],
            "image/png": "[encoded data removed]"
          },
          "metadata": {
            "needs_background": "light"
          }
        }
      ],
      "source": [
        "plot_loss_curves(history_02)"
      ]
    },
    {
      "cell_type": "code",
      "execution_count": null,
      "metadata": {
        "id": "HnFPfKQXD-iI"
      },
      "outputs": [],
      "source": [
        "# model_00.evaluate(test_data)"
      ]
    },
    {
      "cell_type": "code",
      "source": [
        "# model_01.evaluate(test_data)"
      ],
      "metadata": {
        "id": "M8EVRW-Rx2mB"
      },
      "execution_count": null,
      "outputs": []
    },
    {
      "cell_type": "code",
      "source": [
        "model_data_aug_10p = model_02.evaluate(test_data)"
      ],
      "metadata": {
        "colab": {
          "base_uri": "https://localhost:8080/"
        },
        "id": "IJLQuMNhx9wD",
        "outputId": "1383fdee-0533-48e5-a21c-2299cdc289cf"
      },
      "execution_count": null,
      "outputs": [
        {
          "output_type": "stream",
          "name": "stdout",
          "text": [
            "79/79 [==============================] - 6s 75ms/step - loss: 0.6236 - accuracy: 0.8420\n"
          ]
        }
      ]
    },
    {
      "cell_type": "code",
      "source": [
        "model_02.load_weights(checkpoint_path)"
      ],
      "metadata": {
        "colab": {
          "base_uri": "https://localhost:8080/"
        },
        "id": "Cmqykgq7yAOe",
        "outputId": "dbb0b1b0-213b-486f-8fb2-4caa33c78685"
      },
      "execution_count": null,
      "outputs": [
        {
          "output_type": "execute_result",
          "data": {
            "text/plain": [
              "<tensorflow.python.training.tracking.util.CheckpointLoadStatus at 0x7fc80e197c10>"
            ]
          },
          "metadata": {},
          "execution_count": 37
        }
      ]
    },
    {
      "cell_type": "code",
      "source": [
        "reloaded_02 = model_02.evaluate(test_data)"
      ],
      "metadata": {
        "colab": {
          "base_uri": "https://localhost:8080/"
        },
        "id": "8SZbzXJ10cU2",
        "outputId": "472e92c4-4425-4ae0-e0eb-a479e05c6217"
      },
      "execution_count": null,
      "outputs": [
        {
          "output_type": "stream",
          "name": "stdout",
          "text": [
            "79/79 [==============================] - 6s 70ms/step - loss: 0.6236 - accuracy: 0.8420\n"
          ]
        }
      ]
    },
    {
      "cell_type": "code",
      "source": [
        "model_data_aug_10p"
      ],
      "metadata": {
        "colab": {
          "base_uri": "https://localhost:8080/"
        },
        "id": "Y0shGfZr05hZ",
        "outputId": "1b3cff14-d104-4bab-fb25-0a176a24ab48"
      },
      "execution_count": null,
      "outputs": [
        {
          "output_type": "execute_result",
          "data": {
            "text/plain": [
              "[0.6235701441764832, 0.8420000076293945]"
            ]
          },
          "metadata": {},
          "execution_count": 39
        }
      ]
    },
    {
      "cell_type": "code",
      "source": [
        "reloaded_02"
      ],
      "metadata": {
        "colab": {
          "base_uri": "https://localhost:8080/"
        },
        "id": "5HVKOQ3T1BHI",
        "outputId": "1c595951-0259-4c87-c9b3-378be25bd180"
      },
      "execution_count": null,
      "outputs": [
        {
          "output_type": "execute_result",
          "data": {
            "text/plain": [
              "[0.6235701441764832, 0.8420000076293945]"
            ]
          },
          "metadata": {},
          "execution_count": 40
        }
      ]
    },
    {
      "cell_type": "markdown",
      "source": [
        "# Fine Tuning an already existing model on 10% data\n"
      ],
      "metadata": {
        "id": "Wgu2o5xEy05n"
      }
    },
    {
      "cell_type": "markdown",
      "source": [
        "Fine tuning usually works best on a feature extraction model which is trained on large custom data."
      ],
      "metadata": {
        "id": "Jszvpsl8zXH-"
      }
    },
    {
      "cell_type": "code",
      "source": [
        "for layer in model_02.layers:\n",
        "  print(layer, layer.trainable)"
      ],
      "metadata": {
        "id": "k2BygKKI1Fep",
        "colab": {
          "base_uri": "https://localhost:8080/"
        },
        "outputId": "7a1bfc3c-c409-42e0-811c-86205b0d8dc7"
      },
      "execution_count": null,
      "outputs": [
        {
          "output_type": "stream",
          "name": "stdout",
          "text": [
            "<keras.engine.input_layer.InputLayer object at 0x7fc88c99dcd0> True\n",
            "<keras.engine.sequential.Sequential object at 0x7fc880a783d0> True\n",
            "<keras.engine.functional.Functional object at 0x7fc88c923190> False\n",
            "<keras.layers.pooling.global_average_pooling2d.GlobalAveragePooling2D object at 0x7fc880c1b730> True\n",
            "<keras.layers.core.dense.Dense object at 0x7fc8809c7b50> True\n"
          ]
        }
      ]
    },
    {
      "cell_type": "code",
      "source": [
        "for i , layer in enumerate(model_02.layers[2].layers):\n",
        "  print(i, layer.name, layer.trainable)"
      ],
      "metadata": {
        "colab": {
          "base_uri": "https://localhost:8080/"
        },
        "id": "ClgVbHT5z_4V",
        "outputId": "366f1a93-89a2-438d-80e0-d2898c06f155"
      },
      "execution_count": null,
      "outputs": [
        {
          "output_type": "stream",
          "name": "stdout",
          "text": [
            "0 input_2 False\n",
            "1 rescaling_1 False\n",
            "2 normalization_1 False\n",
            "3 tf.math.truediv_1 False\n",
            "4 stem_conv_pad False\n",
            "5 stem_conv False\n",
            "6 stem_bn False\n",
            "7 stem_activation False\n",
            "8 block1a_dwconv False\n",
            "9 block1a_bn False\n",
            "10 block1a_activation False\n",
            "11 block1a_se_squeeze False\n",
            "12 block1a_se_reshape False\n",
            "13 block1a_se_reduce False\n",
            "14 block1a_se_expand False\n",
            "15 block1a_se_excite False\n",
            "16 block1a_project_conv False\n",
            "17 block1a_project_bn False\n",
            "18 block2a_expand_conv False\n",
            "19 block2a_expand_bn False\n",
            "20 block2a_expand_activation False\n",
            "21 block2a_dwconv_pad False\n",
            "22 block2a_dwconv False\n",
            "23 block2a_bn False\n",
            "24 block2a_activation False\n",
            "25 block2a_se_squeeze False\n",
            "26 block2a_se_reshape False\n",
            "27 block2a_se_reduce False\n",
            "28 block2a_se_expand False\n",
            "29 block2a_se_excite False\n",
            "30 block2a_project_conv False\n",
            "31 block2a_project_bn False\n",
            "32 block2b_expand_conv False\n",
            "33 block2b_expand_bn False\n",
            "34 block2b_expand_activation False\n",
            "35 block2b_dwconv False\n",
            "36 block2b_bn False\n",
            "37 block2b_activation False\n",
            "38 block2b_se_squeeze False\n",
            "39 block2b_se_reshape False\n",
            "40 block2b_se_reduce False\n",
            "41 block2b_se_expand False\n",
            "42 block2b_se_excite False\n",
            "43 block2b_project_conv False\n",
            "44 block2b_project_bn False\n",
            "45 block2b_drop False\n",
            "46 block2b_add False\n",
            "47 block3a_expand_conv False\n",
            "48 block3a_expand_bn False\n",
            "49 block3a_expand_activation False\n",
            "50 block3a_dwconv_pad False\n",
            "51 block3a_dwconv False\n",
            "52 block3a_bn False\n",
            "53 block3a_activation False\n",
            "54 block3a_se_squeeze False\n",
            "55 block3a_se_reshape False\n",
            "56 block3a_se_reduce False\n",
            "57 block3a_se_expand False\n",
            "58 block3a_se_excite False\n",
            "59 block3a_project_conv False\n",
            "60 block3a_project_bn False\n",
            "61 block3b_expand_conv False\n",
            "62 block3b_expand_bn False\n",
            "63 block3b_expand_activation False\n",
            "64 block3b_dwconv False\n",
            "65 block3b_bn False\n",
            "66 block3b_activation False\n",
            "67 block3b_se_squeeze False\n",
            "68 block3b_se_reshape False\n",
            "69 block3b_se_reduce False\n",
            "70 block3b_se_expand False\n",
            "71 block3b_se_excite False\n",
            "72 block3b_project_conv False\n",
            "73 block3b_project_bn False\n",
            "74 block3b_drop False\n",
            "75 block3b_add False\n",
            "76 block4a_expand_conv False\n",
            "77 block4a_expand_bn False\n",
            "78 block4a_expand_activation False\n",
            "79 block4a_dwconv_pad False\n",
            "80 block4a_dwconv False\n",
            "81 block4a_bn False\n",
            "82 block4a_activation False\n",
            "83 block4a_se_squeeze False\n",
            "84 block4a_se_reshape False\n",
            "85 block4a_se_reduce False\n",
            "86 block4a_se_expand False\n",
            "87 block4a_se_excite False\n",
            "88 block4a_project_conv False\n",
            "89 block4a_project_bn False\n",
            "90 block4b_expand_conv False\n",
            "91 block4b_expand_bn False\n",
            "92 block4b_expand_activation False\n",
            "93 block4b_dwconv False\n",
            "94 block4b_bn False\n",
            "95 block4b_activation False\n",
            "96 block4b_se_squeeze False\n",
            "97 block4b_se_reshape False\n",
            "98 block4b_se_reduce False\n",
            "99 block4b_se_expand False\n",
            "100 block4b_se_excite False\n",
            "101 block4b_project_conv False\n",
            "102 block4b_project_bn False\n",
            "103 block4b_drop False\n",
            "104 block4b_add False\n",
            "105 block4c_expand_conv False\n",
            "106 block4c_expand_bn False\n",
            "107 block4c_expand_activation False\n",
            "108 block4c_dwconv False\n",
            "109 block4c_bn False\n",
            "110 block4c_activation False\n",
            "111 block4c_se_squeeze False\n",
            "112 block4c_se_reshape False\n",
            "113 block4c_se_reduce False\n",
            "114 block4c_se_expand False\n",
            "115 block4c_se_excite False\n",
            "116 block4c_project_conv False\n",
            "117 block4c_project_bn False\n",
            "118 block4c_drop False\n",
            "119 block4c_add False\n",
            "120 block5a_expand_conv False\n",
            "121 block5a_expand_bn False\n",
            "122 block5a_expand_activation False\n",
            "123 block5a_dwconv False\n",
            "124 block5a_bn False\n",
            "125 block5a_activation False\n",
            "126 block5a_se_squeeze False\n",
            "127 block5a_se_reshape False\n",
            "128 block5a_se_reduce False\n",
            "129 block5a_se_expand False\n",
            "130 block5a_se_excite False\n",
            "131 block5a_project_conv False\n",
            "132 block5a_project_bn False\n",
            "133 block5b_expand_conv False\n",
            "134 block5b_expand_bn False\n",
            "135 block5b_expand_activation False\n",
            "136 block5b_dwconv False\n",
            "137 block5b_bn False\n",
            "138 block5b_activation False\n",
            "139 block5b_se_squeeze False\n",
            "140 block5b_se_reshape False\n",
            "141 block5b_se_reduce False\n",
            "142 block5b_se_expand False\n",
            "143 block5b_se_excite False\n",
            "144 block5b_project_conv False\n",
            "145 block5b_project_bn False\n",
            "146 block5b_drop False\n",
            "147 block5b_add False\n",
            "148 block5c_expand_conv False\n",
            "149 block5c_expand_bn False\n",
            "150 block5c_expand_activation False\n",
            "151 block5c_dwconv False\n",
            "152 block5c_bn False\n",
            "153 block5c_activation False\n",
            "154 block5c_se_squeeze False\n",
            "155 block5c_se_reshape False\n",
            "156 block5c_se_reduce False\n",
            "157 block5c_se_expand False\n",
            "158 block5c_se_excite False\n",
            "159 block5c_project_conv False\n",
            "160 block5c_project_bn False\n",
            "161 block5c_drop False\n",
            "162 block5c_add False\n",
            "163 block6a_expand_conv False\n",
            "164 block6a_expand_bn False\n",
            "165 block6a_expand_activation False\n",
            "166 block6a_dwconv_pad False\n",
            "167 block6a_dwconv False\n",
            "168 block6a_bn False\n",
            "169 block6a_activation False\n",
            "170 block6a_se_squeeze False\n",
            "171 block6a_se_reshape False\n",
            "172 block6a_se_reduce False\n",
            "173 block6a_se_expand False\n",
            "174 block6a_se_excite False\n",
            "175 block6a_project_conv False\n",
            "176 block6a_project_bn False\n",
            "177 block6b_expand_conv False\n",
            "178 block6b_expand_bn False\n",
            "179 block6b_expand_activation False\n",
            "180 block6b_dwconv False\n",
            "181 block6b_bn False\n",
            "182 block6b_activation False\n",
            "183 block6b_se_squeeze False\n",
            "184 block6b_se_reshape False\n",
            "185 block6b_se_reduce False\n",
            "186 block6b_se_expand False\n",
            "187 block6b_se_excite False\n",
            "188 block6b_project_conv False\n",
            "189 block6b_project_bn False\n",
            "190 block6b_drop False\n",
            "191 block6b_add False\n",
            "192 block6c_expand_conv False\n",
            "193 block6c_expand_bn False\n",
            "194 block6c_expand_activation False\n",
            "195 block6c_dwconv False\n",
            "196 block6c_bn False\n",
            "197 block6c_activation False\n",
            "198 block6c_se_squeeze False\n",
            "199 block6c_se_reshape False\n",
            "200 block6c_se_reduce False\n",
            "201 block6c_se_expand False\n",
            "202 block6c_se_excite False\n",
            "203 block6c_project_conv False\n",
            "204 block6c_project_bn False\n",
            "205 block6c_drop False\n",
            "206 block6c_add False\n",
            "207 block6d_expand_conv False\n",
            "208 block6d_expand_bn False\n",
            "209 block6d_expand_activation False\n",
            "210 block6d_dwconv False\n",
            "211 block6d_bn False\n",
            "212 block6d_activation False\n",
            "213 block6d_se_squeeze False\n",
            "214 block6d_se_reshape False\n",
            "215 block6d_se_reduce False\n",
            "216 block6d_se_expand False\n",
            "217 block6d_se_excite False\n",
            "218 block6d_project_conv False\n",
            "219 block6d_project_bn False\n",
            "220 block6d_drop False\n",
            "221 block6d_add False\n",
            "222 block7a_expand_conv False\n",
            "223 block7a_expand_bn False\n",
            "224 block7a_expand_activation False\n",
            "225 block7a_dwconv False\n",
            "226 block7a_bn False\n",
            "227 block7a_activation False\n",
            "228 block7a_se_squeeze False\n",
            "229 block7a_se_reshape False\n",
            "230 block7a_se_reduce False\n",
            "231 block7a_se_expand False\n",
            "232 block7a_se_excite False\n",
            "233 block7a_project_conv False\n",
            "234 block7a_project_bn False\n",
            "235 top_conv False\n",
            "236 top_bn False\n",
            "237 top_activation False\n"
          ]
        }
      ]
    },
    {
      "cell_type": "code",
      "source": [
        "# base_model.trainable = True\n",
        "\n",
        "# # Freeze all layers except for the\n",
        "# for layer in base_model.layers[:-10]:\n",
        "#   layer.trainable = False"
      ],
      "metadata": {
        "id": "8KgTu0ez1qVJ"
      },
      "execution_count": null,
      "outputs": []
    },
    {
      "cell_type": "code",
      "source": [
        "base_model.trainable = False\n",
        "\n",
        "for layer in base_model.layers[-10:]:\n",
        "  layer.trainable = True"
      ],
      "metadata": {
        "id": "LGBEm6Qi15Dh"
      },
      "execution_count": null,
      "outputs": []
    },
    {
      "cell_type": "code",
      "source": [
        "for i , layer in enumerate(model_02.layers[2].layers):\n",
        "  print(i, layer.name, layer.trainable)"
      ],
      "metadata": {
        "colab": {
          "base_uri": "https://localhost:8080/"
        },
        "id": "Yo34U3Dr18_p",
        "outputId": "cd33c6eb-56ba-4210-d16c-e8b70a790600"
      },
      "execution_count": null,
      "outputs": [
        {
          "output_type": "stream",
          "name": "stdout",
          "text": [
            "0 input_2 False\n",
            "1 rescaling_1 False\n",
            "2 normalization_1 False\n",
            "3 tf.math.truediv_1 False\n",
            "4 stem_conv_pad False\n",
            "5 stem_conv False\n",
            "6 stem_bn False\n",
            "7 stem_activation False\n",
            "8 block1a_dwconv False\n",
            "9 block1a_bn False\n",
            "10 block1a_activation False\n",
            "11 block1a_se_squeeze False\n",
            "12 block1a_se_reshape False\n",
            "13 block1a_se_reduce False\n",
            "14 block1a_se_expand False\n",
            "15 block1a_se_excite False\n",
            "16 block1a_project_conv False\n",
            "17 block1a_project_bn False\n",
            "18 block2a_expand_conv False\n",
            "19 block2a_expand_bn False\n",
            "20 block2a_expand_activation False\n",
            "21 block2a_dwconv_pad False\n",
            "22 block2a_dwconv False\n",
            "23 block2a_bn False\n",
            "24 block2a_activation False\n",
            "25 block2a_se_squeeze False\n",
            "26 block2a_se_reshape False\n",
            "27 block2a_se_reduce False\n",
            "28 block2a_se_expand False\n",
            "29 block2a_se_excite False\n",
            "30 block2a_project_conv False\n",
            "31 block2a_project_bn False\n",
            "32 block2b_expand_conv False\n",
            "33 block2b_expand_bn False\n",
            "34 block2b_expand_activation False\n",
            "35 block2b_dwconv False\n",
            "36 block2b_bn False\n",
            "37 block2b_activation False\n",
            "38 block2b_se_squeeze False\n",
            "39 block2b_se_reshape False\n",
            "40 block2b_se_reduce False\n",
            "41 block2b_se_expand False\n",
            "42 block2b_se_excite False\n",
            "43 block2b_project_conv False\n",
            "44 block2b_project_bn False\n",
            "45 block2b_drop False\n",
            "46 block2b_add False\n",
            "47 block3a_expand_conv False\n",
            "48 block3a_expand_bn False\n",
            "49 block3a_expand_activation False\n",
            "50 block3a_dwconv_pad False\n",
            "51 block3a_dwconv False\n",
            "52 block3a_bn False\n",
            "53 block3a_activation False\n",
            "54 block3a_se_squeeze False\n",
            "55 block3a_se_reshape False\n",
            "56 block3a_se_reduce False\n",
            "57 block3a_se_expand False\n",
            "58 block3a_se_excite False\n",
            "59 block3a_project_conv False\n",
            "60 block3a_project_bn False\n",
            "61 block3b_expand_conv False\n",
            "62 block3b_expand_bn False\n",
            "63 block3b_expand_activation False\n",
            "64 block3b_dwconv False\n",
            "65 block3b_bn False\n",
            "66 block3b_activation False\n",
            "67 block3b_se_squeeze False\n",
            "68 block3b_se_reshape False\n",
            "69 block3b_se_reduce False\n",
            "70 block3b_se_expand False\n",
            "71 block3b_se_excite False\n",
            "72 block3b_project_conv False\n",
            "73 block3b_project_bn False\n",
            "74 block3b_drop False\n",
            "75 block3b_add False\n",
            "76 block4a_expand_conv False\n",
            "77 block4a_expand_bn False\n",
            "78 block4a_expand_activation False\n",
            "79 block4a_dwconv_pad False\n",
            "80 block4a_dwconv False\n",
            "81 block4a_bn False\n",
            "82 block4a_activation False\n",
            "83 block4a_se_squeeze False\n",
            "84 block4a_se_reshape False\n",
            "85 block4a_se_reduce False\n",
            "86 block4a_se_expand False\n",
            "87 block4a_se_excite False\n",
            "88 block4a_project_conv False\n",
            "89 block4a_project_bn False\n",
            "90 block4b_expand_conv False\n",
            "91 block4b_expand_bn False\n",
            "92 block4b_expand_activation False\n",
            "93 block4b_dwconv False\n",
            "94 block4b_bn False\n",
            "95 block4b_activation False\n",
            "96 block4b_se_squeeze False\n",
            "97 block4b_se_reshape False\n",
            "98 block4b_se_reduce False\n",
            "99 block4b_se_expand False\n",
            "100 block4b_se_excite False\n",
            "101 block4b_project_conv False\n",
            "102 block4b_project_bn False\n",
            "103 block4b_drop False\n",
            "104 block4b_add False\n",
            "105 block4c_expand_conv False\n",
            "106 block4c_expand_bn False\n",
            "107 block4c_expand_activation False\n",
            "108 block4c_dwconv False\n",
            "109 block4c_bn False\n",
            "110 block4c_activation False\n",
            "111 block4c_se_squeeze False\n",
            "112 block4c_se_reshape False\n",
            "113 block4c_se_reduce False\n",
            "114 block4c_se_expand False\n",
            "115 block4c_se_excite False\n",
            "116 block4c_project_conv False\n",
            "117 block4c_project_bn False\n",
            "118 block4c_drop False\n",
            "119 block4c_add False\n",
            "120 block5a_expand_conv False\n",
            "121 block5a_expand_bn False\n",
            "122 block5a_expand_activation False\n",
            "123 block5a_dwconv False\n",
            "124 block5a_bn False\n",
            "125 block5a_activation False\n",
            "126 block5a_se_squeeze False\n",
            "127 block5a_se_reshape False\n",
            "128 block5a_se_reduce False\n",
            "129 block5a_se_expand False\n",
            "130 block5a_se_excite False\n",
            "131 block5a_project_conv False\n",
            "132 block5a_project_bn False\n",
            "133 block5b_expand_conv False\n",
            "134 block5b_expand_bn False\n",
            "135 block5b_expand_activation False\n",
            "136 block5b_dwconv False\n",
            "137 block5b_bn False\n",
            "138 block5b_activation False\n",
            "139 block5b_se_squeeze False\n",
            "140 block5b_se_reshape False\n",
            "141 block5b_se_reduce False\n",
            "142 block5b_se_expand False\n",
            "143 block5b_se_excite False\n",
            "144 block5b_project_conv False\n",
            "145 block5b_project_bn False\n",
            "146 block5b_drop False\n",
            "147 block5b_add False\n",
            "148 block5c_expand_conv False\n",
            "149 block5c_expand_bn False\n",
            "150 block5c_expand_activation False\n",
            "151 block5c_dwconv False\n",
            "152 block5c_bn False\n",
            "153 block5c_activation False\n",
            "154 block5c_se_squeeze False\n",
            "155 block5c_se_reshape False\n",
            "156 block5c_se_reduce False\n",
            "157 block5c_se_expand False\n",
            "158 block5c_se_excite False\n",
            "159 block5c_project_conv False\n",
            "160 block5c_project_bn False\n",
            "161 block5c_drop False\n",
            "162 block5c_add False\n",
            "163 block6a_expand_conv False\n",
            "164 block6a_expand_bn False\n",
            "165 block6a_expand_activation False\n",
            "166 block6a_dwconv_pad False\n",
            "167 block6a_dwconv False\n",
            "168 block6a_bn False\n",
            "169 block6a_activation False\n",
            "170 block6a_se_squeeze False\n",
            "171 block6a_se_reshape False\n",
            "172 block6a_se_reduce False\n",
            "173 block6a_se_expand False\n",
            "174 block6a_se_excite False\n",
            "175 block6a_project_conv False\n",
            "176 block6a_project_bn False\n",
            "177 block6b_expand_conv False\n",
            "178 block6b_expand_bn False\n",
            "179 block6b_expand_activation False\n",
            "180 block6b_dwconv False\n",
            "181 block6b_bn False\n",
            "182 block6b_activation False\n",
            "183 block6b_se_squeeze False\n",
            "184 block6b_se_reshape False\n",
            "185 block6b_se_reduce False\n",
            "186 block6b_se_expand False\n",
            "187 block6b_se_excite False\n",
            "188 block6b_project_conv False\n",
            "189 block6b_project_bn False\n",
            "190 block6b_drop False\n",
            "191 block6b_add False\n",
            "192 block6c_expand_conv False\n",
            "193 block6c_expand_bn False\n",
            "194 block6c_expand_activation False\n",
            "195 block6c_dwconv False\n",
            "196 block6c_bn False\n",
            "197 block6c_activation False\n",
            "198 block6c_se_squeeze False\n",
            "199 block6c_se_reshape False\n",
            "200 block6c_se_reduce False\n",
            "201 block6c_se_expand False\n",
            "202 block6c_se_excite False\n",
            "203 block6c_project_conv False\n",
            "204 block6c_project_bn False\n",
            "205 block6c_drop False\n",
            "206 block6c_add False\n",
            "207 block6d_expand_conv False\n",
            "208 block6d_expand_bn False\n",
            "209 block6d_expand_activation False\n",
            "210 block6d_dwconv False\n",
            "211 block6d_bn False\n",
            "212 block6d_activation False\n",
            "213 block6d_se_squeeze False\n",
            "214 block6d_se_reshape False\n",
            "215 block6d_se_reduce False\n",
            "216 block6d_se_expand False\n",
            "217 block6d_se_excite False\n",
            "218 block6d_project_conv False\n",
            "219 block6d_project_bn False\n",
            "220 block6d_drop False\n",
            "221 block6d_add False\n",
            "222 block7a_expand_conv False\n",
            "223 block7a_expand_bn False\n",
            "224 block7a_expand_activation False\n",
            "225 block7a_dwconv False\n",
            "226 block7a_bn False\n",
            "227 block7a_activation False\n",
            "228 block7a_se_squeeze True\n",
            "229 block7a_se_reshape True\n",
            "230 block7a_se_reduce True\n",
            "231 block7a_se_expand True\n",
            "232 block7a_se_excite True\n",
            "233 block7a_project_conv True\n",
            "234 block7a_project_bn True\n",
            "235 top_conv True\n",
            "236 top_bn True\n",
            "237 top_activation True\n"
          ]
        }
      ]
    },
    {
      "cell_type": "code",
      "source": [
        "len(model_02.trainable_variables)"
      ],
      "metadata": {
        "colab": {
          "base_uri": "https://localhost:8080/"
        },
        "id": "UOSlkpdvJwYE",
        "outputId": "8df1fa93-ceea-4574-89b9-5f4909fd3a17"
      },
      "execution_count": null,
      "outputs": [
        {
          "output_type": "execute_result",
          "data": {
            "text/plain": [
              "2"
            ]
          },
          "metadata": {},
          "execution_count": 46
        }
      ]
    },
    {
      "cell_type": "code",
      "source": [
        "model_02.compile(\n",
        "    loss = \"categorical_crossentropy\",\n",
        "    optimizer = tf.keras.optimizers.Adam(learning_rate = 0.0001),\n",
        "    metrics = \"accuracy\"\n",
        ")"
      ],
      "metadata": {
        "id": "CXkZjL-c4QWn"
      },
      "execution_count": null,
      "outputs": []
    },
    {
      "cell_type": "code",
      "source": [
        "len(model_02.trainable_variables)"
      ],
      "metadata": {
        "colab": {
          "base_uri": "https://localhost:8080/"
        },
        "id": "oeCqeB8QJrq0",
        "outputId": "e81cf5f5-9543-44bf-dcb2-61e4d7430a14"
      },
      "execution_count": null,
      "outputs": [
        {
          "output_type": "execute_result",
          "data": {
            "text/plain": [
              "2"
            ]
          },
          "metadata": {},
          "execution_count": 48
        }
      ]
    },
    {
      "cell_type": "code",
      "source": [
        "initial_epochs = 5"
      ],
      "metadata": {
        "id": "MYNP2VXi_H0x"
      },
      "execution_count": null,
      "outputs": []
    },
    {
      "cell_type": "code",
      "source": [
        "fine_tune_epochs = initial_epochs + 5\n",
        "\n",
        "# Refit the model (same as model_2 except with more trainable layers)\n",
        "history_fine_10_percent_data_aug = model_02.fit(train_data_10p,\n",
        "                                               epochs=fine_tune_epochs,\n",
        "                                               validation_data=test_data,\n",
        "                                               initial_epoch=history_02.epoch[-1], # start from previous last epoch\n",
        "                                               validation_steps=int(0.25 * len(test_data)),\n",
        "                                               callbacks=[create_tensorboard_callback(\"transfer_learning\", \"10_percent_fine_tune_last_10\")]) # name expe"
      ],
      "metadata": {
        "colab": {
          "base_uri": "https://localhost:8080/"
        },
        "id": "P6FC-07M-7gQ",
        "outputId": "cac199d2-fbf9-4d70-e557-1ec6dbe51b84"
      },
      "execution_count": null,
      "outputs": [
        {
          "output_type": "stream",
          "name": "stdout",
          "text": [
            "Saving TensorBoard log files to: transfer_learning/10_percent_fine_tune_last_10/20230205-123126\n",
            "Epoch 5/10\n",
            "24/24 [==============================] - 16s 434ms/step - loss: 0.6655 - accuracy: 0.8467 - val_loss: 0.5894 - val_accuracy: 0.8586\n",
            "Epoch 6/10\n",
            "24/24 [==============================] - 10s 392ms/step - loss: 0.6458 - accuracy: 0.8520 - val_loss: 0.5989 - val_accuracy: 0.8503\n",
            "Epoch 7/10\n",
            "24/24 [==============================] - 9s 362ms/step - loss: 0.6394 - accuracy: 0.8507 - val_loss: 0.5895 - val_accuracy: 0.8536\n",
            "Epoch 8/10\n",
            "24/24 [==============================] - 8s 331ms/step - loss: 0.6389 - accuracy: 0.8613 - val_loss: 0.5639 - val_accuracy: 0.8668\n",
            "Epoch 9/10\n",
            "24/24 [==============================] - 9s 365ms/step - loss: 0.6273 - accuracy: 0.8400 - val_loss: 0.5510 - val_accuracy: 0.8618\n",
            "Epoch 10/10\n",
            "24/24 [==============================] - 8s 297ms/step - loss: 0.6330 - accuracy: 0.8453 - val_loss: 0.5470 - val_accuracy: 0.8569\n"
          ]
        }
      ]
    },
    {
      "cell_type": "code",
      "source": [
        "model_data_aug_10p"
      ],
      "metadata": {
        "colab": {
          "base_uri": "https://localhost:8080/"
        },
        "id": "OufdM7UiDvdA",
        "outputId": "b40859d5-6740-4f6d-ceeb-bee1956889a1"
      },
      "execution_count": null,
      "outputs": [
        {
          "output_type": "execute_result",
          "data": {
            "text/plain": [
              "[0.6235701441764832, 0.8420000076293945]"
            ]
          },
          "metadata": {},
          "execution_count": 51
        }
      ]
    },
    {
      "cell_type": "code",
      "source": [
        "model_data_aug_10p_ft = model_02.evaluate(test_data)"
      ],
      "metadata": {
        "colab": {
          "base_uri": "https://localhost:8080/"
        },
        "id": "Ho9tJORWDxZb",
        "outputId": "f8700acd-66e5-43bf-e529-49d8cff49a8e"
      },
      "execution_count": null,
      "outputs": [
        {
          "output_type": "stream",
          "name": "stdout",
          "text": [
            "79/79 [==============================] - 6s 71ms/step - loss: 0.5888 - accuracy: 0.8476\n"
          ]
        }
      ]
    },
    {
      "cell_type": "code",
      "source": [
        "def compare_histories(initial_history, new_history, initial_epochs = 5):\n",
        "  acc = initial_history.history[\"accuracy\"]\n",
        "  loss = initial_history.history[\"loss\"]\n",
        "\n",
        "  val_loss = initial_history.history[\"val_loss\"]\n",
        "  val_acc = initial_history.history[\"val_accuracy\"]\n",
        "\n",
        "  total_acc = acc + new_history.history[\"accuracy\"]\n",
        "  total_loss = loss + new_history.history[\"loss\"]\n",
        "\n",
        "  total_val_acc = val_acc + new_history.history[\"val_accuracy\"]\n",
        "  total_val_loss = val_loss + new_history.history[\"val_loss\"]\n",
        "\n",
        "  print(len(total_acc))\n",
        "  print(total_acc)\n",
        "\n",
        "  plt.figure(figsize=(8,8))\n",
        "\n",
        "  plt.subplot(2,1,1)\n",
        "  plt.plot(total_acc, label = \"training_accuracy\")\n",
        "  plt.plot(total_val_acc, label = \"validation_accuracy\")\n",
        "  plt.plot([initial_epochs-1, initial_epochs-1], plt.ylim() , label = \"start_fine_tuning\")\n",
        "\n",
        "  plt.legend(loc = \"lower right\")\n",
        "  plt.title(\"Accuracy curves\")\n",
        "\n",
        "  plt.subplot(2,1,2)\n",
        "  plt.plot(total_loss, label = \"training_loss\")\n",
        "  plt.plot(total_val_loss, label = \"validation_loss\")\n",
        "  plt.plot([initial_epochs-1, initial_epochs-1], plt.ylim() , label = \"start_fine_tuning\")\n",
        "  plt.xlabel(\"epochs\")\n",
        "  plt.legend(loc = \"upper right\")\n",
        "  plt.title(\"Loss curves\")\n",
        "  plt.show()\n",
        "  "
      ],
      "metadata": {
        "id": "nv-FUioa_Tnz"
      },
      "execution_count": null,
      "outputs": []
    },
    {
      "cell_type": "code",
      "source": [
        "compare_histories(history_02, history_fine_10_percent_data_aug)"
      ],
      "metadata": {
        "colab": {
          "base_uri": "https://localhost:8080/",
          "height": 568
        },
        "id": "uDvuo-6tCkte",
        "outputId": "90e85550-63fd-4545-a1f1-a95edf8e79bc"
      },
      "execution_count": null,
      "outputs": [
        {
          "output_type": "stream",
          "name": "stdout",
          "text": [
            "11\n",
            "[0.35733333230018616, 0.699999988079071, 0.7559999823570251, 0.7933333516120911, 0.8133333325386047, 0.846666693687439, 0.8519999980926514, 0.8506666421890259, 0.8613333106040955, 0.8399999737739563, 0.8453333377838135]\n"
          ]
        },
        {
          "output_type": "display_data",
          "data": {
            "text/plain": [
              "<Figure size 576x576 with 2 Axes>"
            ],
            "image/png": "[encoded data removed]"
          },
          "metadata": {
            "needs_background": "light"
          }
        }
      ]
    },
    {
      "cell_type": "code",
      "source": [
        "# Download and unzip 10 classes of data with all images\n",
        "!wget https://storage.googleapis.com/ztm_tf_course/food_vision/10_food_classes_all_data.zip \n",
        "unzip_data(\"10_food_classes_all_data.zip\")\n",
        "\n",
        "# Setup data directories\n",
        "train_dir = \"10_food_classes_all_data/train/\"\n",
        "test_dir = \"10_food_classes_all_data/test/\""
      ],
      "metadata": {
        "id": "n5DNgcaACrQ_",
        "colab": {
          "base_uri": "https://localhost:8080/"
        },
        "outputId": "1f678e28-2bd0-46db-949f-6be340ab56e0"
      },
      "execution_count": null,
      "outputs": [
        {
          "output_type": "stream",
          "name": "stdout",
          "text": [
            "--2023-02-05 12:32:38--  https://storage.googleapis.com/ztm_tf_course/food_vision/10_food_classes_all_data.zip\n",
            "Resolving storage.googleapis.com (storage.googleapis.com)... 108.177.127.128, 172.217.218.128, 142.250.153.128, ...\n",
            "Connecting to storage.googleapis.com (storage.googleapis.com)|108.177.127.128|:443... connected.\n",
            "HTTP request sent, awaiting response... 200 OK\n",
            "Length: 519183241 (495M) [application/zip]\n",
            "Saving to: ‘10_food_classes_all_data.zip.1’\n",
            "\n",
            "10_food_classes_all 100%[===================>] 495.13M  40.1MB/s    in 13s     \n",
            "\n",
            "2023-02-05 12:32:51 (38.5 MB/s) - ‘10_food_classes_all_data.zip.1’ saved [519183241/519183241]\n",
            "\n"
          ]
        }
      ]
    },
    {
      "cell_type": "code",
      "source": [
        "walk_through_dir(\"10_food_classes_all_data\")"
      ],
      "metadata": {
        "colab": {
          "base_uri": "https://localhost:8080/"
        },
        "id": "OgIqsvuDu0ry",
        "outputId": "537ee55c-ed2c-4fd0-ea04-7fd1b8231d47"
      },
      "execution_count": null,
      "outputs": [
        {
          "output_type": "stream",
          "name": "stdout",
          "text": [
            "There are 2 directories and 0 images in '10_food_classes_all_data'.\n",
            "There are 10 directories and 0 images in '10_food_classes_all_data/test'.\n",
            "There are 0 directories and 250 images in '10_food_classes_all_data/test/steak'.\n",
            "There are 0 directories and 250 images in '10_food_classes_all_data/test/hamburger'.\n",
            "There are 0 directories and 250 images in '10_food_classes_all_data/test/chicken_wings'.\n",
            "There are 0 directories and 250 images in '10_food_classes_all_data/test/pizza'.\n",
            "There are 0 directories and 250 images in '10_food_classes_all_data/test/fried_rice'.\n",
            "There are 0 directories and 250 images in '10_food_classes_all_data/test/ice_cream'.\n",
            "There are 0 directories and 250 images in '10_food_classes_all_data/test/chicken_curry'.\n",
            "There are 0 directories and 250 images in '10_food_classes_all_data/test/ramen'.\n",
            "There are 0 directories and 250 images in '10_food_classes_all_data/test/grilled_salmon'.\n",
            "There are 0 directories and 250 images in '10_food_classes_all_data/test/sushi'.\n",
            "There are 10 directories and 0 images in '10_food_classes_all_data/train'.\n",
            "There are 0 directories and 750 images in '10_food_classes_all_data/train/steak'.\n",
            "There are 0 directories and 750 images in '10_food_classes_all_data/train/hamburger'.\n",
            "There are 0 directories and 750 images in '10_food_classes_all_data/train/chicken_wings'.\n",
            "There are 0 directories and 750 images in '10_food_classes_all_data/train/pizza'.\n",
            "There are 0 directories and 750 images in '10_food_classes_all_data/train/fried_rice'.\n",
            "There are 0 directories and 750 images in '10_food_classes_all_data/train/ice_cream'.\n",
            "There are 0 directories and 750 images in '10_food_classes_all_data/train/chicken_curry'.\n",
            "There are 0 directories and 750 images in '10_food_classes_all_data/train/ramen'.\n",
            "There are 0 directories and 750 images in '10_food_classes_all_data/train/grilled_salmon'.\n",
            "There are 0 directories and 750 images in '10_food_classes_all_data/train/sushi'.\n"
          ]
        }
      ]
    },
    {
      "cell_type": "code",
      "source": [
        "import tensorflow as tf\n",
        "IMG_SIZE = (224, 224)\n",
        "train_data_10_classes_full = tf.keras.preprocessing.image_dataset_from_directory(train_dir,\n",
        "                                                                                 label_mode=\"categorical\",\n",
        "                                                                                 image_size=IMG_SIZE)\n",
        "\n",
        "# Note: this is the same test dataset we've been using for the previous modelling experiments\n",
        "test_data = tf.keras.preprocessing.image_dataset_from_directory(test_dir,\n",
        "                                                                label_mode=\"categorical\",\n",
        "                                                                image_size=IMG_SIZE)"
      ],
      "metadata": {
        "colab": {
          "base_uri": "https://localhost:8080/"
        },
        "id": "pJJ9_spEu4rN",
        "outputId": "ba5cda6c-1b92-4be7-80ed-27f1da09b992"
      },
      "execution_count": null,
      "outputs": [
        {
          "output_type": "stream",
          "name": "stdout",
          "text": [
            "Found 7500 files belonging to 10 classes.\n",
            "Found 2500 files belonging to 10 classes.\n"
          ]
        }
      ]
    },
    {
      "cell_type": "code",
      "source": [
        "model_data_aug_10p_ft"
      ],
      "metadata": {
        "colab": {
          "base_uri": "https://localhost:8080/"
        },
        "id": "p7GnglfzyQjG",
        "outputId": "46b55517-316b-48f4-fe77-e69d3f3ac0f8"
      },
      "execution_count": null,
      "outputs": [
        {
          "output_type": "execute_result",
          "data": {
            "text/plain": [
              "[0.5888469815254211, 0.847599983215332]"
            ]
          },
          "metadata": {},
          "execution_count": 58
        }
      ]
    },
    {
      "cell_type": "code",
      "source": [
        "model_02.load_weights(checkpoint_path)"
      ],
      "metadata": {
        "colab": {
          "base_uri": "https://localhost:8080/"
        },
        "id": "QZI0i7RDzQpt",
        "outputId": "a98f1a53-eda9-4b91-9cbc-10a3e4aaf5c5"
      },
      "execution_count": null,
      "outputs": [
        {
          "output_type": "execute_result",
          "data": {
            "text/plain": [
              "<tensorflow.python.training.tracking.util.CheckpointLoadStatus at 0x7fc80e90cb50>"
            ]
          },
          "metadata": {},
          "execution_count": 59
        }
      ]
    },
    {
      "cell_type": "code",
      "source": [
        "model_02.evaluate(test_data)"
      ],
      "metadata": {
        "colab": {
          "base_uri": "https://localhost:8080/"
        },
        "id": "KChyCfM7zcza",
        "outputId": "f4aae002-4862-4abc-d10b-aacdac4e8fd7"
      },
      "execution_count": null,
      "outputs": [
        {
          "output_type": "stream",
          "name": "stdout",
          "text": [
            "79/79 [==============================] - 6s 71ms/step - loss: 0.6236 - accuracy: 0.8420\n"
          ]
        },
        {
          "output_type": "execute_result",
          "data": {
            "text/plain": [
              "[0.6235700845718384, 0.8420000076293945]"
            ]
          },
          "metadata": {},
          "execution_count": 60
        }
      ]
    },
    {
      "cell_type": "code",
      "source": [
        "model_02.compile(\n",
        "    loss = \"categorical_crossentropy\",\n",
        "    optimizer = tf.keras.optimizers.Adam(learning_rate = 0.0001),\n",
        "    metrics = \"accuracy\"\n",
        ")"
      ],
      "metadata": {
        "id": "WNQDdQE1ziPY"
      },
      "execution_count": null,
      "outputs": []
    },
    {
      "cell_type": "code",
      "source": [
        "history_full_data_aug = model_02.fit(\n",
        "    train_data_10_classes_full,\n",
        "    epochs = initial_epochs + 5,\n",
        "    steps_per_epoch = len(train_data_10_classes_full),\n",
        "    validation_data = test_data,\n",
        "    validation_steps = int(0.25 * len(test_data)),\n",
        "    initial_epoch = history_02.epoch[-1], # history of feature extraction model \n",
        "    callbacks = [create_tensorboard_callback(dir_name = \"transfer_learning\",experiment_name = \"fine_tuned_full_data\")]\n",
        ")"
      ],
      "metadata": {
        "colab": {
          "base_uri": "https://localhost:8080/"
        },
        "id": "1bZS3DxGHZY9",
        "outputId": "a4ec8add-9873-49de-807d-f7ef3f422436"
      },
      "execution_count": null,
      "outputs": [
        {
          "output_type": "stream",
          "name": "stdout",
          "text": [
            "Saving TensorBoard log files to: transfer_learning/fine_tuned_full_data/20230205-123517\n",
            "Epoch 5/10\n",
            "235/235 [==============================] - 66s 254ms/step - loss: 0.8209 - accuracy: 0.7679 - val_loss: 0.5767 - val_accuracy: 0.8487\n",
            "Epoch 6/10\n",
            "235/235 [==============================] - 53s 223ms/step - loss: 0.7638 - accuracy: 0.7736 - val_loss: 0.5385 - val_accuracy: 0.8553\n",
            "Epoch 7/10\n",
            "235/235 [==============================] - 50s 209ms/step - loss: 0.7197 - accuracy: 0.7867 - val_loss: 0.4714 - val_accuracy: 0.8766\n",
            "Epoch 8/10\n",
            "235/235 [==============================] - 45s 190ms/step - loss: 0.6877 - accuracy: 0.7955 - val_loss: 0.4660 - val_accuracy: 0.8701\n",
            "Epoch 9/10\n",
            "235/235 [==============================] - 42s 176ms/step - loss: 0.6616 - accuracy: 0.8031 - val_loss: 0.4602 - val_accuracy: 0.8586\n",
            "Epoch 10/10\n",
            "235/235 [==============================] - 41s 173ms/step - loss: 0.6465 - accuracy: 0.8065 - val_loss: 0.4267 - val_accuracy: 0.8750\n"
          ]
        }
      ]
    },
    {
      "cell_type": "code",
      "source": [
        "results_fine_tuned_full = model_02.evaluate(test_data)\n",
        "results_fine_tuned_full"
      ],
      "metadata": {
        "colab": {
          "base_uri": "https://localhost:8080/"
        },
        "id": "7ky0VEsBIeeJ",
        "outputId": "e3ac6182-28c4-4e17-c669-89ab0e88ff6e"
      },
      "execution_count": null,
      "outputs": [
        {
          "output_type": "stream",
          "name": "stdout",
          "text": [
            "79/79 [==============================] - 6s 70ms/step - loss: 0.4313 - accuracy: 0.8784\n"
          ]
        },
        {
          "output_type": "execute_result",
          "data": {
            "text/plain": [
              "[0.4313288927078247, 0.8784000277519226]"
            ]
          },
          "metadata": {},
          "execution_count": 66
        }
      ]
    },
    {
      "cell_type": "code",
      "source": [
        "model_data_aug_10p_ft"
      ],
      "metadata": {
        "colab": {
          "base_uri": "https://localhost:8080/"
        },
        "id": "pPos8UDsKPO2",
        "outputId": "68927b40-91e3-4a3d-fde7-20fb0aaf77ed"
      },
      "execution_count": null,
      "outputs": [
        {
          "output_type": "execute_result",
          "data": {
            "text/plain": [
              "[0.5888469815254211, 0.847599983215332]"
            ]
          },
          "metadata": {},
          "execution_count": 67
        }
      ]
    },
    {
      "cell_type": "code",
      "source": [
        "compare_histories(history_02, history_full_data_aug)"
      ],
      "metadata": {
        "colab": {
          "base_uri": "https://localhost:8080/",
          "height": 568
        },
        "id": "HUkBCESWKXld",
        "outputId": "b621bf46-e3fb-45c5-8fd4-534622e48e90"
      },
      "execution_count": null,
      "outputs": [
        {
          "output_type": "stream",
          "name": "stdout",
          "text": [
            "11\n",
            "[0.35733333230018616, 0.699999988079071, 0.7559999823570251, 0.7933333516120911, 0.8133333325386047, 0.7678666710853577, 0.7735999822616577, 0.7866666913032532, 0.7954666614532471, 0.8030666708946228, 0.8065333366394043]\n"
          ]
        },
        {
          "output_type": "display_data",
          "data": {
            "text/plain": [
              "<Figure size 576x576 with 2 Axes>"
            ],
            "image/png": "[encoded data removed]"
          },
          "metadata": {
            "needs_background": "light"
          }
        }
      ]
    },
    {
      "cell_type": "code",
      "source": [
        "!tensorboard dev upload --logdir ./transfer_learning \\\n",
        "  --name \"Tensorflow models with 10 food101 data sets\" \\\n",
        "  --description \"Testing the effect of the amount of data on model accuracy and fine tuning above feature extraction model\" \\\n",
        "  --one_shot "
      ],
      "metadata": {
        "colab": {
          "base_uri": "https://localhost:8080/"
        },
        "id": "Z6-1ik4sfWmo",
        "outputId": "243f3c8d-f5c0-47bb-b51b-f7e7a21066b6"
      },
      "execution_count": null,
      "outputs": [
        {
          "output_type": "stream",
          "name": "stdout",
          "text": [
            "\n",
            "***** TensorBoard Uploader *****\n",
            "\n",
            "This will upload your TensorBoard logs to https://tensorboard.dev/ from\n",
            "the following directory:\n",
            "\n",
            "./transfer_learning\n",
            "\n",
            "This TensorBoard will be visible to everyone. Do not upload sensitive\n",
            "data.\n",
            "\n",
            "Your use of this service is subject to Google's Terms of Service\n",
            "<https://policies.google.com/terms> and Privacy Policy\n",
            "<https://policies.google.com/privacy>, and TensorBoard.dev's Terms of Service\n",
            "<https://tensorboard.dev/policy/terms/>.\n",
            "\n",
            "This notice will not be shown again while you are logged into the uploader.\n",
            "To log out, run `tensorboard dev auth revoke`.\n",
            "\n",
            "Continue? (yes/NO) yes\n",
            "\n",
            "Please visit this URL to authorize this application: https://accounts.google.com/o/oauth2/auth?response_type=code&client_id=373649185512-8v619h5kft38l4456nm2dj4ubeqsrvh6.apps.googleusercontent.com&redirect_uri=urn%3Aietf%3Awg%3Aoauth%3A2.0%3Aoob&scope=openid+https%3A%2F%2Fwww.googleapis.com%2Fauth%2Fuserinfo.email&state=RsoMlS0ZySMruu1kbCjofU6KfjF9ix&prompt=consent&access_type=offline\n",
            "Enter the authorization code: 4/1AWtgzh4l2ij53INvKrKnrqWjWtD2ktwsshpMiRtTeM2xIJU9UAcfE5Dcoek\n",
            "\n",
            "\n",
            "New experiment created. View your TensorBoard at: https://tensorboard.dev/experiment/QN3C4DcnRtWi3wnlRzY21g/\n",
            "\n",
            "\u001b[1m[2023-02-05T12:49:55]\u001b[0m Started scanning logdir.\n",
            "\u001b[1m[2023-02-05T12:50:01]\u001b[0m Total uploaded: 168 scalars, 0 tensors, 5 binary objects (4.2 MB)\n",
            "\u001b[1m[2023-02-05T12:50:01]\u001b[0m Done scanning logdir.\n",
            "\n",
            "\n",
            "Done. View your TensorBoard at https://tensorboard.dev/experiment/QN3C4DcnRtWi3wnlRzY21g/\n"
          ]
        }
      ]
    },
    {
      "cell_type": "code",
      "source": [
        "!tensorboard dev list"
      ],
      "metadata": {
        "colab": {
          "base_uri": "https://localhost:8080/"
        },
        "id": "Yy5VPcdomM4U",
        "outputId": "e34bc688-7f80-4f6d-c5ba-324197d50830"
      },
      "execution_count": null,
      "outputs": [
        {
          "output_type": "stream",
          "name": "stdout",
          "text": [
            "https://tensorboard.dev/experiment/QN3C4DcnRtWi3wnlRzY21g/\n",
            "\tName                 Tensorflow models with 10 food101 data sets\n",
            "\tDescription          Testing the effect of the amount of data on model accuracy and fine tuning above feature extraction model\n",
            "\tId                   QN3C4DcnRtWi3wnlRzY21g\n",
            "\tCreated              2023-02-05 12:49:54 (12 minutes ago)\n",
            "\tUpdated              2023-02-05 12:50:01 (12 minutes ago)\n",
            "\tRuns                 10\n",
            "\tTags                 5\n",
            "\tScalars              168\n",
            "\tTensor bytes         0\n",
            "\tBinary object bytes  4406830\n",
            "Total: 1 experiment(s)\n"
          ]
        }
      ]
    },
    {
      "cell_type": "code",
      "source": [
        "# !tensorboard dev delete --experimentid \"\" #id of experiment to delete"
      ],
      "metadata": {
        "id": "Qcn7Y4yPq4fQ"
      },
      "execution_count": null,
      "outputs": []
    },
    {
      "cell_type": "code",
      "source": [],
      "metadata": {
        "id": "fA2Agpp7rGdW"
      },
      "execution_count": null,
      "outputs": []
    }
  ],
  "metadata": {
    "accelerator": "GPU",
    "colab": {
      "provenance": [],
      "authorship_tag": "ABX9TyOVWsHoLwvVGtKKIpJcRDi/",
      "include_colab_link": true
    },
    "gpuClass": "standard",
    "kernelspec": {
      "display_name": "Python 3",
      "name": "python3"
    },
    "language_info": {
      "name": "python"
    }
  },
  "nbformat": 4,
  "nbformat_minor": 0
}